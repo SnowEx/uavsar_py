{
 "cells": [
  {
   "cell_type": "markdown",
   "metadata": {},
   "source": [
    "# Creating ASF Credentials on your Computer\n",
    "\n",
    "In order to download imagery from the alaska satellite facility or jet propulsion laboratory you will need to create a special .netrc file in your home directory. This file will contain your username and password and will be automatically accessed when downloading imagery. If you got a HTTP 401 error when trying to download using UavsarScene or UavsarImage you will need to ensure you have this file. The period (.) in front of the name is intentional and means it will not appear in your file explorer. For more information on netrc files click [here](https://www.gnu.org/software/inetutils/manual/html_node/The-_002enetrc-file.html).\n",
    "\n",
    "This notebook will check for the existence of this file already and create a new one if you don't already have one on your computer."
   ]
  },
  {
   "cell_type": "code",
   "execution_count": 2,
   "metadata": {},
   "outputs": [],
   "source": [
    "import os\n",
    "from uavsar_pytools.uavsar_tools import create_netrc"
   ]
  },
  {
   "cell_type": "code",
   "execution_count": 4,
   "metadata": {},
   "outputs": [
    {
     "name": "stdout",
     "output_type": "stream",
     "text": [
      "/Users/zachkeskinen/.netrc\n"
     ]
    }
   ],
   "source": [
    "file_path = os.path.expanduser('~/.netrc') # the tilde ~ symbol represents your home directory. The os.path.expanduser will expand this based on your operating system to the correct filepath.\n",
    "print(file_path)"
   ]
  },
  {
   "cell_type": "markdown",
   "metadata": {},
   "source": [
    "### Check for netrc file\n",
    "\n",
    "Let see if you already have a netrc file on your computer. Many programs use these and you may already have one.\n",
    "\n",
    "If you do have a netrc file then uncomment the lines below and run again to see the content of the file. Warning these will be usernames and passwords.\n",
    "\n",
    "The output we are looking for to access asf is something like: `machine urs.earthdata.nasa.gov\\n', 'login YOURUSENAME\\n', 'password YOURPASSWORD\\n`\n",
    "\n",
    "Your output will vary depending on the python IDE or interperter you are using. The \\n is just the symbol for a new line in python. The `machine` part tells python what website each subsequent username and password corresponds to."
   ]
  },
  {
   "cell_type": "code",
   "execution_count": 16,
   "metadata": {},
   "outputs": [],
   "source": [
    "netrc_exist = os.path.exists(file_path)\n",
    "# print(f'Does the netrc file already exist? {netrc_exist}.')\n",
    "# if netrc_exist:\n",
    "#     with open(file_path) as file:\n",
    "#         lines = file.readlines()\n",
    "#         print(lines)"
   ]
  },
  {
   "cell_type": "markdown",
   "metadata": {},
   "source": [
    "### Generate a new netrc file.\n",
    "\n",
    "Now if your file existed and your password and username above were correct you should be good to download! Otherwise we will need to either add lines to that netrc file or create a new one and fill it.\n",
    "\n",
    "The code below will ask you to enter your asfusername and password. It will then either create a new netrc file if one doesn't exist or append your login in information to the end of a pre-existing file."
   ]
  },
  {
   "cell_type": "code",
   "execution_count": 4,
   "metadata": {},
   "outputs": [],
   "source": [
    "create_netrc()"
   ]
  }
 ],
 "metadata": {
  "interpreter": {
   "hash": "912871c95ac837c58a6adb91d4ea9d6a49298dc259f704a8d3493a4047c15402"
  },
  "kernelspec": {
   "display_name": "Python 3 (ipykernel)",
   "language": "python",
   "name": "python3"
  },
  "language_info": {
   "codemirror_mode": {
    "name": "ipython",
    "version": 3
   },
   "file_extension": ".py",
   "mimetype": "text/x-python",
   "name": "python",
   "nbconvert_exporter": "python",
   "pygments_lexer": "ipython3",
   "version": "3.9.12"
  }
 },
 "nbformat": 4,
 "nbformat_minor": 4
}
