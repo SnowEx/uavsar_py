{
 "cells": [
  {
   "cell_type": "markdown",
   "id": "794bca21-2cd7-4bee-94d6-03acc2e95a33",
   "metadata": {},
   "source": [
    "# ```uavsar_pytools``` Tutorial\n",
    "\n",
    "In this notebook, we will display the basic functionality of using ```asf_search``` to find UAVSAR data products, and ```uavsar_pytools``` convert those products in analysis ready GeoTiifs. UAVSAR files come in a flat binary format, which are not ready for analysis. This package allows for the systematic conversion of binary files into GeoTiffs using information from the UAVSAR annoation file."
   ]
  },
  {
   "cell_type": "code",
   "execution_count": null,
   "id": "5a7de0e2-6f02-460f-bc2e-cf60f3f4bf8a",
   "metadata": {},
   "outputs": [],
   "source": [
    "import os, sys\n",
    "\n",
    "import asf_search as asf\n",
    "from uavsar_pytools.UavsarImage import UavsarImage #single image class\n",
    "from uavsar_pytools.uavsar_tools import grd_tiff_convert #single image class\n",
    "from uavsar_pytools.UavsarScene import UavsarScene # binary convert to .tiffs\n",
    "from datetime import datetime\n",
    "import progressbar\n",
    "from tqdm import tqdm\n",
    "import logging\n",
    "import glob\n",
    "import requests\n",
    "import zipfile\n",
    "#from uavsar_pytools.convert import convert_image\n",
    "#from uavsar_pytools.download import download_image\n",
    "\n",
    "# for map to generate wkt\n",
    "from folium import Map\n",
    "from folium.plugins import Draw\n",
    "import geopandas as gpd\n",
    "\n",
    "# plotting libraries\n",
    "import numpy as np #for log10, mean, percentile, power\n",
    "import rasterio as rio\n",
    "from rasterio.plot import show # plotting raster data\n",
    "from rasterio.plot import show_hist #histograms of raster data\n",
    "import matplotlib.pyplot as plt "
   ]
  },
  {
   "cell_type": "markdown",
   "id": "6e2a9a3f-6082-45f2-b092-c72c710f39d7",
   "metadata": {
    "tags": []
   },
   "source": [
    "## Finding UAVSAR data\n",
    "\n",
    "UAVSAR data is located in multiple places online. All data types are available through JPL. Ground Projected PolSAR and InSAR are available at ASF. We'll query to the ASF API to systematiically download images."
   ]
  },
  {
   "cell_type": "markdown",
   "id": "a4010c81-9c8f-47cd-8167-d0f750ca83e5",
   "metadata": {},
   "source": [
    "# ASF Search Parameters\n",
    "In this cell, describe the different search parameters for the ```asf.search``` function. Describe how ```_GRD``` very important\n",
    "                     \n",
    "                     platform = 'UAVSAR',\n",
    "                     processingLevel = (['INTERFEROMETRY_GRD']),\n",
    "                     intersectsWith = sagehen_wkt,\n",
    "                     start = start_date,\n",
    "                     end = end_date)"
   ]
  },
  {
   "cell_type": "markdown",
   "id": "6c66bfae",
   "metadata": {
    "tags": []
   },
   "source": [
    "## Create Folium map to generate at WKT file for ```intersectsWith```\n",
    "\n",
    "The ```asf_search``` package uses the Well-known text or [WKT](https://en.wikipedia.org/wiki/Well-known_text_representation_of_geometry) files to indentify areas of interest (AOI) to search thier database. The [Folium](https://python-visualization.github.io/folium/#:~:text=folium%20makes%20it%20easy%20to,as%20markers%20on%20the%20map.) map created below allows users to generate a WKT by drawing a polygon directly on the map and exporting it to thier local machine. instead of having to write it out by hand. \n",
    "\n",
    "Another tool for generating WKT files is the [ASF Vertex](https://search.asf.alaska.edu/#/) platform.\n",
    "\n",
    "The [UAVSAR Data Search](https://uavsar.jpl.nasa.gov/cgi-bin/data.pl) shows the extent of all UAVSAR swaths. This is a good place to start to base your area of interest (AOI) search on using the Folium map.\n",
    "\n",
    "Using the mouse, select an area on the screen you want to search for data and hit the export button. This will export a WKT file with the bounds you drew into you working directory."
   ]
  },
  {
   "cell_type": "code",
   "execution_count": null,
   "id": "eee8b622-885a-4158-8cda-a874787ad61c",
   "metadata": {},
   "outputs": [],
   "source": [
    "# show map\n",
    "m = Map()\n",
    "draw = Draw(export = True, filename = 'asf_wkt.geojson')\n",
    "draw.add_to(m)\n",
    "m"
   ]
  },
  {
   "cell_type": "markdown",
   "id": "1d6e9947-de7a-404e-b90c-571a55e80c80",
   "metadata": {},
   "source": [
    "## Reading the WKT\n",
    "In this case we're searching for the \"Donner\" UAVSAR flight line, just north of Lake Tahoe. Below we'll read the WKT we just downloaded back into our python environment using ```geopandas``` and print it to see how the WKT files are structured."
   ]
  },
  {
   "cell_type": "code",
   "execution_count": null,
   "id": "befa3871-4dbb-49b9-bfe2-85a3f79c1bb0",
   "metadata": {},
   "outputs": [],
   "source": [
    "sagehen_wkt = gpd.read_file('/path/to/asf_wkt.geojson').to_wkt().loc[0, 'geometry']\n",
    "print(sagehen_wkt)"
   ]
  },
  {
   "cell_type": "markdown",
   "id": "70e79ce0-df82-489f-b577-d8c572652911",
   "metadata": {},
   "source": [
    "## Define ```datetime``` for Search\n",
    "We'll be searching for the UAVSAR pair between 2/20-2/26. Just need to search for day that intersects. "
   ]
  },
  {
   "cell_type": "code",
   "execution_count": null,
   "id": "4459e757",
   "metadata": {},
   "outputs": [],
   "source": [
    "# define search parameters for sierra flight line\n",
    "start_date = datetime.strptime('2020-02-20 11:00:00', '%Y-%m-%d %H:%M:%S') \n",
    "end_date = datetime.strptime('2020-02-21 11:00:00', '%Y-%m-%d %H:%M:%S') "
   ]
  },
  {
   "cell_type": "markdown",
   "id": "eb0d9c60-b033-4933-9a88-7d2a345d8d2a",
   "metadata": {},
   "source": [
    "## Seach for data\n",
    "To query the API, we'll input search parameters we just generated into the function. There is a lot much functionality within ```asf.search```, which can be found on thier Github(link)."
   ]
  },
  {
   "cell_type": "code",
   "execution_count": null,
   "id": "de8c0dc4-609e-4538-80dc-50f0c7848c28",
   "metadata": {},
   "outputs": [],
   "source": [
    "# search for data\n",
    "results = asf.search(platform = 'UAVSAR',\n",
    "                     processingLevel = (['INTERFEROMETRY_GRD']),\n",
    "                     intersectsWith = sagehen_wkt,\n",
    "                     start = start_date,\n",
    "                     end = end_date)\n",
    "\n",
    "print(f'{len(results)} product(s) found')"
   ]
  },
  {
   "cell_type": "code",
   "execution_count": null,
   "id": "f840fe10-e00b-4eec-ab21-16faa256a405",
   "metadata": {},
   "outputs": [],
   "source": [
    "# describe this whole \"class\" thing...\n",
    "type(results)"
   ]
  },
  {
   "cell_type": "code",
   "execution_count": null,
   "id": "40cd7263-2643-4d93-9d95-9573e4ac5b93",
   "metadata": {},
   "outputs": [],
   "source": [
    "# pull out the first result from the list and print it\n",
    "first = results[0]\n",
    "print(first.properties)"
   ]
  },
  {
   "cell_type": "markdown",
   "id": "e20b6817-5c4d-4daa-83ad-e83fafb11fff",
   "metadata": {},
   "source": [
    "## Define URLs for Download\n",
    "describe this class thing and how we uses the ```properties``` call to pull out the url."
   ]
  },
  {
   "cell_type": "code",
   "execution_count": null,
   "id": "a4388089-b0f3-4be8-8519-f075fb148cfc",
   "metadata": {},
   "outputs": [],
   "source": [
    "# define the URLs and print, decribe this functionality is within the ASFproduct class\n",
    "first_url = first.properties['url']\n",
    "print(first_url)"
   ]
  },
  {
   "cell_type": "code",
   "execution_count": null,
   "id": "35d99006-753a-47cb-8f13-5106a5db676d",
   "metadata": {},
   "outputs": [],
   "source": [
    "# define outpout dir and list files\n",
    "os.chdir('/path/to/home/directory/')\n",
    "output_dir = '/path/to/where/the/files/will/be/stored'"
   ]
  },
  {
   "cell_type": "markdown",
   "id": "e5560926-0bd3-40fc-8d96-71d5b6d9701d",
   "metadata": {},
   "source": [
    "# Data Download and Conversion\n",
    "Using the ```uavsar_pytools``` package, we'll now download the data. The zip file URL contains multiple datasets, so we'll use the ```UavsarScence``` function. As stated earlier, this data traditionally comes in a binary format. ```uavsar_pytools``` nativiely downloads, formats, and converts this data in analysis ready rasters projected in WSG-84 Lat/Lon (maybe more infor here).\n",
    "\n",
    "To use it, you just need to input your url into the ```UavsarScene``` function, and a path to where you want the data output to be. Once that object is created, use the ```url_to_tiffs``` funciton to begin the process. Data has to download, but there's a progress bar to keep tabs. Once the data is downloaded the conversion happens within a miniute or so."
   ]
  },
  {
   "cell_type": "code",
   "execution_count": null,
   "id": "4f5b68ae-d219-4e89-b3cc-d4f954ac0a13",
   "metadata": {},
   "outputs": [],
   "source": [
    "# define image to download\n",
    "# download_image(url = first_url, output_dir = output_dir)\n",
    "scene = UavsarScene(url = first_url, work_dir='./data/imgs/')\n",
    "scene.url_to_tiffs()"
   ]
  },
  {
   "cell_type": "markdown",
   "id": "6bde57f2-141a-4d40-8115-b2723e5e29d3",
   "metadata": {},
   "source": [
    "# Test Plots\n",
    "Now that the data has been downloaded and converted to GeoTiffs, let's test plot to make sure everything worked properly."
   ]
  },
  {
   "cell_type": "code",
   "execution_count": null,
   "id": "0691831f-a4dc-441f-8864-7df31c0e8a1e",
   "metadata": {},
   "outputs": [],
   "source": [
    "# search for unw and ann files for download test\n",
    "# os.chdir('/Users/jacktarricone/Desktop/zach_test/slc/data')\n",
    "cor = glob.glob(os.path.abspath(\"data/imgs/tiffs/*HH*cor.grd.tiff\"))\n",
    "print(cor[0])"
   ]
  },
  {
   "cell_type": "code",
   "execution_count": null,
   "id": "34f3747c-cdb9-43f8-bc88-ae75ae486644",
   "metadata": {},
   "outputs": [],
   "source": [
    "# print meta data to test if images were georeferenced correctly\n",
    "cor_rast = rio.open(cor[0])\n",
    "meta_data = cor_rast.profile\n",
    "print(meta_data)"
   ]
  },
  {
   "cell_type": "code",
   "execution_count": null,
   "id": "4a1f3fe3-1b69-4eb6-9c19-c47fe1cdb7b5",
   "metadata": {},
   "outputs": [],
   "source": [
    "# histogram to make sure 0's were converted to NaN's\n",
    "show_hist(cor_rast, bins = 50)"
   ]
  },
  {
   "cell_type": "code",
   "execution_count": null,
   "id": "3ba3a364-f0a5-4258-b1d7-e37445641342",
   "metadata": {},
   "outputs": [],
   "source": [
    "fig, ax = plt.subplots(figsize = (10,7))\n",
    "ax.set_title(\"Sagehen Coherence\",fontsize = 16);\n",
    "show((cor_rast, 1), cmap = 'viridis'); # info from histogram"
   ]
  },
  {
   "cell_type": "markdown",
   "id": "d6b52227-3ca7-4011-831f-a2b58620284b",
   "metadata": {},
   "source": [
    "# DL/Convert Single File using ```UavsarImage```\n",
    "We just showed how to use ```UavsarImage```, which is for bulk zip file DL/conversion. Now we'll show ```UavsarImage```, which provides the same functionality for a single image and has native plotting utility."
   ]
  },
  {
   "cell_type": "code",
   "execution_count": null,
   "id": "c449593d-6dc4-436a-918b-21b95b802c4a",
   "metadata": {},
   "outputs": [],
   "source": [
    "# define outpout dir and list files\n",
    "os.chdir('/path/to/working/dir/')\n",
    "single_url = 'http://uavsar.asfdaac.alaska.edu/UA_donner_03904_20009-026_20014-003_0007d_s01_L090_01/donner_03904_20009-026_20014-003_0007d_s01_L090HH_01.cor.grd'\n",
    "image = UavsarImage(url = single_url, work_dir = './data/imgs/')\n",
    "image.url_to_tiff()\n",
    "image.show()"
   ]
  },
  {
   "cell_type": "code",
   "execution_count": null,
   "id": "a0f4512c-0f91-4f10-a48d-89fb5757c618",
   "metadata": {},
   "outputs": [],
   "source": []
  }
 ],
 "metadata": {
  "kernelspec": {
   "display_name": "Python [conda env:uavsar_pytools]",
   "language": "python",
   "name": "conda-env-uavsar_pytools-py"
  },
  "language_info": {
   "codemirror_mode": {
    "name": "ipython",
    "version": 3
   },
   "file_extension": ".py",
   "mimetype": "text/x-python",
   "name": "python",
   "nbconvert_exporter": "python",
   "pygments_lexer": "ipython3",
   "version": "3.10.2"
  }
 },
 "nbformat": 4,
 "nbformat_minor": 5
}
