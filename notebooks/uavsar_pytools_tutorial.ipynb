{
 "cells": [
  {
   "cell_type": "markdown",
   "id": "794bca21-2cd7-4bee-94d6-03acc2e95a33",
   "metadata": {},
   "source": [
    "# ```uavsar_pytools``` Tutorial\n",
    "\n",
    "In this notebook, we will display the basic functionality of using ```asf_search``` to find UAVSAR data products, and ```uavsar_pytools``` convert those products in analysis ready GeoTiifs. UAVSAR files come in a flat binary format, which are not ready for analysis. This package allows for the systematic conversion of binary files into GeoTiffs using information from the UAVSAR annoation file."
   ]
  },
  {
   "cell_type": "code",
   "execution_count": 1,
   "id": "5a7de0e2-6f02-460f-bc2e-cf60f3f4bf8a",
   "metadata": {},
   "outputs": [],
   "source": [
    "import os, sys\n",
    "\n",
    "import asf_search as asf\n",
    "from uavsar_pytools import UavsarImage #single image class\n",
    "from uavsar_pytools.uavsar_tools import grd_tiff_convert #single image class\n",
    "from uavsar_pytools import UavsarScene # binary convert to .tiffs\n",
    "from datetime import datetime\n",
    "import progressbar\n",
    "from tqdm import tqdm\n",
    "import logging\n",
    "import glob\n",
    "import requests\n",
    "import zipfile\n",
    "#from uavsar_pytools.convert import convert_image\n",
    "#from uavsar_pytools.download import download_image\n",
    "\n",
    "# for map to generate wkt\n",
    "from folium import Map\n",
    "from folium.plugins import Draw\n",
    "import geopandas as gpd\n",
    "\n",
    "# plotting libraries\n",
    "import numpy as np #for log10, mean, percentile, power\n",
    "import rasterio as rio\n",
    "from rasterio.plot import show # plotting raster data\n",
    "from rasterio.plot import show_hist #histograms of raster data\n",
    "import matplotlib.pyplot as plt "
   ]
  },
  {
   "cell_type": "markdown",
   "id": "6e2a9a3f-6082-45f2-b092-c72c710f39d7",
   "metadata": {
    "tags": []
   },
   "source": [
    "## Finding UAVSAR data\n",
    "\n",
    "UAVSAR data is located in multiple places online. All data types are available through JPL. Ground Projected PolSAR and InSAR are available at ASF. We'll query to the ASF API to systematiically download images."
   ]
  },
  {
   "cell_type": "markdown",
   "id": "a4010c81-9c8f-47cd-8167-d0f750ca83e5",
   "metadata": {},
   "source": [
    "# ASF Search Parameters\n",
    "In this cell, describe the different search parameters for the ```asf.search``` function. Describe how ```_GRD``` very important\n",
    "                     \n",
    "                     platform = 'UAVSAR',\n",
    "                     processingLevel = (['INTERFEROMETRY_GRD']),\n",
    "                     intersectsWith = sagehen_wkt,\n",
    "                     start = start_date,\n",
    "                     end = end_date)"
   ]
  },
  {
   "cell_type": "markdown",
   "id": "6c66bfae",
   "metadata": {
    "tags": []
   },
   "source": [
    "## Create Folium map to generate at WKT file for ```intersectsWith```\n",
    "\n",
    "The ```asf_search``` package uses the Well-known text or [WKT](https://en.wikipedia.org/wiki/Well-known_text_representation_of_geometry) files to indentify areas of interest (AOI) to search thier database. The [Folium](https://python-visualization.github.io/folium/#:~:text=folium%20makes%20it%20easy%20to,as%20markers%20on%20the%20map.) map created below allows users to generate a WKT by drawing a polygon directly on the map and exporting it to thier local machine. instead of having to write it out by hand. \n",
    "\n",
    "Another tool for generating WKT files is the [ASF Vertex](https://search.asf.alaska.edu/#/) platform.\n",
    "\n",
    "The [UAVSAR Data Search](https://uavsar.jpl.nasa.gov/cgi-bin/data.pl) shows the extent of all UAVSAR swaths. This is a good place to start to base your area of interest (AOI) search on using the Folium map.\n",
    "\n",
    "Using the mouse, select an area on the screen you want to search for data and hit the export button. This will export a WKT file with the bounds you drew into you working directory."
   ]
  },
  {
   "cell_type": "code",
   "execution_count": 31,
   "id": "eee8b622-885a-4158-8cda-a874787ad61c",
   "metadata": {},
   "outputs": [
    {
     "data": {
      "text/html": [
       "<div style=\"width:100%;\"><div style=\"position:relative;width:100%;height:0;padding-bottom:60%;\"><span style=\"color:#565656\">Make this Notebook Trusted to load map: File -> Trust Notebook</span><iframe src=\"about:blank\" style=\"position:absolute;width:100%;height:100%;left:0;top:0;border:none !important;\" data-html=%3C%21DOCTYPE%20html%3E%0A%3Chead%3E%20%20%20%20%0A%20%20%20%20%3Cmeta%20http-equiv%3D%22content-type%22%20content%3D%22text/html%3B%20charset%3DUTF-8%22%20/%3E%0A%20%20%20%20%0A%20%20%20%20%20%20%20%20%3Cscript%3E%0A%20%20%20%20%20%20%20%20%20%20%20%20L_NO_TOUCH%20%3D%20false%3B%0A%20%20%20%20%20%20%20%20%20%20%20%20L_DISABLE_3D%20%3D%20false%3B%0A%20%20%20%20%20%20%20%20%3C/script%3E%0A%20%20%20%20%0A%20%20%20%20%3Cstyle%3Ehtml%2C%20body%20%7Bwidth%3A%20100%25%3Bheight%3A%20100%25%3Bmargin%3A%200%3Bpadding%3A%200%3B%7D%3C/style%3E%0A%20%20%20%20%3Cstyle%3E%23map%20%7Bposition%3Aabsolute%3Btop%3A0%3Bbottom%3A0%3Bright%3A0%3Bleft%3A0%3B%7D%3C/style%3E%0A%20%20%20%20%3Cscript%20src%3D%22https%3A//cdn.jsdelivr.net/npm/leaflet%401.6.0/dist/leaflet.js%22%3E%3C/script%3E%0A%20%20%20%20%3Cscript%20src%3D%22https%3A//code.jquery.com/jquery-1.12.4.min.js%22%3E%3C/script%3E%0A%20%20%20%20%3Cscript%20src%3D%22https%3A//maxcdn.bootstrapcdn.com/bootstrap/3.2.0/js/bootstrap.min.js%22%3E%3C/script%3E%0A%20%20%20%20%3Cscript%20src%3D%22https%3A//cdnjs.cloudflare.com/ajax/libs/Leaflet.awesome-markers/2.0.2/leaflet.awesome-markers.js%22%3E%3C/script%3E%0A%20%20%20%20%3Clink%20rel%3D%22stylesheet%22%20href%3D%22https%3A//cdn.jsdelivr.net/npm/leaflet%401.6.0/dist/leaflet.css%22/%3E%0A%20%20%20%20%3Clink%20rel%3D%22stylesheet%22%20href%3D%22https%3A//maxcdn.bootstrapcdn.com/bootstrap/3.2.0/css/bootstrap.min.css%22/%3E%0A%20%20%20%20%3Clink%20rel%3D%22stylesheet%22%20href%3D%22https%3A//maxcdn.bootstrapcdn.com/bootstrap/3.2.0/css/bootstrap-theme.min.css%22/%3E%0A%20%20%20%20%3Clink%20rel%3D%22stylesheet%22%20href%3D%22https%3A//maxcdn.bootstrapcdn.com/font-awesome/4.6.3/css/font-awesome.min.css%22/%3E%0A%20%20%20%20%3Clink%20rel%3D%22stylesheet%22%20href%3D%22https%3A//cdnjs.cloudflare.com/ajax/libs/Leaflet.awesome-markers/2.0.2/leaflet.awesome-markers.css%22/%3E%0A%20%20%20%20%3Clink%20rel%3D%22stylesheet%22%20href%3D%22https%3A//cdn.jsdelivr.net/gh/python-visualization/folium/folium/templates/leaflet.awesome.rotate.min.css%22/%3E%0A%20%20%20%20%0A%20%20%20%20%20%20%20%20%20%20%20%20%3Cmeta%20name%3D%22viewport%22%20content%3D%22width%3Ddevice-width%2C%0A%20%20%20%20%20%20%20%20%20%20%20%20%20%20%20%20initial-scale%3D1.0%2C%20maximum-scale%3D1.0%2C%20user-scalable%3Dno%22%20/%3E%0A%20%20%20%20%20%20%20%20%20%20%20%20%3Cstyle%3E%0A%20%20%20%20%20%20%20%20%20%20%20%20%20%20%20%20%23map_acc0f74bb7264290bf2c0784c25b0fcd%20%7B%0A%20%20%20%20%20%20%20%20%20%20%20%20%20%20%20%20%20%20%20%20position%3A%20relative%3B%0A%20%20%20%20%20%20%20%20%20%20%20%20%20%20%20%20%20%20%20%20width%3A%20100.0%25%3B%0A%20%20%20%20%20%20%20%20%20%20%20%20%20%20%20%20%20%20%20%20height%3A%20100.0%25%3B%0A%20%20%20%20%20%20%20%20%20%20%20%20%20%20%20%20%20%20%20%20left%3A%200.0%25%3B%0A%20%20%20%20%20%20%20%20%20%20%20%20%20%20%20%20%20%20%20%20top%3A%200.0%25%3B%0A%20%20%20%20%20%20%20%20%20%20%20%20%20%20%20%20%7D%0A%20%20%20%20%20%20%20%20%20%20%20%20%3C/style%3E%0A%20%20%20%20%20%20%20%20%0A%20%20%20%20%3Cscript%20src%3D%22https%3A//cdnjs.cloudflare.com/ajax/libs/leaflet.draw/1.0.2/leaflet.draw.js%22%3E%3C/script%3E%0A%20%20%20%20%3Clink%20rel%3D%22stylesheet%22%20href%3D%22https%3A//cdnjs.cloudflare.com/ajax/libs/leaflet.draw/1.0.2/leaflet.draw.css%22/%3E%0A%20%20%20%20%0A%20%20%20%20%20%20%20%20%20%20%20%20%3Cstyle%3E%0A%20%20%20%20%20%20%20%20%20%20%20%20%20%20%20%20%23export%20%7B%0A%20%20%20%20%20%20%20%20%20%20%20%20%20%20%20%20%20%20%20%20position%3A%20absolute%3B%0A%20%20%20%20%20%20%20%20%20%20%20%20%20%20%20%20%20%20%20%20top%3A%205px%3B%0A%20%20%20%20%20%20%20%20%20%20%20%20%20%20%20%20%20%20%20%20right%3A%2010px%3B%0A%20%20%20%20%20%20%20%20%20%20%20%20%20%20%20%20%20%20%20%20z-index%3A%20999%3B%0A%20%20%20%20%20%20%20%20%20%20%20%20%20%20%20%20%20%20%20%20background%3A%20white%3B%0A%20%20%20%20%20%20%20%20%20%20%20%20%20%20%20%20%20%20%20%20color%3A%20black%3B%0A%20%20%20%20%20%20%20%20%20%20%20%20%20%20%20%20%20%20%20%20padding%3A%206px%3B%0A%20%20%20%20%20%20%20%20%20%20%20%20%20%20%20%20%20%20%20%20border-radius%3A%204px%3B%0A%20%20%20%20%20%20%20%20%20%20%20%20%20%20%20%20%20%20%20%20font-family%3A%20%27Helvetica%20Neue%27%3B%0A%20%20%20%20%20%20%20%20%20%20%20%20%20%20%20%20%20%20%20%20cursor%3A%20pointer%3B%0A%20%20%20%20%20%20%20%20%20%20%20%20%20%20%20%20%20%20%20%20font-size%3A%2012px%3B%0A%20%20%20%20%20%20%20%20%20%20%20%20%20%20%20%20%20%20%20%20text-decoration%3A%20none%3B%0A%20%20%20%20%20%20%20%20%20%20%20%20%20%20%20%20%20%20%20%20top%3A%2090px%3B%0A%20%20%20%20%20%20%20%20%20%20%20%20%20%20%20%20%7D%0A%20%20%20%20%20%20%20%20%20%20%20%20%3C/style%3E%0A%20%20%20%20%20%20%20%20%0A%3C/head%3E%0A%3Cbody%3E%20%20%20%20%0A%20%20%20%20%0A%20%20%20%20%20%20%20%20%20%20%20%20%3Cdiv%20class%3D%22folium-map%22%20id%3D%22map_acc0f74bb7264290bf2c0784c25b0fcd%22%20%3E%3C/div%3E%0A%20%20%20%20%20%20%20%20%0A%20%20%20%20%3Ca%20href%3D%27%23%27%20id%3D%27export%27%3EExport%3C/a%3E%0A%3C/body%3E%0A%3Cscript%3E%20%20%20%20%0A%20%20%20%20%0A%20%20%20%20%20%20%20%20%20%20%20%20var%20map_acc0f74bb7264290bf2c0784c25b0fcd%20%3D%20L.map%28%0A%20%20%20%20%20%20%20%20%20%20%20%20%20%20%20%20%22map_acc0f74bb7264290bf2c0784c25b0fcd%22%2C%0A%20%20%20%20%20%20%20%20%20%20%20%20%20%20%20%20%7B%0A%20%20%20%20%20%20%20%20%20%20%20%20%20%20%20%20%20%20%20%20center%3A%20%5B0%2C%200%5D%2C%0A%20%20%20%20%20%20%20%20%20%20%20%20%20%20%20%20%20%20%20%20crs%3A%20L.CRS.EPSG3857%2C%0A%20%20%20%20%20%20%20%20%20%20%20%20%20%20%20%20%20%20%20%20zoom%3A%201%2C%0A%20%20%20%20%20%20%20%20%20%20%20%20%20%20%20%20%20%20%20%20zoomControl%3A%20true%2C%0A%20%20%20%20%20%20%20%20%20%20%20%20%20%20%20%20%20%20%20%20preferCanvas%3A%20false%2C%0A%20%20%20%20%20%20%20%20%20%20%20%20%20%20%20%20%7D%0A%20%20%20%20%20%20%20%20%20%20%20%20%29%3B%0A%0A%20%20%20%20%20%20%20%20%20%20%20%20%0A%0A%20%20%20%20%20%20%20%20%0A%20%20%20%20%0A%20%20%20%20%20%20%20%20%20%20%20%20var%20tile_layer_b9eb40128c204a3a990332ff39d9b096%20%3D%20L.tileLayer%28%0A%20%20%20%20%20%20%20%20%20%20%20%20%20%20%20%20%22https%3A//%7Bs%7D.tile.openstreetmap.org/%7Bz%7D/%7Bx%7D/%7By%7D.png%22%2C%0A%20%20%20%20%20%20%20%20%20%20%20%20%20%20%20%20%7B%22attribution%22%3A%20%22Data%20by%20%5Cu0026copy%3B%20%5Cu003ca%20href%3D%5C%22http%3A//openstreetmap.org%5C%22%5Cu003eOpenStreetMap%5Cu003c/a%5Cu003e%2C%20under%20%5Cu003ca%20href%3D%5C%22http%3A//www.openstreetmap.org/copyright%5C%22%5Cu003eODbL%5Cu003c/a%5Cu003e.%22%2C%20%22detectRetina%22%3A%20false%2C%20%22maxNativeZoom%22%3A%2018%2C%20%22maxZoom%22%3A%2018%2C%20%22minZoom%22%3A%200%2C%20%22noWrap%22%3A%20false%2C%20%22opacity%22%3A%201%2C%20%22subdomains%22%3A%20%22abc%22%2C%20%22tms%22%3A%20false%7D%0A%20%20%20%20%20%20%20%20%20%20%20%20%29.addTo%28map_acc0f74bb7264290bf2c0784c25b0fcd%29%3B%0A%20%20%20%20%20%20%20%20%0A%20%20%20%20%0A%20%20%20%20%20%20%20%20%20%20%20%20var%20options%20%3D%20%7B%0A%20%20%20%20%20%20%20%20%20%20%20%20%20%20position%3A%20%22topleft%22%2C%0A%20%20%20%20%20%20%20%20%20%20%20%20%20%20draw%3A%20%7B%7D%2C%0A%20%20%20%20%20%20%20%20%20%20%20%20%20%20edit%3A%20%7B%7D%2C%0A%20%20%20%20%20%20%20%20%20%20%20%20%7D%0A%20%20%20%20%20%20%20%20%20%20%20%20//%20FeatureGroup%20is%20to%20store%20editable%20layers.%0A%20%20%20%20%20%20%20%20%20%20%20%20var%20drawnItems%20%3D%20new%20L.featureGroup%28%29.addTo%28%0A%20%20%20%20%20%20%20%20%20%20%20%20%20%20%20%20map_acc0f74bb7264290bf2c0784c25b0fcd%0A%20%20%20%20%20%20%20%20%20%20%20%20%29%3B%0A%20%20%20%20%20%20%20%20%20%20%20%20options.edit.featureGroup%20%3D%20drawnItems%3B%0A%20%20%20%20%20%20%20%20%20%20%20%20var%20draw_control_235c1f6a0cd6491c8835be008d6b7ed9%20%3D%20new%20L.Control.Draw%28%0A%20%20%20%20%20%20%20%20%20%20%20%20%20%20%20%20options%0A%20%20%20%20%20%20%20%20%20%20%20%20%29.addTo%28%20map_acc0f74bb7264290bf2c0784c25b0fcd%20%29%3B%0A%20%20%20%20%20%20%20%20%20%20%20%20map_acc0f74bb7264290bf2c0784c25b0fcd.on%28L.Draw.Event.CREATED%2C%20function%28e%29%20%7B%0A%20%20%20%20%20%20%20%20%20%20%20%20%20%20%20%20var%20layer%20%3D%20e.layer%2C%0A%20%20%20%20%20%20%20%20%20%20%20%20%20%20%20%20%20%20%20%20type%20%3D%20e.layerType%3B%0A%20%20%20%20%20%20%20%20%20%20%20%20%20%20%20%20var%20coords%20%3D%20JSON.stringify%28layer.toGeoJSON%28%29%29%3B%0A%20%20%20%20%20%20%20%20%20%20%20%20%20%20%20%20layer.on%28%27click%27%2C%20function%28%29%20%7B%0A%20%20%20%20%20%20%20%20%20%20%20%20%20%20%20%20%20%20%20%20alert%28coords%29%3B%0A%20%20%20%20%20%20%20%20%20%20%20%20%20%20%20%20%20%20%20%20console.log%28coords%29%3B%0A%20%20%20%20%20%20%20%20%20%20%20%20%20%20%20%20%7D%29%3B%0A%20%20%20%20%20%20%20%20%20%20%20%20%20%20%20%20drawnItems.addLayer%28layer%29%3B%0A%20%20%20%20%20%20%20%20%20%20%20%20%20%7D%29%3B%0A%20%20%20%20%20%20%20%20%20%20%20%20map_acc0f74bb7264290bf2c0784c25b0fcd.on%28%27draw%3Acreated%27%2C%20function%28e%29%20%7B%0A%20%20%20%20%20%20%20%20%20%20%20%20%20%20%20%20drawnItems.addLayer%28e.layer%29%3B%0A%20%20%20%20%20%20%20%20%20%20%20%20%7D%29%3B%0A%20%20%20%20%20%20%20%20%20%20%20%20%0A%20%20%20%20%20%20%20%20%20%20%20%20document.getElementById%28%27export%27%29.onclick%20%3D%20function%28e%29%20%7B%0A%20%20%20%20%20%20%20%20%20%20%20%20%20%20%20%20var%20data%20%3D%20drawnItems.toGeoJSON%28%29%3B%0A%20%20%20%20%20%20%20%20%20%20%20%20%20%20%20%20var%20convertedData%20%3D%20%27text/json%3Bcharset%3Dutf-8%2C%27%0A%20%20%20%20%20%20%20%20%20%20%20%20%20%20%20%20%20%20%20%20%2B%20encodeURIComponent%28JSON.stringify%28data%29%29%3B%0A%20%20%20%20%20%20%20%20%20%20%20%20%20%20%20%20document.getElementById%28%27export%27%29.setAttribute%28%0A%20%20%20%20%20%20%20%20%20%20%20%20%20%20%20%20%20%20%20%20%27href%27%2C%20%27data%3A%27%20%2B%20convertedData%0A%20%20%20%20%20%20%20%20%20%20%20%20%20%20%20%20%29%3B%0A%20%20%20%20%20%20%20%20%20%20%20%20%20%20%20%20document.getElementById%28%27export%27%29.setAttribute%28%0A%20%20%20%20%20%20%20%20%20%20%20%20%20%20%20%20%20%20%20%20%27download%27%2C%20%22asf_wkt.geojson%22%0A%20%20%20%20%20%20%20%20%20%20%20%20%20%20%20%20%29%3B%0A%20%20%20%20%20%20%20%20%20%20%20%20%7D%0A%20%20%20%20%20%20%20%20%20%20%20%20%0A%20%20%20%20%20%20%20%20%0A%3C/script%3E onload=\"this.contentDocument.open();this.contentDocument.write(    decodeURIComponent(this.getAttribute('data-html')));this.contentDocument.close();\" allowfullscreen webkitallowfullscreen mozallowfullscreen></iframe></div></div>"
      ],
      "text/plain": [
       "<folium.folium.Map at 0x12233aa00>"
      ]
     },
     "execution_count": 31,
     "metadata": {},
     "output_type": "execute_result"
    }
   ],
   "source": [
    "# show map\n",
    "m = Map()\n",
    "draw = Draw(export = True, filename = 'asf_wkt.geojson')\n",
    "draw.add_to(m)\n",
    "m"
   ]
  },
  {
   "cell_type": "markdown",
   "id": "1d6e9947-de7a-404e-b90c-571a55e80c80",
   "metadata": {},
   "source": [
    "## Reading the WKT\n",
    "In this case we're searching for the \"Donner\" UAVSAR flight line, just north of Lake Tahoe. Below we'll read the WKT we just downloaded back into our python environment using ```geopandas``` and print it to see how the WKT files are structured."
   ]
  },
  {
   "cell_type": "code",
   "execution_count": 32,
   "id": "befa3871-4dbb-49b9-bfe2-85a3f79c1bb0",
   "metadata": {},
   "outputs": [
    {
     "name": "stdout",
     "output_type": "stream",
     "text": [
      "POINT (-115.754923 43.993454)\n"
     ]
    }
   ],
   "source": [
    "sagehen_wkt = gpd.read_file('~/Downloads/asf_wkt.geojson').to_wkt().loc[0, 'geometry']\n",
    "print(sagehen_wkt)"
   ]
  },
  {
   "cell_type": "markdown",
   "id": "70e79ce0-df82-489f-b577-d8c572652911",
   "metadata": {},
   "source": [
    "## Define ```datetime``` for Search\n",
    "We'll be searching for the UAVSAR pair between 2/20-2/26. Just need to search for day that intersects. "
   ]
  },
  {
   "cell_type": "code",
   "execution_count": 33,
   "id": "4459e757",
   "metadata": {},
   "outputs": [],
   "source": [
    "# define search parameters for sierra flight line\n",
    "start_date = datetime.strptime('2019-02-20 11:00:00', '%Y-%m-%d %H:%M:%S') \n",
    "end_date = datetime.strptime('2022-02-21 11:00:00', '%Y-%m-%d %H:%M:%S') "
   ]
  },
  {
   "cell_type": "markdown",
   "id": "eb0d9c60-b033-4933-9a88-7d2a345d8d2a",
   "metadata": {},
   "source": [
    "## Seach for data\n",
    "To query the API, we'll input search parameters we just generated into the function. There is a lot much functionality within ```asf.search```, which can be found on thier Github(link)."
   ]
  },
  {
   "cell_type": "code",
   "execution_count": 34,
   "id": "de8c0dc4-609e-4538-80dc-50f0c7848c28",
   "metadata": {},
   "outputs": [
    {
     "name": "stdout",
     "output_type": "stream",
     "text": [
      "17 product(s) found\n"
     ]
    }
   ],
   "source": [
    "# search for data\n",
    "results = asf.search(platform = 'UAVSAR',\n",
    "                     processingLevel = (['INTERFEROMETRY_GRD']),\n",
    "                     intersectsWith = sagehen_wkt,\n",
    "                     start = start_date,\n",
    "                     end = end_date)\n",
    "\n",
    "print(f'{len(results)} product(s) found')"
   ]
  },
  {
   "cell_type": "code",
   "execution_count": 24,
   "id": "f840fe10-e00b-4eec-ab21-16faa256a405",
   "metadata": {},
   "outputs": [
    {
     "data": {
      "text/plain": [
       "asf_search.ASFSearchResults.ASFSearchResults"
      ]
     },
     "execution_count": 24,
     "metadata": {},
     "output_type": "execute_result"
    }
   ],
   "source": [
    "# describe this whole \"class\" thing...\n",
    "type(results)"
   ]
  },
  {
   "cell_type": "code",
   "execution_count": 35,
   "id": "40cd7263-2643-4d93-9d95-9573e4ac5b93",
   "metadata": {},
   "outputs": [
    {
     "name": "stdout",
     "output_type": "stream",
     "text": [
      "{'beamModeType': 'RPI', 'browse': ['https://datapool.asf.alaska.edu/BROWSE/UA/lowman_05208_21019-019_21021-007_0006d_s01_L090HH_01.cor.png', 'https://datapool.asf.alaska.edu/BROWSE/UA/lowman_05208_21019-019_21021-007_0006d_s01_L090HH_01.hgt.png', 'https://datapool.asf.alaska.edu/BROWSE/UA/lowman_05208_21019-019_21021-007_0006d_s01_L090HV_01.cor.png', 'https://datapool.asf.alaska.edu/BROWSE/UA/lowman_05208_21019-019_21021-007_0006d_s01_L090HV_01.hgt.png', 'https://datapool.asf.alaska.edu/BROWSE/UA/lowman_05208_21019-019_21021-007_0006d_s01_L090VH_01.cor.png', 'https://datapool.asf.alaska.edu/BROWSE/UA/lowman_05208_21019-019_21021-007_0006d_s01_L090VH_01.hgt.png', 'https://datapool.asf.alaska.edu/BROWSE/UA/lowman_05208_21019-019_21021-007_0006d_s01_L090VV_01.cor.png', 'https://datapool.asf.alaska.edu/BROWSE/UA/lowman_05208_21019-019_21021-007_0006d_s01_L090VV_01.hgt.png'], 'bytes': '5110703181', 'centerLat': '44.0298745005506', 'centerLon': '-115.60427002965', 'faradayRotation': None, 'fileID': 'UA_lowman_05208_21019-019_21021-007_0006d_s01_L090_01-INTERFEROMETRY_GRD', 'fileName': 'lowman_05208_21019-019_21021-007_0006d_s01_L090_01_int_grd.zip', 'flightDirection': None, 'frameNumber': '881', 'granuleType': 'UAVSAR_INSAR_SCENE', 'groupID': 'UA_lowman_05208_21019-019_21021-007_0006d_s01_L090_01', 'insarStackId': '-1', 'md5sum': '2ab0338219e94e739f9ccce8f30715dc', 'offNadirAngle': None, 'orbit': '-1', 'pathNumber': '05208', 'platform': 'UAVSAR', 'pointingAngle': None, 'polarization': 'HH', 'processingDate': '2021-04-20T13:43:32Z', 'processingLevel': 'INTERFEROMETRY_GRD', 'sceneName': 'UA_lowman_05208_21019-019_21021-007_0006d_s01_L090_01', 'sensor': 'UAVSAR', 'startTime': '2021-03-16T18:09:32Z', 'stopTime': '2021-03-22T16:58:37Z', 'url': 'https://datapool.asf.alaska.edu/INTERFEROMETRY_GRD/UA/lowman_05208_21019-019_21021-007_0006d_s01_L090_01_int_grd.zip'}\n"
     ]
    }
   ],
   "source": [
    "# pull out the first result from the list and print it\n",
    "first = results[0]\n",
    "print(first.properties)"
   ]
  },
  {
   "cell_type": "markdown",
   "id": "e20b6817-5c4d-4daa-83ad-e83fafb11fff",
   "metadata": {},
   "source": [
    "## Define URLs for Download\n",
    "describe this class thing and how we uses the ```properties``` call to pull out the url."
   ]
  },
  {
   "cell_type": "code",
   "execution_count": 36,
   "id": "a4388089-b0f3-4be8-8519-f075fb148cfc",
   "metadata": {},
   "outputs": [
    {
     "name": "stdout",
     "output_type": "stream",
     "text": [
      "https://datapool.asf.alaska.edu/INTERFEROMETRY_GRD/UA/lowman_05208_21019-019_21021-007_0006d_s01_L090_01_int_grd.zip\n"
     ]
    }
   ],
   "source": [
    "# define the URLs and print, decribe this functionality is within the ASFproduct class\n",
    "first_url = first.properties['url']\n",
    "print(first_url)"
   ]
  },
  {
   "cell_type": "code",
   "execution_count": 44,
   "id": "35d99006-753a-47cb-8f13-5106a5db676d",
   "metadata": {},
   "outputs": [],
   "source": [
    "# define outpout dir and list files\n",
    "os.chdir('/Users/zachkeskinen/Downloads/uavsar_ex')\n",
    "work_dir = '/Users/zachkeskinen/Downloads/uavsar_ex'"
   ]
  },
  {
   "cell_type": "markdown",
   "id": "e5560926-0bd3-40fc-8d96-71d5b6d9701d",
   "metadata": {},
   "source": [
    "# Data Download and Conversion\n",
    "Using the ```uavsar_pytools``` package, we'll now download the data. The zip file URL contains multiple datasets, so we'll use the ```UavsarScence``` function. As stated earlier, this data traditionally comes in a binary format. ```uavsar_pytools``` nativiely downloads, formats, and converts this data in analysis ready rasters projected in WSG-84 Lat/Lon (maybe more infor here).\n",
    "\n",
    "To use it, you just need to input your url into the ```UavsarScene``` function, and a path to where you want the data output to be. Once that object is created, use the ```url_to_tiffs``` funciton to begin the process. Data has to download, but there's a progress bar to keep tabs. Once the data is downloaded the conversion happens within a miniute or so.\n",
    "\n",
    "Or you can use https://search.asf.alaska.edu/ to find a url through their vertex interface."
   ]
  },
  {
   "cell_type": "code",
   "execution_count": 45,
   "id": "4f5b68ae-d219-4e89-b3cc-d4f954ac0a13",
   "metadata": {},
   "outputs": [
    {
     "name": "stderr",
     "output_type": "stream",
     "text": [
      "Downloading lowman_05208_21019-019_21021-007_0006d_s01_L090_01_int_grd.zip:  44%|████▍     | 2.24G/5.11G [22:08<28:26, 1.68MB/s]    \n"
     ]
    },
    {
     "ename": "BadZipFile",
     "evalue": "File is not a zip file",
     "output_type": "error",
     "traceback": [
      "\u001b[0;31m---------------------------------------------------------------------------\u001b[0m",
      "\u001b[0;31mBadZipFile\u001b[0m                                Traceback (most recent call last)",
      "\u001b[1;32m/Users/zachkeskinen/Documents/uavsar_pytools/notebooks/uavsar_pytools_tutorial.ipynb Cell 19'\u001b[0m in \u001b[0;36m<module>\u001b[0;34m\u001b[0m\n\u001b[1;32m      <a href='vscode-notebook-cell:/Users/zachkeskinen/Documents/uavsar_pytools/notebooks/uavsar_pytools_tutorial.ipynb#ch0000018?line=0'>1</a>\u001b[0m \u001b[39m# define image to download\u001b[39;00m\n\u001b[1;32m      <a href='vscode-notebook-cell:/Users/zachkeskinen/Documents/uavsar_pytools/notebooks/uavsar_pytools_tutorial.ipynb#ch0000018?line=1'>2</a>\u001b[0m \u001b[39m# download_image(url = first_url, output_dir = output_dir)\u001b[39;00m\n\u001b[1;32m      <a href='vscode-notebook-cell:/Users/zachkeskinen/Documents/uavsar_pytools/notebooks/uavsar_pytools_tutorial.ipynb#ch0000018?line=2'>3</a>\u001b[0m scene \u001b[39m=\u001b[39m UavsarScene(url \u001b[39m=\u001b[39m first_url, work_dir\u001b[39m=\u001b[39m\u001b[39m'\u001b[39m\u001b[39m./data/imgs/\u001b[39m\u001b[39m'\u001b[39m)\n\u001b[0;32m----> <a href='vscode-notebook-cell:/Users/zachkeskinen/Documents/uavsar_pytools/notebooks/uavsar_pytools_tutorial.ipynb#ch0000018?line=3'>4</a>\u001b[0m scene\u001b[39m.\u001b[39;49murl_to_tiffs()\n",
      "File \u001b[0;32m/opt/anaconda3/envs/uavsar/lib/python3.9/site-packages/uavsar_pytools/UavsarScene.py:113\u001b[0m, in \u001b[0;36mUavsarScene.url_to_tiffs\u001b[0;34m(self)\u001b[0m\n\u001b[1;32m    <a href='file:///opt/anaconda3/envs/uavsar/lib/python3.9/site-packages/uavsar_pytools/UavsarScene.py?line=110'>111</a>\u001b[0m \u001b[39mdef\u001b[39;00m \u001b[39murl_to_tiffs\u001b[39m(\u001b[39mself\u001b[39m):\n\u001b[1;32m    <a href='file:///opt/anaconda3/envs/uavsar/lib/python3.9/site-packages/uavsar_pytools/UavsarScene.py?line=111'>112</a>\u001b[0m     \u001b[39mself\u001b[39m\u001b[39m.\u001b[39mdownload()\n\u001b[0;32m--> <a href='file:///opt/anaconda3/envs/uavsar/lib/python3.9/site-packages/uavsar_pytools/UavsarScene.py?line=112'>113</a>\u001b[0m     \u001b[39mself\u001b[39;49m\u001b[39m.\u001b[39;49munzip()\n\u001b[1;32m    <a href='file:///opt/anaconda3/envs/uavsar/lib/python3.9/site-packages/uavsar_pytools/UavsarScene.py?line=113'>114</a>\u001b[0m     \u001b[39mself\u001b[39m\u001b[39m.\u001b[39mbinary_to_tiffs()\n",
      "File \u001b[0;32m/opt/anaconda3/envs/uavsar/lib/python3.9/site-packages/uavsar_pytools/UavsarScene.py:79\u001b[0m, in \u001b[0;36mUavsarScene.unzip\u001b[0;34m(self, in_dir, sub_dir)\u001b[0m\n\u001b[1;32m     <a href='file:///opt/anaconda3/envs/uavsar/lib/python3.9/site-packages/uavsar_pytools/UavsarScene.py?line=75'>76</a>\u001b[0m \u001b[39mif\u001b[39;00m \u001b[39mnot\u001b[39;00m os\u001b[39m.\u001b[39mpath\u001b[39m.\u001b[39mexists(out_dir):\n\u001b[1;32m     <a href='file:///opt/anaconda3/envs/uavsar/lib/python3.9/site-packages/uavsar_pytools/UavsarScene.py?line=76'>77</a>\u001b[0m     os\u001b[39m.\u001b[39mmakedirs(out_dir)\n\u001b[0;32m---> <a href='file:///opt/anaconda3/envs/uavsar/lib/python3.9/site-packages/uavsar_pytools/UavsarScene.py?line=78'>79</a>\u001b[0m \u001b[39mself\u001b[39m\u001b[39m.\u001b[39mbinary_fps \u001b[39m=\u001b[39m unzip(in_dir, out_dir)\n",
      "File \u001b[0;32m/opt/anaconda3/envs/uavsar/lib/python3.9/site-packages/uavsar_pytools/convert/file_control.py:21\u001b[0m, in \u001b[0;36munzip\u001b[0;34m(dir_path, out_dir)\u001b[0m\n\u001b[1;32m     <a href='file:///opt/anaconda3/envs/uavsar/lib/python3.9/site-packages/uavsar_pytools/convert/file_control.py?line=17'>18</a>\u001b[0m \u001b[39massert\u001b[39;00m exists(dir_path), \u001b[39mf\u001b[39m\u001b[39m'\u001b[39m\u001b[39mZipped directory at \u001b[39m\u001b[39m{\u001b[39;00mdir_path\u001b[39m}\u001b[39;00m\u001b[39m not found.\u001b[39m\u001b[39m'\u001b[39m\n\u001b[1;32m     <a href='file:///opt/anaconda3/envs/uavsar/lib/python3.9/site-packages/uavsar_pytools/convert/file_control.py?line=19'>20</a>\u001b[0m \u001b[39m# Open your .zip file\u001b[39;00m\n\u001b[0;32m---> <a href='file:///opt/anaconda3/envs/uavsar/lib/python3.9/site-packages/uavsar_pytools/convert/file_control.py?line=20'>21</a>\u001b[0m \u001b[39mwith\u001b[39;00m ZipFile(file\u001b[39m=\u001b[39;49mdir_path) \u001b[39mas\u001b[39;00m zip_file:\n\u001b[1;32m     <a href='file:///opt/anaconda3/envs/uavsar/lib/python3.9/site-packages/uavsar_pytools/convert/file_control.py?line=22'>23</a>\u001b[0m     checked_list \u001b[39m=\u001b[39m [f \u001b[39mfor\u001b[39;00m f \u001b[39min\u001b[39;00m zip_file\u001b[39m.\u001b[39mnamelist() \u001b[39mif\u001b[39;00m \u001b[39mnot\u001b[39;00m exists(join(out_dir, f))]\n\u001b[1;32m     <a href='file:///opt/anaconda3/envs/uavsar/lib/python3.9/site-packages/uavsar_pytools/convert/file_control.py?line=23'>24</a>\u001b[0m     \u001b[39m# Loop over each file\u001b[39;00m\n",
      "File \u001b[0;32m/opt/anaconda3/envs/uavsar/lib/python3.9/zipfile.py:1257\u001b[0m, in \u001b[0;36mZipFile.__init__\u001b[0;34m(self, file, mode, compression, allowZip64, compresslevel, strict_timestamps)\u001b[0m\n\u001b[1;32m   <a href='file:///opt/anaconda3/envs/uavsar/lib/python3.9/zipfile.py?line=1254'>1255</a>\u001b[0m \u001b[39mtry\u001b[39;00m:\n\u001b[1;32m   <a href='file:///opt/anaconda3/envs/uavsar/lib/python3.9/zipfile.py?line=1255'>1256</a>\u001b[0m     \u001b[39mif\u001b[39;00m mode \u001b[39m==\u001b[39m \u001b[39m'\u001b[39m\u001b[39mr\u001b[39m\u001b[39m'\u001b[39m:\n\u001b[0;32m-> <a href='file:///opt/anaconda3/envs/uavsar/lib/python3.9/zipfile.py?line=1256'>1257</a>\u001b[0m         \u001b[39mself\u001b[39;49m\u001b[39m.\u001b[39;49m_RealGetContents()\n\u001b[1;32m   <a href='file:///opt/anaconda3/envs/uavsar/lib/python3.9/zipfile.py?line=1257'>1258</a>\u001b[0m     \u001b[39melif\u001b[39;00m mode \u001b[39min\u001b[39;00m (\u001b[39m'\u001b[39m\u001b[39mw\u001b[39m\u001b[39m'\u001b[39m, \u001b[39m'\u001b[39m\u001b[39mx\u001b[39m\u001b[39m'\u001b[39m):\n\u001b[1;32m   <a href='file:///opt/anaconda3/envs/uavsar/lib/python3.9/zipfile.py?line=1258'>1259</a>\u001b[0m         \u001b[39m# set the modified flag so central directory gets written\u001b[39;00m\n\u001b[1;32m   <a href='file:///opt/anaconda3/envs/uavsar/lib/python3.9/zipfile.py?line=1259'>1260</a>\u001b[0m         \u001b[39m# even if no files are added to the archive\u001b[39;00m\n\u001b[1;32m   <a href='file:///opt/anaconda3/envs/uavsar/lib/python3.9/zipfile.py?line=1260'>1261</a>\u001b[0m         \u001b[39mself\u001b[39m\u001b[39m.\u001b[39m_didModify \u001b[39m=\u001b[39m \u001b[39mTrue\u001b[39;00m\n",
      "File \u001b[0;32m/opt/anaconda3/envs/uavsar/lib/python3.9/zipfile.py:1324\u001b[0m, in \u001b[0;36mZipFile._RealGetContents\u001b[0;34m(self)\u001b[0m\n\u001b[1;32m   <a href='file:///opt/anaconda3/envs/uavsar/lib/python3.9/zipfile.py?line=1321'>1322</a>\u001b[0m     \u001b[39mraise\u001b[39;00m BadZipFile(\u001b[39m\"\u001b[39m\u001b[39mFile is not a zip file\u001b[39m\u001b[39m\"\u001b[39m)\n\u001b[1;32m   <a href='file:///opt/anaconda3/envs/uavsar/lib/python3.9/zipfile.py?line=1322'>1323</a>\u001b[0m \u001b[39mif\u001b[39;00m \u001b[39mnot\u001b[39;00m endrec:\n\u001b[0;32m-> <a href='file:///opt/anaconda3/envs/uavsar/lib/python3.9/zipfile.py?line=1323'>1324</a>\u001b[0m     \u001b[39mraise\u001b[39;00m BadZipFile(\u001b[39m\"\u001b[39m\u001b[39mFile is not a zip file\u001b[39m\u001b[39m\"\u001b[39m)\n\u001b[1;32m   <a href='file:///opt/anaconda3/envs/uavsar/lib/python3.9/zipfile.py?line=1324'>1325</a>\u001b[0m \u001b[39mif\u001b[39;00m \u001b[39mself\u001b[39m\u001b[39m.\u001b[39mdebug \u001b[39m>\u001b[39m \u001b[39m1\u001b[39m:\n\u001b[1;32m   <a href='file:///opt/anaconda3/envs/uavsar/lib/python3.9/zipfile.py?line=1325'>1326</a>\u001b[0m     \u001b[39mprint\u001b[39m(endrec)\n",
      "\u001b[0;31mBadZipFile\u001b[0m: File is not a zip file"
     ]
    }
   ],
   "source": [
    "# define image to download\n",
    "# download_image(url = first_url, output_dir = output_dir)\n",
    "scene = UavsarScene(url = first_url, work_dir='./data/imgs/')\n",
    "scene.url_to_tiffs()"
   ]
  },
  {
   "cell_type": "markdown",
   "id": "6bde57f2-141a-4d40-8115-b2723e5e29d3",
   "metadata": {},
   "source": [
    "# Test Plots\n",
    "Now that the data has been downloaded and converted to GeoTiffs, let's test plot to make sure everything worked properly."
   ]
  },
  {
   "cell_type": "code",
   "execution_count": null,
   "id": "0691831f-a4dc-441f-8864-7df31c0e8a1e",
   "metadata": {},
   "outputs": [],
   "source": [
    "# search for unw and ann files for download test\n",
    "# os.chdir('/Users/jacktarricone/Desktop/zach_test/slc/data')\n",
    "cor = glob.glob(os.path.abspath(\"data/imgs/tiffs/*HH*cor.grd.tiff\"))\n",
    "print(cor[0])"
   ]
  },
  {
   "cell_type": "code",
   "execution_count": null,
   "id": "34f3747c-cdb9-43f8-bc88-ae75ae486644",
   "metadata": {},
   "outputs": [],
   "source": [
    "# print meta data to test if images were georeferenced correctly\n",
    "cor_rast = rio.open(cor[0])\n",
    "meta_data = cor_rast.profile\n",
    "print(meta_data)"
   ]
  },
  {
   "cell_type": "code",
   "execution_count": null,
   "id": "4a1f3fe3-1b69-4eb6-9c19-c47fe1cdb7b5",
   "metadata": {},
   "outputs": [],
   "source": [
    "# histogram to make sure 0's were converted to NaN's\n",
    "show_hist(cor_rast, bins = 50)"
   ]
  },
  {
   "cell_type": "code",
   "execution_count": null,
   "id": "3ba3a364-f0a5-4258-b1d7-e37445641342",
   "metadata": {},
   "outputs": [],
   "source": [
    "fig, ax = plt.subplots(figsize = (10,7))\n",
    "ax.set_title(\"Sagehen Coherence\",fontsize = 16);\n",
    "show((cor_rast, 1), cmap = 'viridis'); # info from histogram"
   ]
  },
  {
   "cell_type": "markdown",
   "id": "d6b52227-3ca7-4011-831f-a2b58620284b",
   "metadata": {},
   "source": [
    "# DL/Convert Single File using ```UavsarImage```\n",
    "We just showed how to use ```UavsarImage```, which is for bulk zip file DL/conversion. Now we'll show ```UavsarImage```, which provides the same functionality for a single image and has native plotting utility."
   ]
  },
  {
   "cell_type": "code",
   "execution_count": null,
   "id": "c449593d-6dc4-436a-918b-21b95b802c4a",
   "metadata": {},
   "outputs": [],
   "source": [
    "# define outpout dir and list files\n",
    "os.chdir('/path/to/working/dir/')\n",
    "single_url = 'http://uavsar.asfdaac.alaska.edu/UA_donner_03904_20009-026_20014-003_0007d_s01_L090_01/donner_03904_20009-026_20014-003_0007d_s01_L090HH_01.cor.grd'\n",
    "image = UavsarImage(url = single_url, work_dir = './data/imgs/')\n",
    "image.url_to_tiff()\n",
    "image.show()"
   ]
  },
  {
   "cell_type": "markdown",
   "id": "882b0870",
   "metadata": {},
   "source": [
    "# Download all available images in a roi over a specified period\n",
    "\n",
    "In the previous cells, we show how to download the first scene in the asf_search result. We can loop over the result to download all scenes returned by the asf_search. "
   ]
  },
  {
   "cell_type": "code",
   "execution_count": null,
   "id": "e9b6be5d",
   "metadata": {},
   "outputs": [],
   "source": [
    "for i in range(len(results)):\n",
    "    url = results[i].properties['url']\n",
    "    #print(url)\n",
    "    scene = UavsarScene(url = url, work_dir= './data/imgs/')\n",
    "    scene.url_to_tiffs()"
   ]
  }
 ],
 "metadata": {
  "interpreter": {
   "hash": "f6a401748561ccf4b02a2d1eb7d5bf189979b8ae4107867c67e9029bf7aa348c"
  },
  "kernelspec": {
   "display_name": "Python [conda env:uavsar_pytools]",
   "language": "python",
   "name": "conda-env-uavsar_pytools-py"
  },
  "language_info": {
   "codemirror_mode": {
    "name": "ipython",
    "version": 3
   },
   "file_extension": ".py",
   "mimetype": "text/x-python",
   "name": "python",
   "nbconvert_exporter": "python",
   "pygments_lexer": "ipython3",
   "version": "3.10.2"
  }
 },
 "nbformat": 4,
 "nbformat_minor": 5
}
