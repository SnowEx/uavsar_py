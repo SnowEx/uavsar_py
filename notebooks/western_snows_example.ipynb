{
 "cells": [
  {
   "cell_type": "code",
   "execution_count": 1,
   "metadata": {},
   "outputs": [],
   "source": [
    "# !pip install uavsar_pytools"
   ]
  },
  {
   "cell_type": "code",
   "execution_count": 5,
   "metadata": {},
   "outputs": [],
   "source": [
    "from uavsar_pytools.UavsarScene import UavsarScene\n",
    "from uavsar_pytools.UavsarImage import UavsarImage\n",
    "from uavsar_pytools.uavsar_tools import create_netrc"
   ]
  },
  {
   "cell_type": "code",
   "execution_count": 9,
   "metadata": {},
   "outputs": [],
   "source": [
    "directory_to_load = '~/Downloads/uavsar_ex/'\n",
    "url = 'https://datapool.asf.alaska.edu/INTERFEROMETRY_GRD/UA/lowman_05208_21019-019_21021-007_0006d_s01_L090_01_int_grd.zip'\n",
    "scene = UavsarScene(url = url, work_dir = directory_to_load)"
   ]
  },
  {
   "cell_type": "code",
   "execution_count": 10,
   "metadata": {},
   "outputs": [
    {
     "name": "stderr",
     "output_type": "stream",
     "text": [
      "Downloading lowman_05208_21019-019_21021-007_0006d_s01_L090_01_int_grd.zip:   7%|▋         | 371M/5.11G [10:15<2:48:38, 468kB/s]   "
     ]
    }
   ],
   "source": [
    "scene.url_to_tiffs()"
   ]
  },
  {
   "cell_type": "code",
   "execution_count": null,
   "metadata": {},
   "outputs": [],
   "source": []
  }
 ],
 "metadata": {
  "interpreter": {
   "hash": "f6a401748561ccf4b02a2d1eb7d5bf189979b8ae4107867c67e9029bf7aa348c"
  },
  "kernelspec": {
   "display_name": "Python 3.9.10 ('uavsar')",
   "language": "python",
   "name": "python3"
  },
  "language_info": {
   "codemirror_mode": {
    "name": "ipython",
    "version": 3
   },
   "file_extension": ".py",
   "mimetype": "text/x-python",
   "name": "python",
   "nbconvert_exporter": "python",
   "pygments_lexer": "ipython3",
   "version": "3.9.10"
  },
  "orig_nbformat": 4
 },
 "nbformat": 4,
 "nbformat_minor": 2
}
