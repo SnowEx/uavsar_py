{
 "cells": [
  {
   "cell_type": "markdown",
   "metadata": {},
   "source": [
    "# Presentation for the L-Band Working Group at Western Snow's 2022 Conference"
   ]
  },
  {
   "cell_type": "markdown",
   "metadata": {},
   "source": [
    "## Installation"
   ]
  },
  {
   "cell_type": "code",
   "execution_count": 1,
   "metadata": {},
   "outputs": [],
   "source": [
    "# !pip install uavsar_pytools"
   ]
  },
  {
   "cell_type": "markdown",
   "metadata": {},
   "source": [
    "## Creating a Netrc file. \n",
    "\n",
    "End user agreement."
   ]
  },
  {
   "cell_type": "code",
   "execution_count": 31,
   "metadata": {},
   "outputs": [],
   "source": [
    "from uavsar_pytools.uavsar_tools import create_netrc\n",
    "create_netrc()"
   ]
  },
  {
   "cell_type": "markdown",
   "metadata": {},
   "source": [
    "## Basic Usage: You have a url and want to download, unzip, and convert to geotiffs."
   ]
  },
  {
   "cell_type": "code",
   "execution_count": 33,
   "metadata": {},
   "outputs": [],
   "source": [
    "from uavsar_pytools.UavsarScene import UavsarScene\n",
    "directory_to_load = '~/Downloads/uavsar_ex/'\n",
    "url = 'https://datapool.asf.alaska.edu/INTERFEROMETRY_GRD/UA/ylwstn_26902_09053-000_14110-001_1838d_s01_L090_01_int_grd.zip'\n",
    "scene = UavsarScene(url = url, work_dir = directory_to_load)\n",
    "scene.url_to_tiffs()"
   ]
  },
  {
   "cell_type": "code",
   "execution_count": 34,
   "metadata": {},
   "outputs": [
    {
     "data": {
      "image/png": "[encoded data removed]",
      "text/plain": [
       "<Figure size 432x288 with 2 Axes>"
      ]
     },
     "metadata": {
      "needs_background": "light"
     },
     "output_type": "display_data"
    }
   ],
   "source": [
    "scene.show(2)"
   ]
  },
  {
   "cell_type": "code",
   "execution_count": 35,
   "metadata": {},
   "outputs": [],
   "source": [
    "import pandas as pd\n",
    "df = pd.DataFrame(scene.images[0]['description'])\n",
    "df.to_csv('~/Downloads/uavsar_ex/img_ann.csv')"
   ]
  },
  {
   "cell_type": "code",
   "execution_count": 36,
   "metadata": {},
   "outputs": [
    {
     "data": {
      "text/html": [
       "<div>\n",
       "<style scoped>\n",
       "    .dataframe tbody tr th:only-of-type {\n",
       "        vertical-align: middle;\n",
       "    }\n",
       "\n",
       "    .dataframe tbody tr th {\n",
       "        vertical-align: top;\n",
       "    }\n",
       "\n",
       "    .dataframe thead th {\n",
       "        text-align: right;\n",
       "    }\n",
       "</style>\n",
       "<table border=\"1\" class=\"dataframe\">\n",
       "  <thead>\n",
       "    <tr style=\"text-align: right;\">\n",
       "      <th></th>\n",
       "      <th>uavsar rpi annotation file version number</th>\n",
       "      <th>site description</th>\n",
       "      <th>flight plan comments of pass 1</th>\n",
       "      <th>flight plan comments of pass 2</th>\n",
       "      <th>processing comments</th>\n",
       "      <th>url</th>\n",
       "      <th>slant range interferogram</th>\n",
       "      <th>slant range unwrapped phase</th>\n",
       "      <th>slant range correlation</th>\n",
       "      <th>slant range amplitude of pass 1</th>\n",
       "      <th>...</th>\n",
       "      <th>grd_phs.val_maxv</th>\n",
       "      <th>slc_phs.val_mult</th>\n",
       "      <th>slc_phs.val_minv</th>\n",
       "      <th>slc_phs.val_maxv</th>\n",
       "      <th>dsp_cmap</th>\n",
       "      <th>slt_phs.dsp_cmap</th>\n",
       "      <th>grd_phs.dsp_cmap</th>\n",
       "      <th>slc_phs.dsp_cmap</th>\n",
       "      <th>set_hddr</th>\n",
       "      <th>set_tail</th>\n",
       "    </tr>\n",
       "  </thead>\n",
       "  <tbody>\n",
       "    <tr>\n",
       "      <th>value</th>\n",
       "      <td>2</td>\n",
       "      <td>Yellowstone National Park, WY</td>\n",
       "      <td>N/A</td>\n",
       "      <td>N/A</td>\n",
       "      <td>N/A</td>\n",
       "      <td>http://uavsar.jpl.nasa.gov/cgi-bin/product.pl?...</td>\n",
       "      <td>ylwstn_26902_09053-000_14110-001_1838d_s01_L09...</td>\n",
       "      <td>ylwstn_26902_09053-000_14110-001_1838d_s01_L09...</td>\n",
       "      <td>ylwstn_26902_09053-000_14110-001_1838d_s01_L09...</td>\n",
       "      <td>ylwstn_26902_09053-000_14110-001_1838d_s01_L09...</td>\n",
       "      <td>...</td>\n",
       "      <td>3.14</td>\n",
       "      <td>1.0</td>\n",
       "      <td>-3.14</td>\n",
       "      <td>3.14</td>\n",
       "      <td>grey</td>\n",
       "      <td>cmy</td>\n",
       "      <td>cmy</td>\n",
       "      <td>cmy</td>\n",
       "      <td>0</td>\n",
       "      <td>0</td>\n",
       "    </tr>\n",
       "    <tr>\n",
       "      <th>units</th>\n",
       "      <td>-</td>\n",
       "      <td>&amp;</td>\n",
       "      <td>&amp;</td>\n",
       "      <td>&amp;</td>\n",
       "      <td>&amp;</td>\n",
       "      <td>&amp;</td>\n",
       "      <td>&amp;</td>\n",
       "      <td>&amp;</td>\n",
       "      <td>&amp;</td>\n",
       "      <td>&amp;</td>\n",
       "      <td>...</td>\n",
       "      <td>rad</td>\n",
       "      <td>-</td>\n",
       "      <td>rad</td>\n",
       "      <td>rad</td>\n",
       "      <td>&amp;</td>\n",
       "      <td>&amp;</td>\n",
       "      <td>&amp;</td>\n",
       "      <td>&amp;</td>\n",
       "      <td>bytes</td>\n",
       "      <td>bytes</td>\n",
       "    </tr>\n",
       "    <tr>\n",
       "      <th>comment</th>\n",
       "      <td>uavsar rpi annotation file version number     ...</td>\n",
       "      <td>site description                              ...</td>\n",
       "      <td>flight plan comments of pass 1                ...</td>\n",
       "      <td>flight plan comments of pass 2                ...</td>\n",
       "      <td>processing comments                           ...</td>\n",
       "      <td>url                                           ...</td>\n",
       "      <td>file size   374486448 bytes</td>\n",
       "      <td>file size   187243224 bytes</td>\n",
       "      <td>file size   187243224 bytes</td>\n",
       "      <td>file size   187243224 bytes</td>\n",
       "      <td>...</td>\n",
       "      <td>maximum value default for display</td>\n",
       "      <td>maximum value default for display</td>\n",
       "      <td>maximum value default for display</td>\n",
       "      <td>maximum value default for display</td>\n",
       "      <td>default grey color table</td>\n",
       "      <td>color table for interferogram phase</td>\n",
       "      <td>color table for interferogram phase</td>\n",
       "      <td>color table for interferogram phase</td>\n",
       "      <td>header bytes in raw data</td>\n",
       "      <td>tail bytes in raw data</td>\n",
       "    </tr>\n",
       "  </tbody>\n",
       "</table>\n",
       "<p>3 rows × 230 columns</p>\n",
       "</div>"
      ],
      "text/plain": [
       "                 uavsar rpi annotation file version number  \\\n",
       "value                                                    2   \n",
       "units                                                    -   \n",
       "comment  uavsar rpi annotation file version number     ...   \n",
       "\n",
       "                                          site description  \\\n",
       "value                        Yellowstone National Park, WY   \n",
       "units                                                    &   \n",
       "comment  site description                              ...   \n",
       "\n",
       "                            flight plan comments of pass 1  \\\n",
       "value                                                  N/A   \n",
       "units                                                    &   \n",
       "comment  flight plan comments of pass 1                ...   \n",
       "\n",
       "                            flight plan comments of pass 2  \\\n",
       "value                                                  N/A   \n",
       "units                                                    &   \n",
       "comment  flight plan comments of pass 2                ...   \n",
       "\n",
       "                                       processing comments  \\\n",
       "value                                                  N/A   \n",
       "units                                                    &   \n",
       "comment  processing comments                           ...   \n",
       "\n",
       "                                                       url  \\\n",
       "value    http://uavsar.jpl.nasa.gov/cgi-bin/product.pl?...   \n",
       "units                                                    &   \n",
       "comment  url                                           ...   \n",
       "\n",
       "                                 slant range interferogram  \\\n",
       "value    ylwstn_26902_09053-000_14110-001_1838d_s01_L09...   \n",
       "units                                                    &   \n",
       "comment                        file size   374486448 bytes   \n",
       "\n",
       "                               slant range unwrapped phase  \\\n",
       "value    ylwstn_26902_09053-000_14110-001_1838d_s01_L09...   \n",
       "units                                                    &   \n",
       "comment                        file size   187243224 bytes   \n",
       "\n",
       "                                   slant range correlation  \\\n",
       "value    ylwstn_26902_09053-000_14110-001_1838d_s01_L09...   \n",
       "units                                                    &   \n",
       "comment                        file size   187243224 bytes   \n",
       "\n",
       "                           slant range amplitude of pass 1  ...  \\\n",
       "value    ylwstn_26902_09053-000_14110-001_1838d_s01_L09...  ...   \n",
       "units                                                    &  ...   \n",
       "comment                        file size   187243224 bytes  ...   \n",
       "\n",
       "                          grd_phs.val_maxv                   slc_phs.val_mult  \\\n",
       "value                                 3.14                                1.0   \n",
       "units                                  rad                                  -   \n",
       "comment  maximum value default for display  maximum value default for display   \n",
       "\n",
       "                          slc_phs.val_minv                   slc_phs.val_maxv  \\\n",
       "value                                -3.14                               3.14   \n",
       "units                                  rad                                rad   \n",
       "comment  maximum value default for display  maximum value default for display   \n",
       "\n",
       "                         dsp_cmap                     slt_phs.dsp_cmap  \\\n",
       "value                        grey                                  cmy   \n",
       "units                           &                                    &   \n",
       "comment  default grey color table  color table for interferogram phase   \n",
       "\n",
       "                            grd_phs.dsp_cmap  \\\n",
       "value                                    cmy   \n",
       "units                                      &   \n",
       "comment  color table for interferogram phase   \n",
       "\n",
       "                            slc_phs.dsp_cmap                  set_hddr  \\\n",
       "value                                    cmy                         0   \n",
       "units                                      &                     bytes   \n",
       "comment  color table for interferogram phase  header bytes in raw data   \n",
       "\n",
       "                       set_tail  \n",
       "value                         0  \n",
       "units                     bytes  \n",
       "comment  tail bytes in raw data  \n",
       "\n",
       "[3 rows x 230 columns]"
      ]
     },
     "execution_count": 36,
     "metadata": {},
     "output_type": "execute_result"
    }
   ],
   "source": [
    "df"
   ]
  },
  {
   "cell_type": "code",
   "execution_count": 37,
   "metadata": {},
   "outputs": [
    {
     "name": "stdout",
     "output_type": "stream",
     "text": [
      "31-Jul-2009 19:52:54 UTC\n",
      "12-Aug-2014 20:04:09 UTC\n"
     ]
    }
   ],
   "source": [
    "print(scene.images[0]['description']['start time of acquisition for pass 1']['value'])\n",
    "print(scene.images[0]['description']['start time of acquisition for pass 2']['value'])"
   ]
  },
  {
   "cell_type": "code",
   "execution_count": 38,
   "metadata": {},
   "outputs": [],
   "source": [
    "import matplotlib.pyplot as plt\n",
    "plt.imshow(scene.images[0]['array'].astype(float))"
   ]
  },
  {
   "cell_type": "markdown",
   "metadata": {},
   "source": [
    "## You have a single image (usually an incidence angle file and want to convert)"
   ]
  },
  {
   "cell_type": "code",
   "execution_count": 1,
   "metadata": {},
   "outputs": [
    {
     "name": "stderr",
     "output_type": "stream",
     "text": [
      "Downloading lowman_23205_21021_006_210322_L090_CX_01.inc: 100%|██████████| 1.72G/1.72G [03:09<00:00, 9.09MB/s]\n",
      "Downloading lowman_23205_21021_006_210322_L090_CX_01.ann: 100%|██████████| 29.0k/29.0k [00:00<00:00, 5.15MB/s]\n"
     ]
    }
   ],
   "source": [
    "from uavsar_pytools.UavsarImage import UavsarImage\n",
    "inc_url = 'http://uavsar.asfdaac.alaska.edu/UA_lowman_23205_21021_006_210322_L090_CX_01/lowman_23205_21021_006_210322_L090_CX_01.inc'\n",
    "directory_to_load = '~/Downloads/uavsar_ex/jpl_img'\n",
    "img = UavsarImage(url = inc_url, work_dir = directory_to_load)\n",
    "img.url_to_tiff()"
   ]
  },
  {
   "cell_type": "code",
   "execution_count": 3,
   "metadata": {},
   "outputs": [
    {
     "name": "stderr",
     "output_type": "stream",
     "text": [
      "/home/zacharykeskinen/anaconda3/envs/play/lib/python3.8/site-packages/uavsar_pytools/UavsarImage.py:82: FutureWarning: elementwise != comparison failed and returning scalar instead; this will raise an error or perform elementwise comparison in the future.\n",
      "  if self.arr != None:\n"
     ]
    },
    {
     "data": {
      "image/png": "[encoded data removed]",
      "text/plain": [
       "<Figure size 432x288 with 2 Axes>"
      ]
     },
     "metadata": {
      "needs_background": "light"
     },
     "output_type": "display_data"
    }
   ],
   "source": [
    "img.show()"
   ]
  },
  {
   "cell_type": "markdown",
   "metadata": {},
   "source": [
    "## You want to define and search programmatically"
   ]
  },
  {
   "cell_type": "markdown",
   "metadata": {},
   "source": [
    "# ASF Search Parameters\n",
    "\n",
    "from: https://docs.asf.alaska.edu/api/keywords/\n",
    "                     \n",
    "                     platform = 'UAVSAR',\n",
    "                     processingLevel = (['INTERFEROMETRY_GRD']),\n",
    "                     intersectsWith = wkt,\n",
    "                     collectionName = 'lowman'\n",
    "                     start = start_date,\n",
    "                     end = end_date)"
   ]
  },
  {
   "cell_type": "code",
   "execution_count": 9,
   "metadata": {},
   "outputs": [
    {
     "name": "stdout",
     "output_type": "stream",
     "text": [
      "4 product(s) found\n"
     ]
    }
   ],
   "source": [
    "# search for data\n",
    "results = asf.search(platform = 'UAVSAR',\n",
    "                     processingLevel = (['INTERFEROMETRY_GRD']),\n",
    "                     collectionName = 'Peeler Peak, CO')\n",
    "\n",
    "print(f'{len(results)} product(s) found')"
   ]
  },
  {
   "cell_type": "code",
   "execution_count": 1,
   "metadata": {},
   "outputs": [
    {
     "data": {
      "text/html": [
       "<div style=\"width:100%;\"><div style=\"position:relative;width:100%;height:0;padding-bottom:60%;\"><span style=\"color:#565656\">Make this Notebook Trusted to load map: File -> Trust Notebook</span><iframe srcdoc=\"&lt;!DOCTYPE html&gt;\n",
       "&lt;head&gt;    \n",
       "    &lt;meta http-equiv=&quot;content-type&quot; content=&quot;text/html; charset=UTF-8&quot; /&gt;\n",
       "    \n",
       "        &lt;script&gt;\n",
       "            L_NO_TOUCH = false;\n",
       "            L_DISABLE_3D = false;\n",
       "        &lt;/script&gt;\n",
       "    \n",
       "    &lt;style&gt;html, body {width: 100%;height: 100%;margin: 0;padding: 0;}&lt;/style&gt;\n",
       "    &lt;style&gt;#map {position:absolute;top:0;bottom:0;right:0;left:0;}&lt;/style&gt;\n",
       "    &lt;script src=&quot;https://cdn.jsdelivr.net/npm/leaflet@1.6.0/dist/leaflet.js&quot;&gt;&lt;/script&gt;\n",
       "    &lt;script src=&quot;https://code.jquery.com/jquery-1.12.4.min.js&quot;&gt;&lt;/script&gt;\n",
       "    &lt;script src=&quot;https://maxcdn.bootstrapcdn.com/bootstrap/3.2.0/js/bootstrap.min.js&quot;&gt;&lt;/script&gt;\n",
       "    &lt;script src=&quot;https://cdnjs.cloudflare.com/ajax/libs/Leaflet.awesome-markers/2.0.2/leaflet.awesome-markers.js&quot;&gt;&lt;/script&gt;\n",
       "    &lt;link rel=&quot;stylesheet&quot; href=&quot;https://cdn.jsdelivr.net/npm/leaflet@1.6.0/dist/leaflet.css&quot;/&gt;\n",
       "    &lt;link rel=&quot;stylesheet&quot; href=&quot;https://maxcdn.bootstrapcdn.com/bootstrap/3.2.0/css/bootstrap.min.css&quot;/&gt;\n",
       "    &lt;link rel=&quot;stylesheet&quot; href=&quot;https://maxcdn.bootstrapcdn.com/bootstrap/3.2.0/css/bootstrap-theme.min.css&quot;/&gt;\n",
       "    &lt;link rel=&quot;stylesheet&quot; href=&quot;https://maxcdn.bootstrapcdn.com/font-awesome/4.6.3/css/font-awesome.min.css&quot;/&gt;\n",
       "    &lt;link rel=&quot;stylesheet&quot; href=&quot;https://cdnjs.cloudflare.com/ajax/libs/Leaflet.awesome-markers/2.0.2/leaflet.awesome-markers.css&quot;/&gt;\n",
       "    &lt;link rel=&quot;stylesheet&quot; href=&quot;https://cdn.jsdelivr.net/gh/python-visualization/folium/folium/templates/leaflet.awesome.rotate.min.css&quot;/&gt;\n",
       "    \n",
       "            &lt;meta name=&quot;viewport&quot; content=&quot;width=device-width,\n",
       "                initial-scale=1.0, maximum-scale=1.0, user-scalable=no&quot; /&gt;\n",
       "            &lt;style&gt;\n",
       "                #map_30b35e93733fe3a62a648398cab2a62a {\n",
       "                    position: relative;\n",
       "                    width: 100.0%;\n",
       "                    height: 100.0%;\n",
       "                    left: 0.0%;\n",
       "                    top: 0.0%;\n",
       "                }\n",
       "            &lt;/style&gt;\n",
       "        \n",
       "    &lt;script src=&quot;https://cdnjs.cloudflare.com/ajax/libs/leaflet.draw/1.0.2/leaflet.draw.js&quot;&gt;&lt;/script&gt;\n",
       "    &lt;link rel=&quot;stylesheet&quot; href=&quot;https://cdnjs.cloudflare.com/ajax/libs/leaflet.draw/1.0.2/leaflet.draw.css&quot;/&gt;\n",
       "    \n",
       "            &lt;style&gt;\n",
       "                #export {\n",
       "                    position: absolute;\n",
       "                    top: 5px;\n",
       "                    right: 10px;\n",
       "                    z-index: 999;\n",
       "                    background: white;\n",
       "                    color: black;\n",
       "                    padding: 6px;\n",
       "                    border-radius: 4px;\n",
       "                    font-family: &#x27;Helvetica Neue&#x27;;\n",
       "                    cursor: pointer;\n",
       "                    font-size: 12px;\n",
       "                    text-decoration: none;\n",
       "                    top: 90px;\n",
       "                }\n",
       "            &lt;/style&gt;\n",
       "        \n",
       "&lt;/head&gt;\n",
       "&lt;body&gt;    \n",
       "    \n",
       "            &lt;div class=&quot;folium-map&quot; id=&quot;map_30b35e93733fe3a62a648398cab2a62a&quot; &gt;&lt;/div&gt;\n",
       "        \n",
       "    &lt;a href=&#x27;#&#x27; id=&#x27;export&#x27;&gt;Export&lt;/a&gt;\n",
       "&lt;/body&gt;\n",
       "&lt;script&gt;    \n",
       "    \n",
       "            var map_30b35e93733fe3a62a648398cab2a62a = L.map(\n",
       "                &quot;map_30b35e93733fe3a62a648398cab2a62a&quot;,\n",
       "                {\n",
       "                    center: [0, 0],\n",
       "                    crs: L.CRS.EPSG3857,\n",
       "                    zoom: 1,\n",
       "                    zoomControl: true,\n",
       "                    preferCanvas: false,\n",
       "                }\n",
       "            );\n",
       "\n",
       "            \n",
       "\n",
       "        \n",
       "    \n",
       "            var tile_layer_d1dc3606e4a2e237e94c5b3615883783 = L.tileLayer(\n",
       "                &quot;https://{s}.tile.openstreetmap.org/{z}/{x}/{y}.png&quot;,\n",
       "                {&quot;attribution&quot;: &quot;Data by \\u0026copy; \\u003ca href=\\&quot;http://openstreetmap.org\\&quot;\\u003eOpenStreetMap\\u003c/a\\u003e, under \\u003ca href=\\&quot;http://www.openstreetmap.org/copyright\\&quot;\\u003eODbL\\u003c/a\\u003e.&quot;, &quot;detectRetina&quot;: false, &quot;maxNativeZoom&quot;: 18, &quot;maxZoom&quot;: 18, &quot;minZoom&quot;: 0, &quot;noWrap&quot;: false, &quot;opacity&quot;: 1, &quot;subdomains&quot;: &quot;abc&quot;, &quot;tms&quot;: false}\n",
       "            ).addTo(map_30b35e93733fe3a62a648398cab2a62a);\n",
       "        \n",
       "    \n",
       "            var options = {\n",
       "              position: &quot;topleft&quot;,\n",
       "              draw: {},\n",
       "              edit: {},\n",
       "            }\n",
       "            // FeatureGroup is to store editable layers.\n",
       "            var drawnItems = new L.featureGroup().addTo(\n",
       "                map_30b35e93733fe3a62a648398cab2a62a\n",
       "            );\n",
       "            options.edit.featureGroup = drawnItems;\n",
       "            var draw_control_93a44d17d431d2472dad23ae84be9578 = new L.Control.Draw(\n",
       "                options\n",
       "            ).addTo( map_30b35e93733fe3a62a648398cab2a62a );\n",
       "            map_30b35e93733fe3a62a648398cab2a62a.on(L.Draw.Event.CREATED, function(e) {\n",
       "                var layer = e.layer,\n",
       "                    type = e.layerType;\n",
       "                var coords = JSON.stringify(layer.toGeoJSON());\n",
       "                layer.on(&#x27;click&#x27;, function() {\n",
       "                    alert(coords);\n",
       "                    console.log(coords);\n",
       "                });\n",
       "                drawnItems.addLayer(layer);\n",
       "             });\n",
       "            map_30b35e93733fe3a62a648398cab2a62a.on(&#x27;draw:created&#x27;, function(e) {\n",
       "                drawnItems.addLayer(e.layer);\n",
       "            });\n",
       "            \n",
       "            document.getElementById(&#x27;export&#x27;).onclick = function(e) {\n",
       "                var data = drawnItems.toGeoJSON();\n",
       "                var convertedData = &#x27;text/json;charset=utf-8,&#x27;\n",
       "                    + encodeURIComponent(JSON.stringify(data));\n",
       "                document.getElementById(&#x27;export&#x27;).setAttribute(\n",
       "                    &#x27;href&#x27;, &#x27;data:&#x27; + convertedData\n",
       "                );\n",
       "                document.getElementById(&#x27;export&#x27;).setAttribute(\n",
       "                    &#x27;download&#x27;, &quot;asf_wkt.geojson&quot;\n",
       "                );\n",
       "            }\n",
       "            \n",
       "        \n",
       "&lt;/script&gt;\" style=\"position:absolute;width:100%;height:100%;left:0;top:0;border:none !important;\" allowfullscreen webkitallowfullscreen mozallowfullscreen></iframe></div></div>"
      ],
      "text/plain": [
       "<folium.folium.Map at 0x7fc4f6297ca0>"
      ]
     },
     "execution_count": 1,
     "metadata": {},
     "output_type": "execute_result"
    }
   ],
   "source": [
    "# show map\n",
    "from folium import Map\n",
    "from folium.plugins import Draw\n",
    "m = Map()\n",
    "draw = Draw(export = True, filename = 'asf_wkt.geojson')\n",
    "draw.add_to(m)\n",
    "m"
   ]
  },
  {
   "cell_type": "code",
   "execution_count": 2,
   "metadata": {},
   "outputs": [
    {
     "name": "stdout",
     "output_type": "stream",
     "text": [
      "POLYGON ((-120.585938 33.72434, -120.585938 46.55886, -91.40625 46.55886, -91.40625 33.72434, -120.585938 33.72434))\n"
     ]
    }
   ],
   "source": [
    "import geopandas as gpd\n",
    "wkt = 'POLYGON((-135.6 58.2 -136.6 58.1 -135.8 56.9 -134.6 56.9 -134.9 58.0 -135.7 58.2))'\n",
    "wkt = gpd.read_file('~/Downloads/asf_wkt.geojson').to_wkt().loc[0, 'geometry']\n",
    "print(wkt)"
   ]
  },
  {
   "cell_type": "code",
   "execution_count": 4,
   "metadata": {},
   "outputs": [
    {
     "name": "stdout",
     "output_type": "stream",
     "text": [
      "65 product(s) found\n"
     ]
    }
   ],
   "source": [
    "from datetime import datetime\n",
    "import asf_search as asf\n",
    "# define search parameters for sierra flight line\n",
    "start_date = datetime.strptime('2020-02-20 11:00:00', '%Y-%m-%d %H:%M:%S') \n",
    "end_date = datetime.strptime('2021-02-21 11:00:00', '%Y-%m-%d %H:%M:%S') \n",
    "\n",
    "# search for data\n",
    "results = asf.search(platform = 'UAVSAR',\n",
    "                     processingLevel = (['INTERFEROMETRY_GRD']),\n",
    "                     intersectsWith = wkt,\n",
    "                     start = start_date,\n",
    "                     end = end_date)\n",
    "\n",
    "print(f'{len(results)} product(s) found')"
   ]
  },
  {
   "cell_type": "markdown",
   "metadata": {},
   "source": [
    "https://api.daac.asf.alaska.edu/services/utils/mission_list"
   ]
  },
  {
   "cell_type": "code",
   "execution_count": 7,
   "metadata": {},
   "outputs": [
    {
     "name": "stdout",
     "output_type": "stream",
     "text": [
      "17 product(s) found\n"
     ]
    }
   ],
   "source": [
    "from datetime import datetime\n",
    "import asf_search as asf\n",
    "\n",
    "# search for data\n",
    "results = asf.search(platform = 'UAVSAR',\n",
    "                     processingLevel = (['INTERFEROMETRY_GRD']),\n",
    "                     collectionName = 'Lowman, CO')\n",
    "\n",
    "print(f'{len(results)} product(s) found')"
   ]
  },
  {
   "cell_type": "code",
   "execution_count": 8,
   "metadata": {},
   "outputs": [
    {
     "name": "stdout",
     "output_type": "stream",
     "text": [
      "4 product(s) found\n"
     ]
    }
   ],
   "source": [
    "# search for data\n",
    "results = asf.search(platform = 'UAVSAR',\n",
    "                     processingLevel = (['INTERFEROMETRY_GRD']),\n",
    "                     collectionName = 'Peeler Peak, CO')\n",
    "\n",
    "print(f'{len(results)} product(s) found')"
   ]
  },
  {
   "cell_type": "code",
   "execution_count": null,
   "metadata": {},
   "outputs": [],
   "source": [
    "for i in range(len(results)):\n",
    "    url = results[i].properties['url']\n",
    "    scene = UavsarScene(url = url, work_dir= './data/imgs/')\n",
    "    scene.url_to_tiffs()\n",
    "    print(scene.images[0]['description']['start time of acquisition for pass 1']['value'])\n",
    "    print(scene.images[0]['description']['start time of acquisition for pass 2']['value'])"
   ]
  }
 ],
 "metadata": {
  "interpreter": {
   "hash": "f6a401748561ccf4b02a2d1eb7d5bf189979b8ae4107867c67e9029bf7aa348c"
  },
  "kernelspec": {
   "display_name": "Python 3.9.10 ('uavsar')",
   "language": "python",
   "name": "python3"
  },
  "language_info": {
   "codemirror_mode": {
    "name": "ipython",
    "version": 3
   },
   "file_extension": ".py",
   "mimetype": "text/x-python",
   "name": "python",
   "nbconvert_exporter": "python",
   "pygments_lexer": "ipython3",
   "version": "3.8.12"
  },
  "orig_nbformat": 4
 },
 "nbformat": 4,
 "nbformat_minor": 2
}
