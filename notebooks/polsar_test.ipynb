{
 "cells": [
  {
   "cell_type": "code",
   "execution_count": null,
   "metadata": {},
   "outputs": [],
   "source": [
    "import sys\n",
    "sys.path.insert(0, '/Users/zachkeskinen/Documents/uavsar_pytools/')\n",
    "from uavsar_pytools import UavsarCollection\n",
    "import asf_search as asf"
   ]
  },
  {
   "cell_type": "code",
   "execution_count": null,
   "metadata": {},
   "outputs": [],
   "source": [
    "wdir = '/tmp/polsar'\n",
    "collection = UavsarCollection(collection = 'Salt Lake City, UT', work_dir= wdir, dates = ('2020-01-01', '2020-02-01'), img_type = 'PROJECTED', inc = True)"
   ]
  },
  {
   "cell_type": "code",
   "execution_count": null,
   "metadata": {},
   "outputs": [],
   "source": [
    "collection.collection_to_tiffs()"
   ]
  },
  {
   "cell_type": "code",
   "execution_count": null,
   "metadata": {},
   "outputs": [],
   "source": [
    "from glob import glob\n",
    "glob(join(wdir, 'stlake_09127_20002_009_200131_L090_CX_01_grd', '*.tiff'))"
   ]
  },
  {
   "cell_type": "code",
   "execution_count": null,
   "metadata": {},
   "outputs": [],
   "source": [
    "import sys\n",
    "sys.path.insert(0, '/Users/zachkeskinen/Documents/uavsar_pytools/')\n",
    "from uavsar_pytools.polsar import H_A_alpha_decomp\n",
    "from os.path import join\n",
    "wdir = '/tmp/polsar'\n",
    "H_A_alpha_decomp(join(wdir, 'stlake_09127_20002_009_200131_L090_CX_01_grd'), out_dir='/tmp/haalpha', parralel=True)"
   ]
  },
  {
   "cell_type": "code",
   "execution_count": null,
   "metadata": {},
   "outputs": [],
   "source": [
    "import numpy as np\n",
    "import rasterio as rio\n",
    "from rasterio.plot import show\n",
    "import matplotlib.pyplot as plt\n",
    "f, ax = plt.subplots()\n",
    "with rio.open('/tmp/haalpha/anisotropy') as src:\n",
    "    # show(src, ax = ax)\n",
    "    c = ax.imshow(src.read(1), vmin = 0, vmax = 0.8)\n",
    "    plt.colorbar(c)"
   ]
  },
  {
   "cell_type": "code",
   "execution_count": null,
   "metadata": {},
   "outputs": [],
   "source": [
    "with rio.open('/tmp/haalpha/anisotropy') as src:\n",
    "    arr = src.read(1)\n",
    "np.nanmean(arr)"
   ]
  },
  {
   "cell_type": "code",
   "execution_count": null,
   "metadata": {},
   "outputs": [],
   "source": [
    "arr[2000:2200,2000:2200]"
   ]
  },
  {
   "cell_type": "code",
   "execution_count": null,
   "metadata": {},
   "outputs": [],
   "source": []
  }
 ],
 "metadata": {
  "kernelspec": {
   "display_name": "Python 3.9.12 ('uavsar')",
   "language": "python",
   "name": "python3"
  },
  "language_info": {
   "codemirror_mode": {
    "name": "ipython",
    "version": 3
   },
   "file_extension": ".py",
   "mimetype": "text/x-python",
   "name": "python",
   "nbconvert_exporter": "python",
   "pygments_lexer": "ipython3"
  },
  "vscode": {
   "interpreter": {
    "hash": "ba8967e065a58c806f1bdb735567067b52f77062b6ff6cacc1c3011561bd9c8e"
   }
  }
 },
 "nbformat": 4,
 "nbformat_minor": 2
}
