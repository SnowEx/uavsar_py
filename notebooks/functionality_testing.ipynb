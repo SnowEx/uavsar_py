{
 "cells": [
  {
   "cell_type": "code",
   "execution_count": null,
   "metadata": {},
   "outputs": [],
   "source": [
    "import os\n",
    "from os.path import join, basename\n",
    "from glob import glob\n",
    "import rasterio as rio\n",
    "from rasterio.plot import show\n",
    "import matplotlib.pyplot as plt\n",
    "import numpy as np\n",
    "import sys\n",
    "import rioxarray as rxa\n",
    "sys.path.insert(0, '/Users/zachkeskinen/Documents/testing/uavsar_pytools/')\n",
    "from uavsar_pytools import UavsarImage, UavsarScene, UavsarCollection"
   ]
  },
  {
   "cell_type": "code",
   "execution_count": null,
   "metadata": {},
   "outputs": [],
   "source": [
    "img_url = 'http://uavsar.asfdaac.alaska.edu/UA_alamos_35915_20008-000_20013-000_0007d_s01_L090_02/alamos_35915_20008-000_20013-000_0007d_s01_L090HH_02.amp1.grd'\n",
    "work_dir = '/tmp/pytools_test/'\n",
    "image = UavsarImage(url = img_url, work_dir=work_dir)\n",
    "image.url_to_tiff()"
   ]
  },
  {
   "cell_type": "code",
   "execution_count": null,
   "metadata": {},
   "outputs": [],
   "source": [
    "with rio.open(image.out_fp) as src:\n",
    "    arr = src.read(1)\n",
    "    vmin, vmax = np.nanquantile(arr, [0.1,0.9])\n",
    "    show(src, vmin = vmin, vmax = vmax)"
   ]
  },
  {
   "cell_type": "code",
   "execution_count": null,
   "metadata": {},
   "outputs": [],
   "source": [
    "scene_url = 'https://datapool.asf.alaska.edu/INTERFEROMETRY_GRD/UA/Slumgl_12502_13086-002_13090-002_0007d_s01_L090_01_int_grd.zip'\n",
    "scene_url = 'https://datapool.asf.alaska.edu/INTERFEROMETRY_GRD/UA/stlake_09127_20002-009_20007-005_0013d_s01_L090_01_int_grd.zip'\n",
    "work_dir = '/tmp/pytools_test/'\n",
    "scene = UavsarScene(url = scene_url, work_dir=work_dir, clean = True)\n",
    "scene.url_to_tiffs()"
   ]
  },
  {
   "cell_type": "code",
   "execution_count": null,
   "metadata": {},
   "outputs": [],
   "source": [
    "plt.rcParams['axes.facecolor']='lightgrey'\n",
    "f, axes = plt.subplots(3,1, figsize = (12,8), dpi = 160)\n",
    "ax1, ax2, ax3 = axes\n",
    "mag = np.abs(scene.images['int']['array'])\n",
    "phase = np.angle(scene.images['int']['array'])\n",
    "\n",
    "ax1.imshow(scene.images['cor']['array'])\n",
    "ax1.set_title('Coherence')\n",
    "ax2.imshow(mag, vmin = 0, vmax = 1)\n",
    "ax2.set_title('Amplitude')\n",
    "ax3.imshow(phase, vmin = -2, vmax = 2)\n",
    "ax3.set_title('Phase')\n",
    "for ax in axes:\n",
    "    ax.xaxis.set_visible(False)\n",
    "    ax.yaxis.set_visible(False)\n",
    "plt.tight_layout()"
   ]
  },
  {
   "cell_type": "code",
   "execution_count": null,
   "metadata": {},
   "outputs": [],
   "source": [
    "collection_name = 'Grand Mesa, CO'\n",
    "work_dir = '/tmp/pytools_test/'\n",
    "collection = UavsarCollection(collection = collection_name, work_dir = work_dir, inc = True, dates = ('2020-03-01','2020-04-02'))\n",
    "collection.find_urls()\n",
    "print(len(collection.results))\n",
    "collection.results_to_tiffs()"
   ]
  },
  {
   "cell_type": "code",
   "execution_count": null,
   "metadata": {},
   "outputs": [],
   "source": [
    "from uavsar_pytools.snow_depth_inversion import depth_from_phase, phase_from_depth\n",
    "from uavsar_pytools.georeference import reproject_clip_mask"
   ]
  },
  {
   "cell_type": "code",
   "execution_count": null,
   "metadata": {},
   "outputs": [],
   "source": [
    "work_dir = '/tmp/pytools_test/'\n",
    "unw_fp = glob(join('/tmp/pytools_test/', 'grmesa_27416_20013-004_20017-006_0015d_s01_L090_01_int_grd','*VV*.unw.grd.tiff'))[0]\n",
    "inc_fp = glob(join('/tmp/pytools_test/', 'grmesa_27416_20013-004_20017-006_0015d_s01_L090_01_int_grd','*inc.tiff'))[0]\n",
    "new_inc_fp = join(work_dir, 'inc_resampled.tif')\n",
    "\n",
    "reproject_clip_mask(inc_fp, unw_fp, out_fp=new_inc_fp)"
   ]
  },
  {
   "cell_type": "code",
   "execution_count": null,
   "metadata": {},
   "outputs": [],
   "source": [
    "f, ax = plt.subplots()\n",
    "rxa.open_rasterio(new_inc_fp).plot(ax = ax, add_colorbar=False)\n",
    "plt.title('Incidence Angle')\n",
    "\n",
    "ax.xaxis.set_visible(False)\n",
    "ax.yaxis.set_visible(False)\n",
    "plt.show()\n",
    "f, ax = plt.subplots()\n",
    "rxa.open_rasterio(unw_fp).plot(ax = ax, add_colorbar=False)\n",
    "plt.title('Phase Change')\n",
    "\n",
    "ax.xaxis.set_visible(False)\n",
    "ax.yaxis.set_visible(False)\n",
    "plt.show()"
   ]
  },
  {
   "cell_type": "code",
   "execution_count": null,
   "metadata": {},
   "outputs": [],
   "source": [
    "f, ax = plt.subplots()\n",
    "rxa.open_rasterio(unw_fp).plot(ax = ax, add_colorbar=False, vmin = -2, vmax = 2,cmap = 'magma')\n",
    "plt.title('Phase Change')\n",
    "\n",
    "ax.xaxis.set_visible(False)\n",
    "ax.yaxis.set_visible(False)\n",
    "plt.show()"
   ]
  },
  {
   "cell_type": "code",
   "execution_count": null,
   "metadata": {},
   "outputs": [],
   "source": [
    "import matplotlib.pyplot as plt\n",
    "with rio.open(unw_fp) as unw_src, rio.open(new_inc_fp) as inc_src:\n",
    "    unw = unw_src.read(1)\n",
    "    inc = inc_src.read(1)\n",
    "    dz = depth_from_phase(unw, inc, permittivity=1.2)\n",
    "    dphase = phase_from_depth(dz, inc, permittivity=1.2)\n",
    "f, (ax1, ax2, ax3) = plt.subplots(1,3,figsize = (12,8))\n",
    "ax1.imshow(unw, vmin = -np.pi, vmax= np.pi)\n",
    "ax2.imshow(dz, vmin = -0.5, vmax = 0.5)\n",
    "phase_diff = unw - dphase\n",
    "ax3.imshow(phase_diff, vmin = -0.1, vmax= 0.1)\n",
    "np.nanmean(phase_diff)"
   ]
  },
  {
   "cell_type": "code",
   "execution_count": null,
   "metadata": {},
   "outputs": [],
   "source": [
    "f, ax1 = plt.subplots(1,1, figsize = (12,8), dpi = 160)\n",
    "\n",
    "ax1.imshow(dz, vmin = 0, vmax = 0.3, interpolation='nearest')\n",
    "ax1.set_title('Snow Depth Change')\n",
    "ax1.xaxis.set_visible(False)\n",
    "ax1.yaxis.set_visible(False)"
   ]
  },
  {
   "cell_type": "code",
   "execution_count": null,
   "metadata": {},
   "outputs": [],
   "source": [
    "polsar_url = 'https://datapool.asf.alaska.edu/PROJECTED/UA/eelriv_24500_21059_002_211018_L090_CX_01_grd.zip'\n",
    "scene = UavsarScene(url =polsar_url, work_dir=work_dir)\n",
    "scene.download()\n",
    "scene.unzip()"
   ]
  },
  {
   "cell_type": "code",
   "execution_count": null,
   "metadata": {},
   "outputs": [],
   "source": [
    "from uavsar_pytools.polsar import H_A_alpha_decomp\n",
    "from os.path import join"
   ]
  },
  {
   "cell_type": "code",
   "execution_count": null,
   "metadata": {},
   "outputs": [],
   "source": [
    "work_dir = '/tmp/pytools_test/'\n",
    "polsar_dir = join(work_dir, 'tmp', 'eelriv_24500_21059_002_211018_L090_CX_01_grd','bin_imgs')\n",
    "H_A_alpha_decomp(polsar_dir, out_dir = join(work_dir, 'polsar_out'), parralel = True)"
   ]
  },
  {
   "cell_type": "code",
   "execution_count": null,
   "metadata": {},
   "outputs": [],
   "source": [
    "polsar_url = 'https://datapool.asf.alaska.edu/PROJECTED/UA/eelriv_24500_21059_002_211018_L090_CX_01_grd.zip'\n",
    "scene = UavsarScene(url =polsar_url, work_dir=work_dir)\n",
    "scene.download()\n",
    "scene.unzip()"
   ]
  },
  {
   "cell_type": "code",
   "execution_count": null,
   "metadata": {},
   "outputs": [],
   "source": [
    "from uavsar_pytools.georeference import geolocate_uavsar\n",
    "from uavsar_pytools.incidence_angle import calc_inc_angle"
   ]
  },
  {
   "cell_type": "code",
   "execution_count": null,
   "metadata": {},
   "outputs": [],
   "source": [
    "!wget https://downloaduav2.jpl.nasa.gov/Release20/grmesa_26006_01/grmesa_26006_01_BC.dop\n",
    "!wget https://downloaduav2.jpl.nasa.gov/Release20/grmesa_26006_01/grmesa_26006_01_BC_s1_2x8.llh\n",
    "!wget https://downloaduav2.jpl.nasa.gov/Release20/grmesa_26006_01/grmesa_26006_01_BC_s1_2x8.lkv\n",
    "!wget https://downloaduav2.jpl.nasa.gov/Release20/grmesa_26006_01/grmesa_26006_17002_001_170206_L090HH_01_BC.ann"
   ]
  },
  {
   "cell_type": "code",
   "execution_count": null,
   "metadata": {},
   "outputs": [],
   "source": [
    "work_dir = '/tmp/pytools_test/'\n",
    "lkv_fp = glob(join('/tmp/pytools_test/georef_inc_test', '*.lkv'))[0]\n",
    "llh_fp = glob(join('/tmp/pytools_test/georef_inc_test', '*.llh'))[0]\n",
    "ann_fp = glob(join('/tmp/pytools_test/georef_inc_test', '*.ann'))[0]\n",
    "geolocate_uavsar(lkv_fp, ann_fp, out_dir = join(work_dir, 'geolocated_test'), llh_fp= llh_fp)"
   ]
  },
  {
   "cell_type": "code",
   "execution_count": null,
   "metadata": {},
   "outputs": [],
   "source": [
    "work_dir = '/tmp/pytools_test/'\n",
    "lkv_fp = glob(join('/tmp/pytools_test/georef_inc_test', '*.lkv'))[0]\n",
    "llh_fp = glob(join('/tmp/pytools_test/georef_inc_test', '*.llh'))[0]\n",
    "ann_fp = glob(join('/tmp/pytools_test/georef_inc_test', '*.ann'))[0]\n",
    "geolocate_uavsar(llh_fp, ann_fp, out_dir = join(work_dir, 'geolocated_test'), llh_fp= llh_fp)"
   ]
  }
 ],
 "metadata": {
  "kernelspec": {
   "display_name": "Python 3.9.12 ('uavsar')",
   "language": "python",
   "name": "python3"
  },
  "language_info": {
   "codemirror_mode": {
    "name": "ipython",
    "version": 3
   },
   "file_extension": ".py",
   "mimetype": "text/x-python",
   "name": "python",
   "nbconvert_exporter": "python",
   "pygments_lexer": "ipython3",
   "version": "3.9.12"
  },
  "vscode": {
   "interpreter": {
    "hash": "ba8967e065a58c806f1bdb735567067b52f77062b6ff6cacc1c3011561bd9c8e"
   }
  }
 },
 "nbformat": 4,
 "nbformat_minor": 2
}
