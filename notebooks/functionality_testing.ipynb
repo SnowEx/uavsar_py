{
 "cells": [
  {
   "cell_type": "code",
   "execution_count": 21,
   "metadata": {},
   "outputs": [],
   "source": [
    "import os\n",
    "from os.path import join, basename\n",
    "from glob import glob\n",
    "import rasterio as rio\n",
    "import numpy as np\n",
    "\n",
    "from uavsar_pytools import UavsarImage, UavsarScene, UavsarCollection"
   ]
  },
  {
   "cell_type": "code",
   "execution_count": 11,
   "metadata": {},
   "outputs": [
    {
     "data": {
      "application/vnd.jupyter.widget-view+json": {
       "model_id": "08776ac30e20401780c94a255a437ce8",
       "version_major": 2,
       "version_minor": 0
      },
      "text/plain": [
       "Downloading alamos_35915_20008-000_20013-000_0007d_s01_L090HH_02.amp1.grd:   0%|          | 0.00/117M [00:00<?…"
      ]
     },
     "metadata": {},
     "output_type": "display_data"
    },
    {
     "data": {
      "application/vnd.jupyter.widget-view+json": {
       "model_id": "d280658d20f64b1088fa908f9a01c8b1",
       "version_major": 2,
       "version_minor": 0
      },
      "text/plain": [
       "Downloading alamos_35915_20008-000_20013-000_0007d_s01_L090HH_02.ann:   0%|          | 0.00/30.0k [00:00<?, ?B…"
      ]
     },
     "metadata": {},
     "output_type": "display_data"
    }
   ],
   "source": [
    "img_url = 'http://uavsar.asfdaac.alaska.edu/UA_alamos_35915_20008-000_20013-000_0007d_s01_L090_02/alamos_35915_20008-000_20013-000_0007d_s01_L090HH_02.amp1.grd'\n",
    "work_dir = '/tmp/pytools_test/'\n",
    "image = UavsarImage(url = img_url, work_dir=work_dir)\n",
    "image.url_to_tiff()\n",
    "os.listdir(join(work_dir))"
   ]
  },
  {
   "cell_type": "code",
   "execution_count": 4,
   "metadata": {},
   "outputs": [
    {
     "data": {
      "application/vnd.jupyter.widget-view+json": {
       "model_id": "227ec2e5e5d841d0a0878696e8245042",
       "version_major": 2,
       "version_minor": 0
      },
      "text/plain": [
       "Downloading grmesa_27416_20005-007_20008-004_0007d_s01_L090_01_int_grd.zip:   0%|          | 0.00/1.50G [00:00…"
      ]
     },
     "metadata": {},
     "output_type": "display_data"
    },
    {
     "name": "stderr",
     "output_type": "stream",
     "text": [
      "Unzipping: 100%|██████████| 20/20 [00:16<00:00,  1.18file/s]\n"
     ]
    }
   ],
   "source": [
    "scene_url = 'https://datapool.asf.alaska.edu/INTERFEROMETRY_GRD/UA/grmesa_27416_20005-007_20008-004_0007d_s01_L090_01_int_grd.zip'\n",
    "work_dir = '/tmp/pytools_test/'\n",
    "scene = UavsarScene(url = scene_url, work_dir=work_dir)\n",
    "scene.url_to_tiffs()\n",
    "os.listdir(join(work_dir, basename(scene_url).replace('.zip','')))"
   ]
  },
  {
   "cell_type": "code",
   "execution_count": 27,
   "metadata": {},
   "outputs": [
    {
     "name": "stderr",
     "output_type": "stream",
     "text": [
      "INFO:uavsar_pytools.uavsar_collection:Found 2 image pairs\n",
      "INFO:uavsar_pytools.uavsar_collection:Starting on: https://datapool.asf.alaska.edu/INTERFEROMETRY_GRD/UA/grmesa_27416_20003-028_20017-006_0040d_s01_L090_01_int_grd.zip\n"
     ]
    },
    {
     "name": "stdout",
     "output_type": "stream",
     "text": [
      "2\n"
     ]
    },
    {
     "data": {
      "application/vnd.jupyter.widget-view+json": {
       "model_id": "5ace241f31fb48f49ffe87e134ebae3f",
       "version_major": 2,
       "version_minor": 0
      },
      "text/plain": [
       "Downloading grmesa_27416_20003-028_20017-006_0040d_s01_L090_01_int_grd.zip:   0%|          | 0.00/243M [00:00<…"
      ]
     },
     "metadata": {},
     "output_type": "display_data"
    },
    {
     "name": "stderr",
     "output_type": "stream",
     "text": [
      "Unzipping: 100%|██████████| 5/5 [00:03<00:00,  1.66file/s]\n"
     ]
    },
    {
     "data": {
      "application/vnd.jupyter.widget-view+json": {
       "model_id": "d617a0e127fb44dca1599ecd1ab3f441",
       "version_major": 2,
       "version_minor": 0
      },
      "text/plain": [
       "Downloading grmesa_27416_20017_006_200312_L090_CX_01.inc:   0%|          | 0.00/151M [00:00<?, ?B/s]"
      ]
     },
     "metadata": {},
     "output_type": "display_data"
    },
    {
     "data": {
      "application/vnd.jupyter.widget-view+json": {
       "model_id": "129f87629a7a46429c1075af3ba02834",
       "version_major": 2,
       "version_minor": 0
      },
      "text/plain": [
       "Downloading grmesa_27416_20017_006_200312_L090_CX_01.ann:   0%|          | 0.00/29.0k [00:00<?, ?B/s]"
      ]
     },
     "metadata": {},
     "output_type": "display_data"
    },
    {
     "name": "stderr",
     "output_type": "stream",
     "text": [
      "INFO:uavsar_pytools.uavsar_collection:Starting on: https://datapool.asf.alaska.edu/INTERFEROMETRY_GRD/UA/grmesa_27416_20013-004_20017-006_0015d_s01_L090_01_int_grd.zip\n"
     ]
    },
    {
     "name": "stdout",
     "output_type": "stream",
     "text": [
      "Completed 1-Feb-2020 02:13:16 UTC to 12-Mar-2020 18:17:08 UTC\n"
     ]
    },
    {
     "data": {
      "application/vnd.jupyter.widget-view+json": {
       "model_id": "0c56c934231641649ecb1f72300fe863",
       "version_major": 2,
       "version_minor": 0
      },
      "text/plain": [
       "Downloading grmesa_27416_20013-004_20017-006_0015d_s01_L090_01_int_grd.zip:   0%|          | 0.00/1.45G [00:00…"
      ]
     },
     "metadata": {},
     "output_type": "display_data"
    },
    {
     "name": "stderr",
     "output_type": "stream",
     "text": [
      "Unzipping: 100%|██████████| 20/20 [00:18<00:00,  1.09file/s]\n"
     ]
    },
    {
     "data": {
      "application/vnd.jupyter.widget-view+json": {
       "model_id": "0bfeccd715ea41619dffcf356a53fde7",
       "version_major": 2,
       "version_minor": 0
      },
      "text/plain": [
       "Downloading grmesa_27416_20017_006_200312_L090_CX_01.inc:   0%|          | 0.00/151M [00:00<?, ?B/s]"
      ]
     },
     "metadata": {},
     "output_type": "display_data"
    },
    {
     "data": {
      "application/vnd.jupyter.widget-view+json": {
       "model_id": "b6dc730d18bd4f82917f6e120d4a9e5f",
       "version_major": 2,
       "version_minor": 0
      },
      "text/plain": [
       "Downloading grmesa_27416_20017_006_200312_L090_CX_01.ann:   0%|          | 0.00/29.0k [00:00<?, ?B/s]"
      ]
     },
     "metadata": {},
     "output_type": "display_data"
    },
    {
     "name": "stdout",
     "output_type": "stream",
     "text": [
      "Completed 26-Feb-2020 17:40:39 UTC to 12-Mar-2020 18:16:50 UTC\n"
     ]
    }
   ],
   "source": [
    "collection_name = 'Grand Mesa, CO'\n",
    "work_dir = '/tmp/pytools_test/'\n",
    "collection = UavsarCollection(collection = collection_name, work_dir = work_dir, inc = True, dates = ('2020-03-01','2020-04-02'))\n",
    "collection.find_urls()\n",
    "print(len(collection.results))\n",
    "collection.results_to_tiffs()"
   ]
  },
  {
   "cell_type": "code",
   "execution_count": 2,
   "metadata": {},
   "outputs": [],
   "source": [
    "from uavsar_pytools.snow_depth_inversion import depth_from_phase, phase_from_depth\n",
    "from uavsar_pytools.georeference import reproject_clip_mask"
   ]
  },
  {
   "cell_type": "code",
   "execution_count": 3,
   "metadata": {},
   "outputs": [],
   "source": [
    "work_dir = '/tmp/pytools_test/'\n",
    "unw_fp = glob(join('/tmp/pytools_test/', 'grmesa_27416_20013-004_20017-006_0015d_s01_L090_01_int_grd','*VV*.unw.grd.tiff'))[0]\n",
    "inc_fp = glob(join('/tmp/pytools_test/', 'grmesa_27416_20013-004_20017-006_0015d_s01_L090_01_int_grd','*inc.tiff'))[0]\n",
    "new_inc_fp = join(work_dir, 'inc_resampled.tif')\n",
    "\n",
    "reproject_clip_mask(inc_fp, unw_fp, out_fp=new_inc_fp))"
   ]
  },
  {
   "cell_type": "code",
   "execution_count": 6,
   "metadata": {},
   "outputs": [
    {
     "data": {
      "text/plain": [
       "3.6716382e-13"
      ]
     },
     "execution_count": 6,
     "metadata": {},
     "output_type": "execute_result"
    },
    {
     "data": {
      "image/png": "[encoded data removed]",
      "text/plain": [
       "<Figure size 864x576 with 3 Axes>"
      ]
     },
     "metadata": {
      "needs_background": "light"
     },
     "output_type": "display_data"
    }
   ],
   "source": [
    "import matplotlib.pyplot as plt\n",
    "with rio.open(unw_fp) as unw_src, rio.open(new_inc_fp) as inc_src:\n",
    "    unw = unw_src.read(1)\n",
    "    inc = inc_src.read(1)\n",
    "    dz = depth_from_phase(unw, inc, permittivity=1.2)\n",
    "    dphase = phase_from_depth(dz, inc, permittivity=1.2)\n",
    "f, (ax1, ax2, ax3) = plt.subplots(1,3,figsize = (12,8))\n",
    "ax1.imshow(unw, vmin = -np.pi, vmax= np.pi)\n",
    "ax2.imshow(dz, vmin = -0.5, vmax = 0.5)\n",
    "phase_diff = unw - dphase\n",
    "ax3.imshow(phase_diff, vmin = -0.1, vmax= 0.1)\n",
    "np.nanmean(phase_diff)"
   ]
  },
  {
   "cell_type": "code",
   "execution_count": 26,
   "metadata": {},
   "outputs": [
    {
     "data": {
      "application/vnd.jupyter.widget-view+json": {
       "model_id": "a40ba98d19c94e9a814e44131a28b83c",
       "version_major": 2,
       "version_minor": 0
      },
      "text/plain": [
       "Downloading eelriv_24500_21059_002_211018_L090_CX_01_grd.zip:   0%|          | 0.00/680M [00:00<?, ?B/s]"
      ]
     },
     "metadata": {},
     "output_type": "display_data"
    },
    {
     "name": "stderr",
     "output_type": "stream",
     "text": [
      "Unzipping: 100%|██████████| 7/7 [00:11<00:00,  1.66s/file]\n"
     ]
    }
   ],
   "source": [
    "polsar_url = 'https://datapool.asf.alaska.edu/PROJECTED/UA/eelriv_24500_21059_002_211018_L090_CX_01_grd.zip'\n",
    "scene = UavsarScene(url =polsar_url, work_dir=work_dir)\n",
    "scene.download()\n",
    "scene.unzip()"
   ]
  },
  {
   "cell_type": "code",
   "execution_count": 1,
   "metadata": {},
   "outputs": [],
   "source": [
    "from uavsar_pytools.polsar import H_A_alpha_decomp\n",
    "from os.path import join"
   ]
  },
  {
   "cell_type": "code",
   "execution_count": 2,
   "metadata": {},
   "outputs": [
    {
     "name": "stdout",
     "output_type": "stream",
     "text": [
      "[                                        ] | 0% Completed | 46.97 sms\n"
     ]
    }
   ],
   "source": [
    "work_dir = '/tmp/pytools_test/'\n",
    "polsar_dir = join(work_dir, 'tmp', 'eelriv_24500_21059_002_211018_L090_CX_01_grd','bin_imgs')\n",
    "H_A_alpha_decomp(polsar_dir, out_dir = join(work_dir, 'polsar_out'), parralel = True)"
   ]
  },
  {
   "cell_type": "code",
   "execution_count": null,
   "metadata": {},
   "outputs": [],
   "source": [
    "polsar_url = 'https://datapool.asf.alaska.edu/PROJECTED/UA/eelriv_24500_21059_002_211018_L090_CX_01_grd.zip'\n",
    "scene = UavsarScene(url =polsar_url, work_dir=work_dir)\n",
    "scene.download()\n",
    "scene.unzip()"
   ]
  },
  {
   "cell_type": "code",
   "execution_count": 23,
   "metadata": {},
   "outputs": [],
   "source": [
    "from uavsar_pytools.georeference import geolocate_uavsar\n",
    "from uavsar_pytools.incidence_angle import calc_inc_angle"
   ]
  },
  {
   "cell_type": "code",
   "execution_count": 14,
   "metadata": {},
   "outputs": [
    {
     "name": "stdout",
     "output_type": "stream",
     "text": [
      "/private/tmp/pytools_test\n"
     ]
    }
   ],
   "source": [
    "cd /tmp/pytools_test"
   ]
  },
  {
   "cell_type": "code",
   "execution_count": 15,
   "metadata": {},
   "outputs": [
    {
     "name": "stdout",
     "output_type": "stream",
     "text": [
      "mkdir: georef_inc_test: File exists\n"
     ]
    }
   ],
   "source": [
    "!mkdir georef_inc_test"
   ]
  },
  {
   "cell_type": "code",
   "execution_count": 16,
   "metadata": {},
   "outputs": [
    {
     "name": "stdout",
     "output_type": "stream",
     "text": [
      "/private/tmp/pytools_test/georef_inc_test\n"
     ]
    }
   ],
   "source": [
    "cd georef_inc_test"
   ]
  },
  {
   "cell_type": "code",
   "execution_count": 18,
   "metadata": {},
   "outputs": [
    {
     "name": "stdout",
     "output_type": "stream",
     "text": [
      "--2022-06-27 15:38:47--  https://downloaduav2.jpl.nasa.gov/Release20/grmesa_26006_01/grmesa_26006_01_BC.dop\n",
      "Resolving downloaduav2.jpl.nasa.gov (downloaduav2.jpl.nasa.gov)... 137.78.249.121\n",
      "Connecting to downloaduav2.jpl.nasa.gov (downloaduav2.jpl.nasa.gov)|137.78.249.121|:443... connected.\n",
      "HTTP request sent, awaiting response... 200 OK\n",
      "Length: 229372 (224K)\n",
      "Saving to: ‘grmesa_26006_01_BC.dop’\n",
      "\n",
      "grmesa_26006_01_BC. 100%[===================>] 224.00K  --.-KB/s    in 0.1s    \n",
      "\n",
      "2022-06-27 15:38:47 (2.28 MB/s) - ‘grmesa_26006_01_BC.dop’ saved [229372/229372]\n",
      "\n",
      "--2022-06-27 15:38:48--  https://downloaduav2.jpl.nasa.gov/Release20/grmesa_26006_01/grmesa_26006_01_BC_s1_2x8.llh\n",
      "Resolving downloaduav2.jpl.nasa.gov (downloaduav2.jpl.nasa.gov)... 137.78.249.121\n",
      "Connecting to downloaduav2.jpl.nasa.gov (downloaduav2.jpl.nasa.gov)|137.78.249.121|:443... connected.\n",
      "HTTP request sent, awaiting response... 200 OK\n",
      "Length: 675326340 (644M)\n",
      "Saving to: ‘grmesa_26006_01_BC_s1_2x8.llh’\n",
      "\n",
      "grmesa_26006_01_BC_ 100%[===================>] 644.04M  6.15MB/s    in 1m 42s  \n",
      "\n",
      "2022-06-27 15:40:29 (6.34 MB/s) - ‘grmesa_26006_01_BC_s1_2x8.llh’ saved [675326340/675326340]\n",
      "\n",
      "--2022-06-27 15:40:30--  https://downloaduav2.jpl.nasa.gov/Release20/grmesa_26006_01/grmesa_26006_01_BC_s1_2x8.lkv\n",
      "Resolving downloaduav2.jpl.nasa.gov (downloaduav2.jpl.nasa.gov)... 137.78.249.121\n",
      "Connecting to downloaduav2.jpl.nasa.gov (downloaduav2.jpl.nasa.gov)|137.78.249.121|:443... connected.\n",
      "HTTP request sent, awaiting response... 200 OK\n",
      "Length: 675326340 (644M)\n",
      "Saving to: ‘grmesa_26006_01_BC_s1_2x8.lkv’\n",
      "\n",
      "grmesa_26006_01_BC_ 100%[===================>] 644.04M  6.85MB/s    in 1m 40s  \n",
      "\n",
      "2022-06-27 15:42:10 (6.44 MB/s) - ‘grmesa_26006_01_BC_s1_2x8.lkv’ saved [675326340/675326340]\n",
      "\n"
     ]
    }
   ],
   "source": [
    "!wget https://downloaduav2.jpl.nasa.gov/Release20/grmesa_26006_01/grmesa_26006_01_BC.dop\n",
    "!wget https://downloaduav2.jpl.nasa.gov/Release20/grmesa_26006_01/grmesa_26006_01_BC_s1_2x8.llh\n",
    "!wget https://downloaduav2.jpl.nasa.gov/Release20/grmesa_26006_01/grmesa_26006_01_BC_s1_2x8.lkv\n",
    "!wget https://downloaduav2.jpl.nasa.gov/Release20/grmesa_26006_01/grmesa_26006_17002_001_170206_L090HH_01_BC.ann"
   ]
  },
  {
   "cell_type": "code",
   "execution_count": 29,
   "metadata": {},
   "outputs": [
    {
     "name": "stderr",
     "output_type": "stream",
     "text": [
      "ERROR 1: Too many points (529 out of 529) failed to transform, unable to compute output bounds.\n",
      "Warning 1: Unable to compute source region for output window 2433,0,811,551, skipping.\n",
      "ERROR 1: Too many points (529 out of 529) failed to transform, unable to compute output bounds.\n",
      "Warning 1: Unable to compute source region for output window 2433,551,405,276, skipping.\n",
      "ERROR 1: Too many points (529 out of 529) failed to transform, unable to compute output bounds.\n",
      "Warning 1: Unable to compute source region for output window 2433,827,202,138, skipping.\n",
      "ERROR 1: Too many points (529 out of 529) failed to transform, unable to compute output bounds.\n",
      "Warning 1: Unable to compute source region for output window 2534,965,101,69, skipping.\n",
      "ERROR 1: Too many points (529 out of 529) failed to transform, unable to compute output bounds.\n",
      "Warning 1: Unable to compute source region for output window 2635,827,203,138, skipping.\n",
      "ERROR 1: Too many points (529 out of 529) failed to transform, unable to compute output bounds.\n",
      "Warning 1: Unable to compute source region for output window 2635,965,101,69, skipping.\n",
      "ERROR 1: Too many points (529 out of 529) failed to transform, unable to compute output bounds.\n",
      "Warning 1: Unable to compute source region for output window 3649,4136,406,276, skipping.\n",
      "ERROR 1: Too many points (529 out of 529) failed to transform, unable to compute output bounds.\n",
      "Warning 1: Unable to compute source region for output window 4055,4136,405,276, skipping.\n",
      "ERROR 1: Too many points (529 out of 529) failed to transform, unable to compute output bounds.\n",
      "Warning 1: Unable to compute source region for output window 11354,3309,1622,1103, skipping.\n"
     ]
    }
   ],
   "source": [
    "work_dir = '/tmp/pytools_test/'\n",
    "lkv_fp = glob(join('/tmp/pytools_test/georef_inc_test', '*.lkv'))[0]\n",
    "llh_fp = glob(join('/tmp/pytools_test/georef_inc_test', '*.llh'))[0]\n",
    "ann_fp = glob(join('/tmp/pytools_test/georef_inc_test', '*.ann'))[0]\n",
    "geolocate_uavsar(lkv_fp, ann_fp, out_dir = join(work_dir, 'geolocated_test'), llh_fp= llh_fp)"
   ]
  },
  {
   "cell_type": "code",
   "execution_count": null,
   "metadata": {},
   "outputs": [],
   "source": [
    "work_dir = '/tmp/pytools_test/'\n",
    "lkv_fp = glob(join('/tmp/pytools_test/georef_inc_test', '*.lkv'))[0]\n",
    "llh_fp = glob(join('/tmp/pytools_test/georef_inc_test', '*.llh'))[0]\n",
    "ann_fp = glob(join('/tmp/pytools_test/georef_inc_test', '*.ann'))[0]\n",
    "geolocate_uavsar(llh_fp, ann_fp, out_dir = join(work_dir, 'geolocated_test'), llh_fp= llh_fp)"
   ]
  }
 ],
 "metadata": {
  "kernelspec": {
   "display_name": "Python 3.9.12 ('pip_upload')",
   "language": "python",
   "name": "python3"
  },
  "language_info": {
   "codemirror_mode": {
    "name": "ipython",
    "version": 3
   },
   "file_extension": ".py",
   "mimetype": "text/x-python",
   "name": "python",
   "nbconvert_exporter": "python",
   "pygments_lexer": "ipython3",
   "version": "3.9.12"
  },
  "orig_nbformat": 4,
  "vscode": {
   "interpreter": {
    "hash": "feab94974cff6bca848ae14ea27ba9b5014e86f00fe3c3a96d0df59e85e03721"
   }
  }
 },
 "nbformat": 4,
 "nbformat_minor": 2
}
