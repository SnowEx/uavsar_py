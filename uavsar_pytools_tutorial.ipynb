{
 "cells": [
  {
   "cell_type": "markdown",
   "id": "794bca21-2cd7-4bee-94d6-03acc2e95a33",
   "metadata": {},
   "source": [
    "# ```uavsar_pytools``` Tutorial\n",
    "\n",
    "In this notebook, we will display the basic functionality of using ```asf_search``` to find UAVSAR data products, and ```uavsar_pytools``` convert those products in analysis ready GeoTiifs. UAVSAR files come in a flat binary format, which are not ready for analysis. This package allows for the systematic conversion of binary files into GeoTiffs using information from the UAVSAR annoation file."
   ]
  },
  {
   "cell_type": "code",
   "execution_count": 1,
   "id": "5a7de0e2-6f02-460f-bc2e-cf60f3f4bf8a",
   "metadata": {},
   "outputs": [],
   "source": [
    "import asf_search as asf\n",
    "from uavsar_pytools.UavsarImage import UavsarImage #single image class\n",
    "from uavsar_pytools.uavsar_tools import grd_tiff_convert #single image class\n",
    "from uavsar_pytools.UavsarScene import UavsarScene # binary convert to .tiffs\n",
    "import os  # for chdir, getcwd, path.basename, path.exists\n",
    "from datetime import datetime\n",
    "import progressbar\n",
    "from tqdm import tqdm\n",
    "import logging\n",
    "import glob\n",
    "import requests\n",
    "import zipfile\n",
    "#from uavsar_pytools.convert import convert_image\n",
    "#from uavsar_pytools.download import download_image\n",
    "\n",
    "# for map to generate wkt\n",
    "from folium import Map\n",
    "from folium.plugins import Draw\n",
    "import geopandas as gpd\n",
    "\n",
    "# plotting libraries\n",
    "import numpy as np #for log10, mean, percentile, power\n",
    "import rasterio as rio\n",
    "from rasterio.plot import show # plotting raster data\n",
    "from rasterio.plot import show_hist #histograms of raster data\n",
    "import matplotlib.pyplot as plt "
   ]
  },
  {
   "cell_type": "markdown",
   "id": "6e2a9a3f-6082-45f2-b092-c72c710f39d7",
   "metadata": {},
   "source": [
    "### Finding UAVSAR data\n",
    "\n",
    "UAVSAR data is located in multiple places online "
   ]
  },
  {
   "cell_type": "markdown",
   "id": "6c66bfae",
   "metadata": {
    "tags": []
   },
   "source": [
    "### Create Folium map to generate at WKT file\n",
    "\n",
    "The ```asf_search``` package uses the Well-known text or [WKT](https://en.wikipedia.org/wiki/Well-known_text_representation_of_geometry) files to indentify areas of interest (AOI) to search thier database. The [Folium](https://python-visualization.github.io/folium/#:~:text=folium%20makes%20it%20easy%20to,as%20markers%20on%20the%20map.) map created below allows users to generate a WKT by drawing a polygon directly on the map and exporting it to thier local machine. instead of having to write it out by hand. \n",
    "\n",
    "Another tool for generating WKT files is the [ASF Vertex](https://search.asf.alaska.edu/#/) platform.\n",
    "\n",
    "The [UAVSAR Data Search](https://uavsar.jpl.nasa.gov/cgi-bin/data.pl) shows the extent of all UAVSAR swaths. This is a good place to start to base your area of interest (AOI) search on using the Folium map."
   ]
  },
  {
   "cell_type": "code",
   "execution_count": 2,
   "id": "befa3871-4dbb-49b9-bfe2-85a3f79c1bb0",
   "metadata": {},
   "outputs": [
    {
     "name": "stdout",
     "output_type": "stream",
     "text": [
      "POLYGON ((-120.227509 39.403305, -120.227509 39.422403, -120.196609 39.422403, -120.196609 39.403305, -120.227509 39.403305))\n"
     ]
    }
   ],
   "source": [
    "wkt = gpd.read_file('/Users/jacktarricone/Downloads/asf_wkt (12).geojson').to_wkt().loc[0, 'geometry']\n",
    "print(wkt)"
   ]
  },
  {
   "cell_type": "code",
   "execution_count": 3,
   "id": "4459e757",
   "metadata": {},
   "outputs": [],
   "source": [
    "# define search parameters for sierra flight line\n",
    "start_date = datetime.strptime('2020-02-14 11:00:00', '%Y-%m-%d %H:%M:%S') \n",
    "end_date = datetime.strptime('2020-02-15 11:00:00', '%Y-%m-%d %H:%M:%S') "
   ]
  },
  {
   "cell_type": "markdown",
   "id": "eb0d9c60-b033-4933-9a88-7d2a345d8d2a",
   "metadata": {},
   "source": [
    "## Seach for data\n",
    "-use asf search, talk about all the parameters that can be used for search\n",
    "-show different types of processing, state that GRD is important\n",
    "-"
   ]
  },
  {
   "cell_type": "code",
   "execution_count": 4,
   "id": "de8c0dc4-609e-4538-80dc-50f0c7848c28",
   "metadata": {},
   "outputs": [
    {
     "name": "stdout",
     "output_type": "stream",
     "text": [
      "1 product(s) found\n"
     ]
    }
   ],
   "source": [
    "# search for data\n",
    "results = asf.search(platform = 'UAVSAR',\n",
    "                     processingLevel = (['INTERFEROMETRY_GRD']),\n",
    "                     intersectsWith = wkt,\n",
    "                     start = start_date,\n",
    "                     end = end_date)\n",
    "\n",
    "print(f'{len(results)} product(s) found')"
   ]
  },
  {
   "cell_type": "code",
   "execution_count": 7,
   "id": "f840fe10-e00b-4eec-ab21-16faa256a405",
   "metadata": {},
   "outputs": [
    {
     "data": {
      "text/plain": [
       "asf_search.ASFProduct.ASFProduct"
      ]
     },
     "execution_count": 7,
     "metadata": {},
     "output_type": "execute_result"
    }
   ],
   "source": [
    "# describe this whole \"class\" thing...\n",
    "type(first)"
   ]
  },
  {
   "cell_type": "code",
   "execution_count": 5,
   "id": "40cd7263-2643-4d93-9d95-9573e4ac5b93",
   "metadata": {},
   "outputs": [
    {
     "name": "stdout",
     "output_type": "stream",
     "text": [
      "{'beamModeType': 'RPI', 'browse': ['https://datapool.asf.alaska.edu/BROWSE/UA/donner_03904_20002-003_20009-026_0019d_s01_L090HH_01.cor.png', 'https://datapool.asf.alaska.edu/BROWSE/UA/donner_03904_20002-003_20009-026_0019d_s01_L090HH_01.hgt.png'], 'bytes': '524731624', 'faradayRotation': None, 'fileID': 'UA_donner_03904_20002-003_20009-026_0019d_s01_L090_01-INTERFEROMETRY_GRD', 'fileName': 'donner_03904_20002-003_20009-026_0019d_s01_L090_01_int_grd.zip', 'flightDirection': None, 'frameNumber': '786', 'granuleType': 'UAVSAR_INSAR_SCENE', 'groupID': 'UA_donner_03904_20002-003_20009-026_0019d_s01_L090_01', 'insarStackId': '-1', 'md5sum': '2360c66931e4854785d689e3b286d23a', 'offNadirAngle': None, 'orbit': '-1', 'pathNumber': '03904', 'platform': 'UAVSAR', 'pointingAngle': None, 'polarization': 'HH', 'processingDate': '2021-11-10T01:08:27Z', 'processingLevel': 'INTERFEROMETRY_GRD', 'sceneName': 'UA_donner_03904_20002-003_20009-026_0019d_s01_L090_01', 'sensor': 'UAVSAR', 'startTime': '2020-01-31T19:56:40Z', 'stopTime': '2020-02-19T23:07:38Z', 'url': 'https://datapool.asf.alaska.edu/INTERFEROMETRY_GRD/UA/donner_03904_20002-003_20009-026_0019d_s01_L090_01_int_grd.zip'}\n"
     ]
    }
   ],
   "source": [
    "# pull out three search results and test print the first one\n",
    "first = results[0]\n",
    "print(first.properties)"
   ]
  },
  {
   "cell_type": "markdown",
   "id": "e20b6817-5c4d-4daa-83ad-e83fafb11fff",
   "metadata": {},
   "source": [
    "## Define URLs for Download\n"
   ]
  },
  {
   "cell_type": "code",
   "execution_count": 9,
   "id": "a4388089-b0f3-4be8-8519-f075fb148cfc",
   "metadata": {},
   "outputs": [
    {
     "name": "stdout",
     "output_type": "stream",
     "text": [
      "https://datapool.asf.alaska.edu/INTERFEROMETRY_GRD/UA/donner_03904_20002-003_20009-026_0019d_s01_L090_01_int_grd.zip\n"
     ]
    }
   ],
   "source": [
    "# define the URLs and print, decribe this functionality is within the ASFproduct class\n",
    "first_url = first.properties['url']\n",
    "print(first_url)"
   ]
  },
  {
   "cell_type": "code",
   "execution_count": 10,
   "id": "35d99006-753a-47cb-8f13-5106a5db676d",
   "metadata": {},
   "outputs": [],
   "source": [
    "# define outpout dir and list files\n",
    "os.chdir('/Users/jacktarricone/Desktop/zach_test/sagehen/')\n",
    "output_dir = '/Users/jacktarricone/Desktop/zach_test/sagehen/'"
   ]
  },
  {
   "cell_type": "code",
   "execution_count": 14,
   "id": "4f5b68ae-d219-4e89-b3cc-d4f954ac0a13",
   "metadata": {},
   "outputs": [
    {
     "data": {
      "application/vnd.jupyter.widget-view+json": {
       "model_id": "9d648c77775d450ab6a7003f76ffdf99",
       "version_major": 2,
       "version_minor": 0
      },
      "text/plain": [
       "Downloading donner_03904_20002-003_20009-026_0019d_s01_L090_01_int_grd.zip:   0%|          | 0.00/525M [00:00<…"
      ]
     },
     "metadata": {},
     "output_type": "display_data"
    },
    {
     "name": "stderr",
     "output_type": "stream",
     "text": [
      "Unzipping: 100%|██████████████████████████████| 5/5 [00:09<00:00,  1.93s/file]\n"
     ]
    }
   ],
   "source": [
    "# define image to download\n",
    "# download_image(url = first_url, output_dir = output_dir)\n",
    "scene = UavsarScene(url = first_url, work_dir='./data/imgs/')\n",
    "scene.url_to_tiffs()"
   ]
  },
  {
   "cell_type": "code",
   "execution_count": null,
   "id": "b5e42019-806d-4de0-b7ed-07dbadc09fcb",
   "metadata": {},
   "outputs": [],
   "source": [
    "# define zip insar file we just downloaded\n",
    "zipped_data = glob.glob(\"*.zip\") # print contents of output directory\n",
    "print(zipped_data[0])"
   ]
  },
  {
   "cell_type": "code",
   "execution_count": null,
   "id": "d4c2705c-9e78-4f58-a75a-cc6858633b42",
   "metadata": {},
   "outputs": [],
   "source": [
    "# unzip!\n",
    "with zipfile.ZipFile(zipped_data[0], \"r\") as zip_ref:\n",
    "    zip_ref.printdir()\n",
    "    print('Extracting all the files now...')\n",
    "    zip_ref.extractall()\n",
    "    print(\"done\")"
   ]
  },
  {
   "cell_type": "markdown",
   "id": "6bde57f2-141a-4d40-8115-b2723e5e29d3",
   "metadata": {},
   "source": [
    "# Convert Images to GeoTiffs\n",
    "Once all our files are unzipped, we can use ```convert_to_tiff``` function to convert the binary images into geocoded rasters in WSG-84. It does this by pulling out information from the annotation file."
   ]
  },
  {
   "cell_type": "code",
   "execution_count": null,
   "id": "0fbe7ef7-9707-46cd-aea2-c272d8583067",
   "metadata": {},
   "outputs": [],
   "source": [
    "# define zip insar file we just downloaded\n",
    "grd_data = glob.glob(\"*.grd\") # print contents of output directory\n",
    "ann_file = glob.glob(\"*.ann\")\n",
    "print(grd_data)\n",
    "print(ann_file)"
   ]
  },
  {
   "cell_type": "code",
   "execution_count": null,
   "id": "2899705f-c12b-4f50-bc86-bf2f4c49d30c",
   "metadata": {},
   "outputs": [],
   "source": [
    "# import function to conver to .tiffs\n",
    "from uavsar_pytools.tiff_conversion import grd_tiff_convert"
   ]
  },
  {
   "cell_type": "code",
   "execution_count": null,
   "id": "d2bfce24-d343-48cd-a946-f770c317fc2f",
   "metadata": {},
   "outputs": [],
   "source": [
    "# convert all bin images from zip to .tif\n",
    "#img1.convert_to_tiff(grd_data, overwrite = True)\n",
    "for file in grd_data:\n",
    "    grd_tiff_convert(in_fp = file,\n",
    "                     ann_fp = ann_file[0],\n",
    "                     out_dir = output_dir,\n",
    "                     overwrite = False)"
   ]
  },
  {
   "cell_type": "code",
   "execution_count": null,
   "id": "0691831f-a4dc-441f-8864-7df31c0e8a1e",
   "metadata": {},
   "outputs": [],
   "source": [
    "# search for unw and ann files for download test\n",
    "unw = glob.glob(os.path.abspath(\"*cor.grd.tiff\"))\n",
    "print(unw[0])"
   ]
  },
  {
   "cell_type": "code",
   "execution_count": null,
   "id": "34f3747c-cdb9-43f8-bc88-ae75ae486644",
   "metadata": {},
   "outputs": [],
   "source": [
    "unw_rast = rio.open(unw[0])\n",
    "meta_data = unw_rast.profile\n",
    "print(meta_data)"
   ]
  },
  {
   "cell_type": "code",
   "execution_count": null,
   "id": "4a1f3fe3-1b69-4eb6-9c19-c47fe1cdb7b5",
   "metadata": {},
   "outputs": [],
   "source": [
    "show_hist(unw_rast, bins = 50)"
   ]
  },
  {
   "cell_type": "code",
   "execution_count": null,
   "id": "3ba3a364-f0a5-4258-b1d7-e37445641342",
   "metadata": {},
   "outputs": [],
   "source": [
    "fig, ax = plt.subplots(figsize = (10,7))\n",
    "ax.set_title(\"Sagehen Coherence\",fontsize = 16);\n",
    "show((unw_rast, 1), cmap = 'viridis'); # info from histogram"
   ]
  },
  {
   "cell_type": "code",
   "execution_count": null,
   "id": "83512e0e-1e86-46bb-b5b3-dbdb947db963",
   "metadata": {},
   "outputs": [],
   "source": []
  },
  {
   "cell_type": "code",
   "execution_count": null,
   "id": "1e37fbd0-5c1e-4129-86e4-7767b6d48c52",
   "metadata": {},
   "outputs": [],
   "source": []
  },
  {
   "cell_type": "code",
   "execution_count": null,
   "id": "6398d243-cd50-440b-9c92-387b113df6d3",
   "metadata": {},
   "outputs": [],
   "source": []
  },
  {
   "cell_type": "code",
   "execution_count": null,
   "id": "2bde0136-ca27-4656-a0f5-2c0f8351fb71",
   "metadata": {},
   "outputs": [],
   "source": []
  },
  {
   "cell_type": "code",
   "execution_count": null,
   "id": "bd172d8c-6a1d-4e42-9dd8-b4d92325f86f",
   "metadata": {},
   "outputs": [],
   "source": []
  },
  {
   "cell_type": "code",
   "execution_count": null,
   "id": "7b5cfadb-9bf9-43e3-a007-aa3e7ff67b3d",
   "metadata": {},
   "outputs": [],
   "source": []
  },
  {
   "cell_type": "code",
   "execution_count": null,
   "id": "a0ddc872-16d4-4c8a-a875-91e8c62ddebb",
   "metadata": {},
   "outputs": [],
   "source": []
  },
  {
   "cell_type": "code",
   "execution_count": null,
   "id": "d19265e1-f59e-4deb-81c0-9956226bae49",
   "metadata": {},
   "outputs": [],
   "source": [
    "# lowman_wkt = gpd.read_file('/Users/jacktarricone/Downloads/asf_wkt (8).geojson').to_wkt().loc[0, 'geometry']\n",
    "# print(lowman_wkt)\n",
    "# lowman_wkt = 'POLYGON ((-116.164284 43.670603, -116.164284 43.68277, -116.135445 43.68277, -116.135445 43.670603, -116.164284 43.670603))'"
   ]
  }
 ],
 "metadata": {
  "kernelspec": {
   "display_name": "Python [conda env:test_env]",
   "language": "python",
   "name": "conda-env-test_env-py"
  },
  "language_info": {
   "codemirror_mode": {
    "name": "ipython",
    "version": 3
   },
   "file_extension": ".py",
   "mimetype": "text/x-python",
   "name": "python",
   "nbconvert_exporter": "python",
   "pygments_lexer": "ipython3",
   "version": "3.8.10"
  }
 },
 "nbformat": 4,
 "nbformat_minor": 5
}
