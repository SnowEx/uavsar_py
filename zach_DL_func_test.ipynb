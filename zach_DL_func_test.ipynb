{
 "cells": [
  {
   "cell_type": "code",
   "execution_count": 100,
   "id": "04e99033",
   "metadata": {},
   "outputs": [],
   "source": [
    "#######\n",
    "## feb 11, 2022\n",
    "## testing the functions zach wrote for data download\n",
    "## doesn't use wget and fully \"pythonized\" - uses requests instead\n",
    "## using asf api to generate URLS\n",
    "\n",
    "\n",
    "# import libraries\n",
    "import numpy as np\n",
    "import re\n",
    "import zipfile\n",
    "import getpass\n",
    "import os  # for chdir, getcwd, path.basename, path.exists\n",
    "import pandas as pd # for DatetimeIndex\n",
    "import netrc\n",
    "import glob\n",
    "import requests\n",
    "from shapely.geometry import Polygon, mapping\n",
    "from datetime import datetime\n",
    "from subprocess import PIPE, Popen\n",
    "from os.path import join, isdir, isfile, basename\n",
    "import progressbar\n",
    "from tqdm import tqdm\n",
    "import logging\n",
    "import asf_search as asf\n",
    "\n",
    "# for map to generate wkt\n",
    "from folium import Map\n",
    "from folium.plugins import Draw\n",
    "import geopandas as gpd\n",
    "\n",
    "# import the convert_image function from convert.py\n",
    "from genericpath import isfile\n",
    "import sys\n",
    "sys.path.append('../')\n",
    "\n",
    "from uavsar_pytools.convert import convert_image\n",
    "from uavsar_pytools.download import download_image\n",
    "\n",
    "log = logging.getLogger(__name__)\n",
    "logging.basicConfig()\n",
    "log.setLevel(logging.WARNING)"
   ]
  },
  {
   "cell_type": "code",
   "execution_count": 101,
   "id": "b44601ac",
   "metadata": {},
   "outputs": [
    {
     "name": "stdin",
     "output_type": "stream",
     "text": [
      "Enter Username:  jacktarricone\n",
      "Enter Password:  ············\n"
     ]
    }
   ],
   "source": [
    "# input NASA Earthdata credentials here\n",
    "NASA_USER = input(\"Enter Username: \")\n",
    "NASA_PASS = getpass.getpass(\"Enter Password: \")"
   ]
  },
  {
   "cell_type": "markdown",
   "id": "6c66bfae",
   "metadata": {},
   "source": [
    "### Create Folium map to generate at WKT file\n",
    "\n",
    "The ```asf_search``` package uses the Well-known text or [WKT](https://en.wikipedia.org/wiki/Well-known_text_representation_of_geometry) files to indentify areas of interest to search thier database. The [Folium](https://python-visualization.github.io/folium/#:~:text=folium%20makes%20it%20easy%20to,as%20markers%20on%20the%20map.) map created below allows users to generate a WKT by drawing instead of having to write it out by hand"
   ]
  },
  {
   "cell_type": "code",
   "execution_count": null,
   "id": "2096cbea-1b95-4666-a26b-b17ce07c866c",
   "metadata": {
    "jupyter": {
     "source_hidden": true
    },
    "tags": []
   },
   "outputs": [],
   "source": [
    "def download_image(url, output_dir, ann = False):\n",
    "    \"\"\"\n",
    "    Downloads uavsar InSAR files from a url.\n",
    "    Args:\n",
    "        url (string): A url containing uavsar flight data. Can be from JPL or ASF\n",
    "        output_dir (string): Directory to save the data in\n",
    "    Returns:\n",
    "        out_fp (string): File path to downloaded image.\n",
    "    Raises:\n",
    "       None\n",
    "    \"\"\"\n",
    "\n",
    "    log.info(f'Starting download of {url}...')\n",
    "    local = join(output_dir, basename(url))\n",
    "\n",
    "    # Make the output dir if it doesn't exist\n",
    "    if not isdir(output_dir):\n",
    "        os.makedirs(output_dir)\n",
    "\n",
    "    if not isfile(local):\n",
    "        stream_download(url, local)\n",
    "    else:\n",
    "        log.info(f'{local} already exists, skipping download!')\n",
    "\n",
    "    if ann:\n",
    "        if url.split('.')[-1] == 'zip' or url.split('.')[-1] == 'ann':\n",
    "            log.info('Download already contains ann file, skipping download!')\n",
    "        else:\n",
    "            parent = dirname(url)\n",
    "            # ASF formatting - query parent directory\n",
    "            if parent.split('.')[-1] == 'zip':\n",
    "                log.debug(f'ASF url found for {url}')\n",
    "                parent_files = requests.get(parent).json()['response']\n",
    "                ann_info = [i for i in parent_files if '.ann' in i['name']][0]\n",
    "                # assert len(ann_info) == 1, 'More than one ann file detected'\n",
    "                ann_url = ann_info['url']\n",
    "                log.debug(f'Annotation url: {ann_url}')\n",
    "\n",
    "            # JPL formatting - have to parse url to get ann\n",
    "            elif 'uavsar.asfdaac.alaska.edu' in url:\n",
    "                log.debug(f'JPL url found for {url}')\n",
    "                ext = url.split('.')[-1]\n",
    "                pols = ['VVVV','HHHH','HVHV', 'HHHV', 'HHVV','HVVV']\n",
    "                slc_pol = [pol for pol in pols if (pol in url)]\n",
    "                if len(slc_pol) == 1:\n",
    "                    url = url.replace(slc_pol[0], '')\n",
    "\n",
    "                if ext == 'grd':\n",
    "                    if len(basename(url).split('.')) == 2:\n",
    "                        url = url.replace('.grd','.ann')\n",
    "                    if len(basename(url).split('.')) == 3:\n",
    "                        url = url.replace('.grd','')\n",
    "                    ext = url.split('.')[-1]\n",
    "                ann_url = url.replace(f'.{ext}', '.ann')\n",
    "                log.debug(f'Annotation url: {ann_url}')\n",
    "\n",
    "            else:\n",
    "                log.warning('No ann url found. Unable to download ann file.')\n",
    "                ann_url = None\n",
    "\n",
    "            if ann_url:\n",
    "                ann_local = join(output_dir, basename(ann_url))\n",
    "                log.debug(f'Annotation local: {ann_local} and url {ann_url}')\n",
    "                if not isfile(ann_local):\n",
    "                    stream_download(ann_url, ann_local)\n",
    "                else:\n",
    "                    log.info(f'{ann_local} already exists, skipping download!')\n",
    "    return local\n"
   ]
  },
  {
   "cell_type": "code",
   "execution_count": 111,
   "id": "a26549e8-b997-4f86-9f1e-57dc625ad840",
   "metadata": {
    "tags": []
   },
   "outputs": [
    {
     "data": {
      "text/html": [
       "<div style=\"width:100%;\"><div style=\"position:relative;width:100%;height:0;padding-bottom:60%;\"><span style=\"color:#565656\">Make this Notebook Trusted to load map: File -> Trust Notebook</span><iframe src=\"about:blank\" style=\"position:absolute;width:100%;height:100%;left:0;top:0;border:none !important;\" data-html=%3C%21DOCTYPE%20html%3E%0A%3Chead%3E%20%20%20%20%0A%20%20%20%20%3Cmeta%20http-equiv%3D%22content-type%22%20content%3D%22text/html%3B%20charset%3DUTF-8%22%20/%3E%0A%20%20%20%20%0A%20%20%20%20%20%20%20%20%3Cscript%3E%0A%20%20%20%20%20%20%20%20%20%20%20%20L_NO_TOUCH%20%3D%20false%3B%0A%20%20%20%20%20%20%20%20%20%20%20%20L_DISABLE_3D%20%3D%20false%3B%0A%20%20%20%20%20%20%20%20%3C/script%3E%0A%20%20%20%20%0A%20%20%20%20%3Cstyle%3Ehtml%2C%20body%20%7Bwidth%3A%20100%25%3Bheight%3A%20100%25%3Bmargin%3A%200%3Bpadding%3A%200%3B%7D%3C/style%3E%0A%20%20%20%20%3Cstyle%3E%23map%20%7Bposition%3Aabsolute%3Btop%3A0%3Bbottom%3A0%3Bright%3A0%3Bleft%3A0%3B%7D%3C/style%3E%0A%20%20%20%20%3Cscript%20src%3D%22https%3A//cdn.jsdelivr.net/npm/leaflet%401.6.0/dist/leaflet.js%22%3E%3C/script%3E%0A%20%20%20%20%3Cscript%20src%3D%22https%3A//code.jquery.com/jquery-1.12.4.min.js%22%3E%3C/script%3E%0A%20%20%20%20%3Cscript%20src%3D%22https%3A//maxcdn.bootstrapcdn.com/bootstrap/3.2.0/js/bootstrap.min.js%22%3E%3C/script%3E%0A%20%20%20%20%3Cscript%20src%3D%22https%3A//cdnjs.cloudflare.com/ajax/libs/Leaflet.awesome-markers/2.0.2/leaflet.awesome-markers.js%22%3E%3C/script%3E%0A%20%20%20%20%3Clink%20rel%3D%22stylesheet%22%20href%3D%22https%3A//cdn.jsdelivr.net/npm/leaflet%401.6.0/dist/leaflet.css%22/%3E%0A%20%20%20%20%3Clink%20rel%3D%22stylesheet%22%20href%3D%22https%3A//maxcdn.bootstrapcdn.com/bootstrap/3.2.0/css/bootstrap.min.css%22/%3E%0A%20%20%20%20%3Clink%20rel%3D%22stylesheet%22%20href%3D%22https%3A//maxcdn.bootstrapcdn.com/bootstrap/3.2.0/css/bootstrap-theme.min.css%22/%3E%0A%20%20%20%20%3Clink%20rel%3D%22stylesheet%22%20href%3D%22https%3A//maxcdn.bootstrapcdn.com/font-awesome/4.6.3/css/font-awesome.min.css%22/%3E%0A%20%20%20%20%3Clink%20rel%3D%22stylesheet%22%20href%3D%22https%3A//cdnjs.cloudflare.com/ajax/libs/Leaflet.awesome-markers/2.0.2/leaflet.awesome-markers.css%22/%3E%0A%20%20%20%20%3Clink%20rel%3D%22stylesheet%22%20href%3D%22https%3A//cdn.jsdelivr.net/gh/python-visualization/folium/folium/templates/leaflet.awesome.rotate.min.css%22/%3E%0A%20%20%20%20%0A%20%20%20%20%20%20%20%20%20%20%20%20%3Cmeta%20name%3D%22viewport%22%20content%3D%22width%3Ddevice-width%2C%0A%20%20%20%20%20%20%20%20%20%20%20%20%20%20%20%20initial-scale%3D1.0%2C%20maximum-scale%3D1.0%2C%20user-scalable%3Dno%22%20/%3E%0A%20%20%20%20%20%20%20%20%20%20%20%20%3Cstyle%3E%0A%20%20%20%20%20%20%20%20%20%20%20%20%20%20%20%20%23map_93206d700c194836b3b1a6791401707c%20%7B%0A%20%20%20%20%20%20%20%20%20%20%20%20%20%20%20%20%20%20%20%20position%3A%20relative%3B%0A%20%20%20%20%20%20%20%20%20%20%20%20%20%20%20%20%20%20%20%20width%3A%20100.0%25%3B%0A%20%20%20%20%20%20%20%20%20%20%20%20%20%20%20%20%20%20%20%20height%3A%20100.0%25%3B%0A%20%20%20%20%20%20%20%20%20%20%20%20%20%20%20%20%20%20%20%20left%3A%200.0%25%3B%0A%20%20%20%20%20%20%20%20%20%20%20%20%20%20%20%20%20%20%20%20top%3A%200.0%25%3B%0A%20%20%20%20%20%20%20%20%20%20%20%20%20%20%20%20%7D%0A%20%20%20%20%20%20%20%20%20%20%20%20%3C/style%3E%0A%20%20%20%20%20%20%20%20%0A%20%20%20%20%3Cscript%20src%3D%22https%3A//cdnjs.cloudflare.com/ajax/libs/leaflet.draw/1.0.2/leaflet.draw.js%22%3E%3C/script%3E%0A%20%20%20%20%3Clink%20rel%3D%22stylesheet%22%20href%3D%22https%3A//cdnjs.cloudflare.com/ajax/libs/leaflet.draw/1.0.2/leaflet.draw.css%22/%3E%0A%20%20%20%20%0A%20%20%20%20%20%20%20%20%20%20%20%20%3Cstyle%3E%0A%20%20%20%20%20%20%20%20%20%20%20%20%20%20%20%20%23export%20%7B%0A%20%20%20%20%20%20%20%20%20%20%20%20%20%20%20%20%20%20%20%20position%3A%20absolute%3B%0A%20%20%20%20%20%20%20%20%20%20%20%20%20%20%20%20%20%20%20%20top%3A%205px%3B%0A%20%20%20%20%20%20%20%20%20%20%20%20%20%20%20%20%20%20%20%20right%3A%2010px%3B%0A%20%20%20%20%20%20%20%20%20%20%20%20%20%20%20%20%20%20%20%20z-index%3A%20999%3B%0A%20%20%20%20%20%20%20%20%20%20%20%20%20%20%20%20%20%20%20%20background%3A%20white%3B%0A%20%20%20%20%20%20%20%20%20%20%20%20%20%20%20%20%20%20%20%20color%3A%20black%3B%0A%20%20%20%20%20%20%20%20%20%20%20%20%20%20%20%20%20%20%20%20padding%3A%206px%3B%0A%20%20%20%20%20%20%20%20%20%20%20%20%20%20%20%20%20%20%20%20border-radius%3A%204px%3B%0A%20%20%20%20%20%20%20%20%20%20%20%20%20%20%20%20%20%20%20%20font-family%3A%20%27Helvetica%20Neue%27%3B%0A%20%20%20%20%20%20%20%20%20%20%20%20%20%20%20%20%20%20%20%20cursor%3A%20pointer%3B%0A%20%20%20%20%20%20%20%20%20%20%20%20%20%20%20%20%20%20%20%20font-size%3A%2012px%3B%0A%20%20%20%20%20%20%20%20%20%20%20%20%20%20%20%20%20%20%20%20text-decoration%3A%20none%3B%0A%20%20%20%20%20%20%20%20%20%20%20%20%20%20%20%20%20%20%20%20top%3A%2090px%3B%0A%20%20%20%20%20%20%20%20%20%20%20%20%20%20%20%20%7D%0A%20%20%20%20%20%20%20%20%20%20%20%20%3C/style%3E%0A%20%20%20%20%20%20%20%20%0A%3C/head%3E%0A%3Cbody%3E%20%20%20%20%0A%20%20%20%20%0A%20%20%20%20%20%20%20%20%20%20%20%20%3Cdiv%20class%3D%22folium-map%22%20id%3D%22map_93206d700c194836b3b1a6791401707c%22%20%3E%3C/div%3E%0A%20%20%20%20%20%20%20%20%0A%20%20%20%20%3Ca%20href%3D%27%23%27%20id%3D%27export%27%3EExport%3C/a%3E%0A%3C/body%3E%0A%3Cscript%3E%20%20%20%20%0A%20%20%20%20%0A%20%20%20%20%20%20%20%20%20%20%20%20var%20map_93206d700c194836b3b1a6791401707c%20%3D%20L.map%28%0A%20%20%20%20%20%20%20%20%20%20%20%20%20%20%20%20%22map_93206d700c194836b3b1a6791401707c%22%2C%0A%20%20%20%20%20%20%20%20%20%20%20%20%20%20%20%20%7B%0A%20%20%20%20%20%20%20%20%20%20%20%20%20%20%20%20%20%20%20%20center%3A%20%5B0%2C%200%5D%2C%0A%20%20%20%20%20%20%20%20%20%20%20%20%20%20%20%20%20%20%20%20crs%3A%20L.CRS.EPSG3857%2C%0A%20%20%20%20%20%20%20%20%20%20%20%20%20%20%20%20%20%20%20%20zoom%3A%201%2C%0A%20%20%20%20%20%20%20%20%20%20%20%20%20%20%20%20%20%20%20%20zoomControl%3A%20true%2C%0A%20%20%20%20%20%20%20%20%20%20%20%20%20%20%20%20%20%20%20%20preferCanvas%3A%20false%2C%0A%20%20%20%20%20%20%20%20%20%20%20%20%20%20%20%20%7D%0A%20%20%20%20%20%20%20%20%20%20%20%20%29%3B%0A%0A%20%20%20%20%20%20%20%20%20%20%20%20%0A%0A%20%20%20%20%20%20%20%20%0A%20%20%20%20%0A%20%20%20%20%20%20%20%20%20%20%20%20var%20tile_layer_b28dc1ff878e4a2dbb5c40789b27d34d%20%3D%20L.tileLayer%28%0A%20%20%20%20%20%20%20%20%20%20%20%20%20%20%20%20%22https%3A//%7Bs%7D.tile.openstreetmap.org/%7Bz%7D/%7Bx%7D/%7By%7D.png%22%2C%0A%20%20%20%20%20%20%20%20%20%20%20%20%20%20%20%20%7B%22attribution%22%3A%20%22Data%20by%20%5Cu0026copy%3B%20%5Cu003ca%20href%3D%5C%22http%3A//openstreetmap.org%5C%22%5Cu003eOpenStreetMap%5Cu003c/a%5Cu003e%2C%20under%20%5Cu003ca%20href%3D%5C%22http%3A//www.openstreetmap.org/copyright%5C%22%5Cu003eODbL%5Cu003c/a%5Cu003e.%22%2C%20%22detectRetina%22%3A%20false%2C%20%22maxNativeZoom%22%3A%2018%2C%20%22maxZoom%22%3A%2018%2C%20%22minZoom%22%3A%200%2C%20%22noWrap%22%3A%20false%2C%20%22opacity%22%3A%201%2C%20%22subdomains%22%3A%20%22abc%22%2C%20%22tms%22%3A%20false%7D%0A%20%20%20%20%20%20%20%20%20%20%20%20%29.addTo%28map_93206d700c194836b3b1a6791401707c%29%3B%0A%20%20%20%20%20%20%20%20%0A%20%20%20%20%0A%20%20%20%20%20%20%20%20%20%20%20%20var%20options%20%3D%20%7B%0A%20%20%20%20%20%20%20%20%20%20%20%20%20%20position%3A%20%22topleft%22%2C%0A%20%20%20%20%20%20%20%20%20%20%20%20%20%20draw%3A%20%7B%7D%2C%0A%20%20%20%20%20%20%20%20%20%20%20%20%20%20edit%3A%20%7B%7D%2C%0A%20%20%20%20%20%20%20%20%20%20%20%20%7D%0A%20%20%20%20%20%20%20%20%20%20%20%20//%20FeatureGroup%20is%20to%20store%20editable%20layers.%0A%20%20%20%20%20%20%20%20%20%20%20%20var%20drawnItems%20%3D%20new%20L.featureGroup%28%29.addTo%28%0A%20%20%20%20%20%20%20%20%20%20%20%20%20%20%20%20map_93206d700c194836b3b1a6791401707c%0A%20%20%20%20%20%20%20%20%20%20%20%20%29%3B%0A%20%20%20%20%20%20%20%20%20%20%20%20options.edit.featureGroup%20%3D%20drawnItems%3B%0A%20%20%20%20%20%20%20%20%20%20%20%20var%20draw_control_d762cb93a18f4163b1ac2a078d830e92%20%3D%20new%20L.Control.Draw%28%0A%20%20%20%20%20%20%20%20%20%20%20%20%20%20%20%20options%0A%20%20%20%20%20%20%20%20%20%20%20%20%29.addTo%28%20map_93206d700c194836b3b1a6791401707c%20%29%3B%0A%20%20%20%20%20%20%20%20%20%20%20%20map_93206d700c194836b3b1a6791401707c.on%28L.Draw.Event.CREATED%2C%20function%28e%29%20%7B%0A%20%20%20%20%20%20%20%20%20%20%20%20%20%20%20%20var%20layer%20%3D%20e.layer%2C%0A%20%20%20%20%20%20%20%20%20%20%20%20%20%20%20%20%20%20%20%20type%20%3D%20e.layerType%3B%0A%20%20%20%20%20%20%20%20%20%20%20%20%20%20%20%20var%20coords%20%3D%20JSON.stringify%28layer.toGeoJSON%28%29%29%3B%0A%20%20%20%20%20%20%20%20%20%20%20%20%20%20%20%20layer.on%28%27click%27%2C%20function%28%29%20%7B%0A%20%20%20%20%20%20%20%20%20%20%20%20%20%20%20%20%20%20%20%20alert%28coords%29%3B%0A%20%20%20%20%20%20%20%20%20%20%20%20%20%20%20%20%20%20%20%20console.log%28coords%29%3B%0A%20%20%20%20%20%20%20%20%20%20%20%20%20%20%20%20%7D%29%3B%0A%20%20%20%20%20%20%20%20%20%20%20%20%20%20%20%20drawnItems.addLayer%28layer%29%3B%0A%20%20%20%20%20%20%20%20%20%20%20%20%20%7D%29%3B%0A%20%20%20%20%20%20%20%20%20%20%20%20map_93206d700c194836b3b1a6791401707c.on%28%27draw%3Acreated%27%2C%20function%28e%29%20%7B%0A%20%20%20%20%20%20%20%20%20%20%20%20%20%20%20%20drawnItems.addLayer%28e.layer%29%3B%0A%20%20%20%20%20%20%20%20%20%20%20%20%7D%29%3B%0A%20%20%20%20%20%20%20%20%20%20%20%20%0A%20%20%20%20%20%20%20%20%20%20%20%20document.getElementById%28%27export%27%29.onclick%20%3D%20function%28e%29%20%7B%0A%20%20%20%20%20%20%20%20%20%20%20%20%20%20%20%20var%20data%20%3D%20drawnItems.toGeoJSON%28%29%3B%0A%20%20%20%20%20%20%20%20%20%20%20%20%20%20%20%20var%20convertedData%20%3D%20%27text/json%3Bcharset%3Dutf-8%2C%27%0A%20%20%20%20%20%20%20%20%20%20%20%20%20%20%20%20%20%20%20%20%2B%20encodeURIComponent%28JSON.stringify%28data%29%29%3B%0A%20%20%20%20%20%20%20%20%20%20%20%20%20%20%20%20document.getElementById%28%27export%27%29.setAttribute%28%0A%20%20%20%20%20%20%20%20%20%20%20%20%20%20%20%20%20%20%20%20%27href%27%2C%20%27data%3A%27%20%2B%20convertedData%0A%20%20%20%20%20%20%20%20%20%20%20%20%20%20%20%20%29%3B%0A%20%20%20%20%20%20%20%20%20%20%20%20%20%20%20%20document.getElementById%28%27export%27%29.setAttribute%28%0A%20%20%20%20%20%20%20%20%20%20%20%20%20%20%20%20%20%20%20%20%27download%27%2C%20%22asf_wkt.geojson%22%0A%20%20%20%20%20%20%20%20%20%20%20%20%20%20%20%20%29%3B%0A%20%20%20%20%20%20%20%20%20%20%20%20%7D%0A%20%20%20%20%20%20%20%20%20%20%20%20%0A%20%20%20%20%20%20%20%20%0A%3C/script%3E onload=\"this.contentDocument.open();this.contentDocument.write(    decodeURIComponent(this.getAttribute('data-html')));this.contentDocument.close();\" allowfullscreen webkitallowfullscreen mozallowfullscreen></iframe></div></div>"
      ],
      "text/plain": [
       "<folium.folium.Map at 0x7fb9607cee50>"
      ]
     },
     "execution_count": 111,
     "metadata": {},
     "output_type": "execute_result"
    }
   ],
   "source": [
    "# show map\n",
    "m = Map()\n",
    "draw = Draw(export = True, filename = 'asf_wkt.geojson')\n",
    "draw.add_to(m)\n",
    "m"
   ]
  },
  {
   "cell_type": "code",
   "execution_count": 113,
   "id": "112ccf25-550f-4cdd-8952-155d7d7516af",
   "metadata": {},
   "outputs": [],
   "source": [
    "wkt = gpd.read_file('/Users/jacktarricone/Downloads/asf_wkt (7).geojson').to_wkt().loc[0, 'geometry']"
   ]
  },
  {
   "cell_type": "code",
   "execution_count": 87,
   "id": "4459e757",
   "metadata": {},
   "outputs": [],
   "source": [
    "# define search parameters for sierra flight line\n",
    "# asf_search uses WKT polygon \tPOLYGON ((30 10, 40 40, 20 40, 10 20, 30 10))\n",
    "# you need 5 coordinates so it connects back to the first point\n",
    "\n",
    "#sierra_wkt = 'POLYGON((-119.9697 37.4631,-118.9576 37.4631,-118.9576 38.7211,-119.969 38211,-119.9697 37.4631))'\n",
    "# wkt = 'POLYGON((-135.7 58.2,-136.6 58.1,-135.8 56.9,-134.6 56.1,-134.9 58.0,-135.7 58.2))'\n",
    "start_date = datetime.strptime('2021-02-03 11:00:00', '%Y-%m-%d %H:%M:%S') \n",
    "end_date = datetime.strptime('2021-02-05 11:00:00', '%Y-%m-%d %H:%M:%S') "
   ]
  },
  {
   "cell_type": "markdown",
   "id": "eb0d9c60-b033-4933-9a88-7d2a345d8d2a",
   "metadata": {},
   "source": [
    "## Seach for data\n",
    "-use asf search, talk about all the parameters that can be used for search\n",
    "-show different types of processing, state that GRD is important\n",
    "-"
   ]
  },
  {
   "cell_type": "code",
   "execution_count": 114,
   "id": "de8c0dc4-609e-4538-80dc-50f0c7848c28",
   "metadata": {},
   "outputs": [
    {
     "name": "stdout",
     "output_type": "stream",
     "text": [
      "6 product(s) found\n"
     ]
    }
   ],
   "source": [
    "# search for data\n",
    "results = asf.search(platform = 'UAVSAR',\n",
    "                     processingLevel = (['INTERFEROMETRY_GRD','AMPLITUDE_GRD']),\n",
    "                     intersectsWith = wkt,\n",
    "                     start = start_date,\n",
    "                     end = end_date)\n",
    "\n",
    "print(f'{len(results)} product(s) found')"
   ]
  },
  {
   "cell_type": "code",
   "execution_count": 93,
   "id": "40cd7263-2643-4d93-9d95-9573e4ac5b93",
   "metadata": {},
   "outputs": [
    {
     "name": "stdout",
     "output_type": "stream",
     "text": [
      "{'beamModeType': 'RPI', 'browse': ['https://datapool.asf.alaska.edu/BROWSE/UA/lowman_05208_21009-005_21012-004_0007d_s01_L090HH_01.cor.png', 'https://datapool.asf.alaska.edu/BROWSE/UA/lowman_05208_21009-005_21012-004_0007d_s01_L090HH_01.hgt.png', 'https://datapool.asf.alaska.edu/BROWSE/UA/lowman_05208_21009-005_21012-004_0007d_s01_L090HV_01.cor.png', 'https://datapool.asf.alaska.edu/BROWSE/UA/lowman_05208_21009-005_21012-004_0007d_s01_L090HV_01.hgt.png', 'https://datapool.asf.alaska.edu/BROWSE/UA/lowman_05208_21009-005_21012-004_0007d_s01_L090VH_01.cor.png', 'https://datapool.asf.alaska.edu/BROWSE/UA/lowman_05208_21009-005_21012-004_0007d_s01_L090VH_01.hgt.png', 'https://datapool.asf.alaska.edu/BROWSE/UA/lowman_05208_21009-005_21012-004_0007d_s01_L090VV_01.cor.png', 'https://datapool.asf.alaska.edu/BROWSE/UA/lowman_05208_21009-005_21012-004_0007d_s01_L090VV_01.hgt.png'], 'bytes': '5611958264', 'faradayRotation': None, 'fileID': 'UA_lowman_05208_21009-005_21012-004_0007d_s01_L090_01-INTERFEROMETRY_GRD', 'fileName': 'lowman_05208_21009-005_21012-004_0007d_s01_L090_01_int_grd.zip', 'flightDirection': None, 'frameNumber': '881', 'granuleType': 'UAVSAR_INSAR_SCENE', 'groupID': 'UA_lowman_05208_21009-005_21012-004_0007d_s01_L090_01', 'insarStackId': '-1', 'md5sum': 'c3c93bf7d47b053fe453da43a35e1315', 'offNadirAngle': None, 'orbit': '-1', 'pathNumber': '05208', 'platform': 'UAVSAR', 'pointingAngle': None, 'polarization': 'HH', 'processingDate': '2021-04-21T02:20:28Z', 'processingLevel': 'INTERFEROMETRY_GRD', 'sceneName': 'UA_lowman_05208_21009-005_21012-004_0007d_s01_L090_01', 'sensor': 'UAVSAR', 'startTime': '2021-02-03T20:16:35Z', 'stopTime': '2021-02-10T23:06:23Z', 'url': 'https://datapool.asf.alaska.edu/INTERFEROMETRY_GRD/UA/lowman_05208_21009-005_21012-004_0007d_s01_L090_01_int_grd.zip'}\n"
     ]
    }
   ],
   "source": [
    "# pull out three search results and test print the first one\n",
    "first = results[0]\n",
    "second = results[1]\n",
    "third = results[2]\n",
    "fourth = results[3]\n",
    "fifth = results[4]\n",
    "sixth = results[5]\n",
    "print(first.properties)"
   ]
  },
  {
   "cell_type": "code",
   "execution_count": 94,
   "id": "a4388089-b0f3-4be8-8519-f075fb148cfc",
   "metadata": {},
   "outputs": [
    {
     "name": "stdout",
     "output_type": "stream",
     "text": [
      "https://datapool.asf.alaska.edu/INTERFEROMETRY_GRD/UA/lowman_05208_21009-005_21012-004_0007d_s01_L090_01_int_grd.zip\n",
      "https://datapool.asf.alaska.edu/INTERFEROMETRY_GRD/UA/lowman_23205_21009-004_21012-000_0007d_s01_L090_01_int_grd.zip\n",
      "https://datapool.asf.alaska.edu/INTERFEROMETRY_GRD/UA/lowman_23205_21008-000_21009-004_0007d_s01_L090_01_int_grd.zip\n",
      "https://datapool.asf.alaska.edu/AMPLITUDE_GRD/UA/lowman_05208_21009-005_21012-004_0007d_s01_L090_01_amp_grd.zip\n",
      "https://datapool.asf.alaska.edu/AMPLITUDE_GRD/UA/lowman_23205_21009-004_21012-000_0007d_s01_L090_01_amp_grd.zip\n",
      "https://datapool.asf.alaska.edu/AMPLITUDE_GRD/UA/lowman_23205_21008-000_21009-004_0007d_s01_L090_01_amp_grd.zip\n"
     ]
    }
   ],
   "source": [
    "# define the URLs and print\n",
    "first_url = first.properties['url']\n",
    "second_url = second.properties['url']\n",
    "third_url = third.properties['url']\n",
    "fourth_url = fourth.properties['url']\n",
    "fifth_url = fifth.properties['url']\n",
    "sixth_url = sixth.properties['url']\n",
    "\n",
    "print(first_url)\n",
    "print(second_url)\n",
    "print(third_url)\n",
    "print(fourth_url)\n",
    "print(fifth_url)\n",
    "print(sixth_url)"
   ]
  },
  {
   "cell_type": "code",
   "execution_count": 115,
   "id": "35d99006-753a-47cb-8f13-5106a5db676d",
   "metadata": {},
   "outputs": [
    {
     "name": "stdout",
     "output_type": "stream",
     "text": [
      "['lowman_05208_21009-005_21012-004_0007d_s01_L090VV_01.int.grd', '.DS_Store', 'lowman_05208_21009-005_21012-004_0007d_s01_L090VH_01.int.grd', 'lowman_05208_21009-005_21012-004_0007d_s01_L090VV_01.unw.grd', 'lowman_05208_21009-005_21012-004_0007d_s01_L090VH_01.unw.grd', 'lowman_05208_21009-005_21012-004_0007d_s01_L090HV_01.cor.grd', 'lowman_05208_21009-005_21012-004_0007d_s01_L090HH_01.cor.grd', 'lowman_05208_21009-005_21012-004_0007d_s01_L090HV_01.hgt.grd', 'lowman_05208_21009-005_21012-004_0007d_s01_L090HH_01.hgt.grd', 'lowman_05208_21009-005_21012-004_0007d_s01_L090HV_01.int.grd', 'lowman_05208_21009-005_21012-004_0007d_s01_L090HH_01.int.grd', 'lowman_05208_21009-005_21012-004_0007d_s01_L090HH_01.ann', 'lowman_05208_21009-005_21012-004_0007d_s01_L090_01_int_grd.zip', 'lowman_05208_21009-005_21012-004_0007d_s01_L090VV_01.ann', 'lowman_05208_21009-005_21012-004_0007d_s01_L090VV_01.hgt.grd', 'lowman_05208_21009-005_21012-004_0007d_s01_L090HV_01.ann', 'lowman_05208_21009-005_21012-004_0007d_s01_L090VH_01.hgt.grd', 'lowman_05208_21009-005_21012-004_0007d_s01_L090VV_01.cor.grd', 'lowman_05208_21009-005_21012-004_0007d_s01_L090VH_01.ann', 'lowman_05208_21009-005_21012-004_0007d_s01_L090VH_01.cor.grd', 'lowman_05208_21009-005_21012-004_0007d_s01_L090HV_01.unw.grd', 'lowman_05208_21009-005_21012-004_0007d_s01_L090HH_01.unw.grd']\n"
     ]
    }
   ],
   "source": [
    "# define outpout dir and list files\n",
    "os.chdir('/Users/jacktarricone/Desktop/zach_test')\n",
    "output_dir = '/Users/jacktarricone/Desktop/zach_test/'\n",
    "files = os.listdir(output_dir) # print contents of output directory\n",
    "print(files)"
   ]
  },
  {
   "cell_type": "code",
   "execution_count": 102,
   "id": "4f5b68ae-d219-4e89-b3cc-d4f954ac0a13",
   "metadata": {},
   "outputs": [
    {
     "data": {
      "application/vnd.jupyter.widget-view+json": {
       "model_id": "a13e03a8d750452390b040957bf4260e",
       "version_major": 2,
       "version_minor": 0
      },
      "text/plain": [
       "Downloading lowman_05208_21009-005_21012-004_0007d_s01_L090_01_int_grd.zip:   0%|          | 0.00/5.61G [00:00…"
      ]
     },
     "metadata": {},
     "output_type": "display_data"
    },
    {
     "data": {
      "text/plain": [
       "'/Users/jacktarricone/Desktop/zach_test/lowman_05208_21009-005_21012-004_0007d_s01_L090_01_int_grd.zip'"
      ]
     },
     "execution_count": 102,
     "metadata": {},
     "output_type": "execute_result"
    }
   ],
   "source": [
    "# download data\n",
    "download_image(url = first_url, output_dir = output_dir)"
   ]
  },
  {
   "cell_type": "code",
   "execution_count": 108,
   "id": "ae7458ce-2e49-4e27-a4b5-aa0467e6a640",
   "metadata": {},
   "outputs": [
    {
     "name": "stdout",
     "output_type": "stream",
     "text": [
      "lowman_05208_21009-005_21012-004_0007d_s01_L090_01_int_grd.zip\n"
     ]
    }
   ],
   "source": [
    "zipped_data = glob.glob(\"*.zip\") # print contents of output directory\n",
    "print(zipped_data[0])"
   ]
  },
  {
   "cell_type": "code",
   "execution_count": 110,
   "id": "b717d1ca-06c0-4211-9c52-b323c07e8b3b",
   "metadata": {},
   "outputs": [
    {
     "name": "stdout",
     "output_type": "stream",
     "text": [
      "File Name                                             Modified             Size\n",
      "lowman_05208_21009-005_21012-004_0007d_s01_L090HH_01.cor.grd 2021-04-21 01:20:54   1836070040\n",
      "lowman_05208_21009-005_21012-004_0007d_s01_L090HH_01.hgt.grd 2021-04-21 01:46:44   1836070040\n",
      "lowman_05208_21009-005_21012-004_0007d_s01_L090HH_01.int.grd 2021-04-21 01:47:38   3672140080\n",
      "lowman_05208_21009-005_21012-004_0007d_s01_L090HH_01.unw.grd 2021-04-21 01:49:18   1836070040\n",
      "lowman_05208_21009-005_21012-004_0007d_s01_L090HV_01.cor.grd 2021-04-21 01:50:06   1836070040\n",
      "lowman_05208_21009-005_21012-004_0007d_s01_L090HV_01.hgt.grd 2021-04-21 01:50:56   1836070040\n",
      "lowman_05208_21009-005_21012-004_0007d_s01_L090HV_01.int.grd 2021-04-21 01:51:50   3672140080\n",
      "lowman_05208_21009-005_21012-004_0007d_s01_L090HV_01.unw.grd 2021-04-21 01:53:32   1836070040\n",
      "lowman_05208_21009-005_21012-004_0007d_s01_L090VH_01.cor.grd 2021-04-21 01:54:20   1836070040\n",
      "lowman_05208_21009-005_21012-004_0007d_s01_L090VH_01.hgt.grd 2021-04-21 01:55:12   1836070040\n",
      "lowman_05208_21009-005_21012-004_0007d_s01_L090VH_01.int.grd 2021-04-21 01:56:06   3672140080\n",
      "lowman_05208_21009-005_21012-004_0007d_s01_L090VH_01.unw.grd 2021-04-21 01:57:48   1836070040\n",
      "lowman_05208_21009-005_21012-004_0007d_s01_L090VV_01.cor.grd 2021-04-21 01:58:36   1836070040\n",
      "lowman_05208_21009-005_21012-004_0007d_s01_L090VV_01.hgt.grd 2021-04-21 01:59:26   1836070040\n",
      "lowman_05208_21009-005_21012-004_0007d_s01_L090VV_01.int.grd 2021-04-21 02:00:20   3672140080\n",
      "lowman_05208_21009-005_21012-004_0007d_s01_L090VV_01.unw.grd 2021-04-21 02:02:04   1836070040\n",
      "lowman_05208_21009-005_21012-004_0007d_s01_L090HH_01.ann 2021-04-21 02:02:52        29893\n",
      "lowman_05208_21009-005_21012-004_0007d_s01_L090VH_01.ann 2021-04-21 02:02:52        29893\n",
      "lowman_05208_21009-005_21012-004_0007d_s01_L090VV_01.ann 2021-04-21 02:02:52        29893\n",
      "lowman_05208_21009-005_21012-004_0007d_s01_L090HV_01.ann 2021-04-21 02:02:52        29893\n",
      "Extracting all the files now...\n",
      "done\n"
     ]
    }
   ],
   "source": [
    "with zipfile.ZipFile(zipped_data[0], \"r\") as zip_ref:\n",
    "    zip_ref.printdir()\n",
    "    print('Extracting all the files now...')\n",
    "    zip_ref.extractall()\n",
    "    print(\"done\")"
   ]
  },
  {
   "cell_type": "code",
   "execution_count": 118,
   "id": "0691831f-a4dc-441f-8864-7df31c0e8a1e",
   "metadata": {},
   "outputs": [
    {
     "name": "stdout",
     "output_type": "stream",
     "text": [
      "lowman_05208_21009-005_21012-004_0007d_s01_L090HH_01.cor.grd\n",
      "lowman_05208_21009-005_21012-004_0007d_s01_L090HH_01.hgt.grd\n",
      "lowman_05208_21009-005_21012-004_0007d_s01_L090HH_01.int.grd\n",
      "lowman_05208_21009-005_21012-004_0007d_s01_L090HH_01.unw.grd\n",
      "lowman_05208_21009-005_21012-004_0007d_s01_L090HH_01.ann\n"
     ]
    }
   ],
   "source": [
    "# search for unw and ann files for download test\n",
    "for unw in glob.glob(\"*HH*.grd\"):\n",
    "    print(unw)\n",
    "    \n",
    "for ann in glob.glob(\"*HH*ann*\"):\n",
    "    print(ann)"
   ]
  },
  {
   "cell_type": "code",
   "execution_count": 146,
   "id": "9a3d2f57-c8c8-47a7-8142-9edff4d81d80",
   "metadata": {},
   "outputs": [
    {
     "name": "stdout",
     "output_type": "stream",
     "text": [
      "['/Users/jacktarricone/Desktop/zach_test/lowman_05208_21009-005_21012-004_0007d_s01_L090HH_01.cor.grd', '/Users/jacktarricone/Desktop/zach_test/lowman_05208_21009-005_21012-004_0007d_s01_L090HH_01.hgt.grd', '/Users/jacktarricone/Desktop/zach_test/lowman_05208_21009-005_21012-004_0007d_s01_L090HH_01.int.grd', '/Users/jacktarricone/Desktop/zach_test/lowman_05208_21009-005_21012-004_0007d_s01_L090HH_01.unw.grd']\n",
      "['/Users/jacktarricone/Desktop/zach_test/lowman_05208_21009-005_21012-004_0007d_s01_L090HH_01.ann']\n"
     ]
    }
   ],
   "source": [
    "# define the HH GRD binary files and the annotation file\n",
    "grd_list = glob.glob(os.path.abspath(\"*HH*.grd\"))\n",
    "ann = glob.glob(os.path.abspath(\"*HH*.ann\"))\n",
    "print(grd_list)\n",
    "print(ann)"
   ]
  },
  {
   "cell_type": "code",
   "execution_count": 148,
   "id": "3ba3a364-f0a5-4258-b1d7-e37445641342",
   "metadata": {},
   "outputs": [
    {
     "name": "stdout",
     "output_type": "stream",
     "text": [
      "['/Users/jacktarricone/Desktop/zach_test/lowman_05208_21009-005_21012-004_0007d_s01_L090HH_01.ann']\n"
     ]
    }
   ],
   "source": [
    "print(ann)"
   ]
  },
  {
   "cell_type": "code",
   "execution_count": 140,
   "id": "83512e0e-1e86-46bb-b5b3-dbdb947db963",
   "metadata": {},
   "outputs": [
    {
     "data": {
      "text/plain": [
       "str"
      ]
     },
     "execution_count": 140,
     "metadata": {},
     "output_type": "execute_result"
    }
   ],
   "source": [
    "type(grd_list[0])"
   ]
  },
  {
   "cell_type": "code",
   "execution_count": 155,
   "id": "1e37fbd0-5c1e-4129-86e4-7767b6d48c52",
   "metadata": {},
   "outputs": [
    {
     "name": "stderr",
     "output_type": "stream",
     "text": [
      "INFO:uavsar_pytools.convert:Working with insar\n",
      "INFO:uavsar_pytools.convert:type = grd\n",
      "DEBUG:uavsar_pytools.convert:rows: 17255 x cols: 26602 pixels\n",
      "DEBUG:uavsar_pytools.convert:latitude delta: -5.556e-05, longitude delta: 5.556e-05 deg/pixel\n",
      "DEBUG:uavsar_pytools.convert:Ref Latitude: 44.512116240000005, Longitude: -116.32247172000001 degrees\n",
      "DEBUG:uavsar_pytools.convert:Bytes = 4, Endian = LITTLE ENDIAN\n",
      "DEBUG:uavsar_pytools.convert:grd\n",
      "DEBUG:uavsar_pytools.convert:Complex descriptor REAL*4\n",
      "DEBUG:uavsar_pytools.convert:Data type = [('real', '<f4')]\n",
      "DEBUG:uavsar_pytools.convert:Writing real component to /Users/jacktarricone/Desktop/zach_test/lowman_05208_21009-005_21012-004_0007d_s01_L090HH_01.cor.grd.tif...\n",
      "INFO:uavsar_pytools.convert:Working with insar\n",
      "INFO:uavsar_pytools.convert:type = grd\n",
      "DEBUG:uavsar_pytools.convert:rows: 17255 x cols: 26602 pixels\n",
      "DEBUG:uavsar_pytools.convert:latitude delta: -5.556e-05, longitude delta: 5.556e-05 deg/pixel\n",
      "DEBUG:uavsar_pytools.convert:Ref Latitude: 44.512116240000005, Longitude: -116.32247172000001 degrees\n",
      "DEBUG:uavsar_pytools.convert:Bytes = 4, Endian = LITTLE ENDIAN\n",
      "DEBUG:uavsar_pytools.convert:grd\n",
      "DEBUG:uavsar_pytools.convert:Complex descriptor REAL*4\n",
      "DEBUG:uavsar_pytools.convert:Data type = [('real', '<f4')]\n",
      "DEBUG:uavsar_pytools.convert:Writing real component to /Users/jacktarricone/Desktop/zach_test/lowman_05208_21009-005_21012-004_0007d_s01_L090HH_01.hgt.grd.tif...\n",
      "INFO:uavsar_pytools.convert:Working with insar\n",
      "INFO:uavsar_pytools.convert:type = grd\n",
      "DEBUG:uavsar_pytools.convert:rows: 17255 x cols: 26602 pixels\n",
      "DEBUG:uavsar_pytools.convert:latitude delta: -5.556e-05, longitude delta: 5.556e-05 deg/pixel\n",
      "DEBUG:uavsar_pytools.convert:Ref Latitude: 44.512116240000005, Longitude: -116.32247172000001 degrees\n",
      "DEBUG:uavsar_pytools.convert:Bytes = 4, Endian = LITTLE ENDIAN\n",
      "DEBUG:uavsar_pytools.convert:grd\n",
      "DEBUG:uavsar_pytools.convert:Complex descriptor REAL*4\n",
      "DEBUG:uavsar_pytools.convert:Data type = [('real', '<f4'), ('imaginary', '<f4')]\n",
      "DEBUG:uavsar_pytools.convert:Writing real component to /Users/jacktarricone/Desktop/zach_test/lowman_05208_21009-005_21012-004_0007d_s01_L090HH_01.int.grd.tif...\n",
      "DEBUG:uavsar_pytools.convert:Writing imaginary component to /Users/jacktarricone/Desktop/zach_test/lowman_05208_21009-005_21012-004_0007d_s01_L090HH_01.int.grd.tif...\n",
      "INFO:uavsar_pytools.convert:Working with insar\n",
      "INFO:uavsar_pytools.convert:type = grd\n",
      "DEBUG:uavsar_pytools.convert:rows: 17255 x cols: 26602 pixels\n",
      "DEBUG:uavsar_pytools.convert:latitude delta: -5.556e-05, longitude delta: 5.556e-05 deg/pixel\n",
      "DEBUG:uavsar_pytools.convert:Ref Latitude: 44.512116240000005, Longitude: -116.32247172000001 degrees\n",
      "DEBUG:uavsar_pytools.convert:Bytes = 4, Endian = LITTLE ENDIAN\n",
      "DEBUG:uavsar_pytools.convert:grd\n",
      "DEBUG:uavsar_pytools.convert:Complex descriptor REAL*4\n",
      "DEBUG:uavsar_pytools.convert:Data type = [('real', '<f4')]\n",
      "DEBUG:uavsar_pytools.convert:Writing real component to /Users/jacktarricone/Desktop/zach_test/lowman_05208_21009-005_21012-004_0007d_s01_L090HH_01.unw.grd.tif...\n"
     ]
    }
   ],
   "source": [
    "for file in grd_list:\n",
    "    convert_image(in_fp = file,\n",
    "                  ann_fp = ann[0],\n",
    "                  out_fp = file + \".tif\")"
   ]
  },
  {
   "cell_type": "code",
   "execution_count": null,
   "id": "6398d243-cd50-440b-9c92-387b113df6d3",
   "metadata": {},
   "outputs": [],
   "source": [
    "#### this works once i changed everything to epsg:4326"
   ]
  },
  {
   "cell_type": "code",
   "execution_count": null,
   "id": "2bde0136-ca27-4656-a0f5-2c0f8351fb71",
   "metadata": {},
   "outputs": [],
   "source": []
  },
  {
   "cell_type": "code",
   "execution_count": null,
   "id": "bd172d8c-6a1d-4e42-9dd8-b4d92325f86f",
   "metadata": {},
   "outputs": [],
   "source": []
  },
  {
   "cell_type": "code",
   "execution_count": null,
   "id": "7b5cfadb-9bf9-43e3-a007-aa3e7ff67b3d",
   "metadata": {},
   "outputs": [],
   "source": []
  },
  {
   "cell_type": "code",
   "execution_count": null,
   "id": "a0ddc872-16d4-4c8a-a875-91e8c62ddebb",
   "metadata": {},
   "outputs": [],
   "source": []
  },
  {
   "cell_type": "code",
   "execution_count": null,
   "id": "d19265e1-f59e-4deb-81c0-9956226bae49",
   "metadata": {},
   "outputs": [],
   "source": []
  }
 ],
 "metadata": {
  "kernelspec": {
   "display_name": "Python [conda env:test_env]",
   "language": "python",
   "name": "conda-env-test_env-py"
  },
  "language_info": {
   "codemirror_mode": {
    "name": "ipython",
    "version": 3
   },
   "file_extension": ".py",
   "mimetype": "text/x-python",
   "name": "python",
   "nbconvert_exporter": "python",
   "pygments_lexer": "ipython3",
   "version": "3.8.10"
  }
 },
 "nbformat": 4,
 "nbformat_minor": 5
}
