{
 "cells": [
  {
   "cell_type": "code",
   "execution_count": 3,
   "metadata": {},
   "outputs": [],
   "source": [
    "import apertools.sario"
   ]
  },
  {
   "cell_type": "code",
   "execution_count": 7,
   "metadata": {},
   "outputs": [
    {
     "name": "stderr",
     "output_type": "stream",
     "text": [
      "[02/16 11:32:41] [INFO sario.py] Using .amp1.grd for full grd extension\n"
     ]
    },
    {
     "ename": "TypeError",
     "evalue": "string indices must be integers",
     "output_type": "error",
     "traceback": [
      "\u001b[0;31m---------------------------------------------------------------------------\u001b[0m",
      "\u001b[0;31mTypeError\u001b[0m                                 Traceback (most recent call last)",
      "\u001b[1;32m/home/zacharykeskinen/Documents/uavsar_pytools/apertools.ipynb Cell 2'\u001b[0m in \u001b[0;36m<module>\u001b[0;34m\u001b[0m\n\u001b[0;32m----> <a href='vscode-notebook-cell:/home/zacharykeskinen/Documents/uavsar_pytools/apertools.ipynb#ch0000001?line=0'>1</a>\u001b[0m apertools\u001b[39m.\u001b[39;49msario\u001b[39m.\u001b[39;49mload(\u001b[39m'\u001b[39;49m\u001b[39m./data/imgs/bin_imgs/EcuVol_02004_13038-014_15024-005_0736d_s01_L090HH_01.amp1.grd\u001b[39;49m\u001b[39m'\u001b[39;49m, ann_info \u001b[39m=\u001b[39;49m \u001b[39m'\u001b[39;49m\u001b[39m./data/imgs/bin_imgs/EcuVol_02004_13038-014_15024-005_0736d_s01_L090HH_01.ann\u001b[39;49m\u001b[39m'\u001b[39;49m)\n",
      "File \u001b[0;32m~/anaconda3/envs/play/lib/python3.8/site-packages/apertools/sario.py:325\u001b[0m, in \u001b[0;36mload\u001b[0;34m(filename, arr, downsample, looks, platform, rsc_file, rsc_data, ann_info, rows, cols, use_gdal, verbose, **kwargs)\u001b[0m\n\u001b[1;32m    <a href='file:///~/anaconda3/envs/play/lib/python3.8/site-packages/apertools/sario.py?line=309'>310</a>\u001b[0m     \u001b[39mreturn\u001b[39;00m _take_looks(\n\u001b[1;32m    <a href='file:///~/anaconda3/envs/play/lib/python3.8/site-packages/apertools/sario.py?line=310'>311</a>\u001b[0m         load_binary_img(\n\u001b[1;32m    <a href='file:///~/anaconda3/envs/play/lib/python3.8/site-packages/apertools/sario.py?line=311'>312</a>\u001b[0m             filename,\n\u001b[0;32m   (...)\u001b[0m\n\u001b[1;32m    <a href='file:///~/anaconda3/envs/play/lib/python3.8/site-packages/apertools/sario.py?line=319'>320</a>\u001b[0m         \u001b[39m*\u001b[39mlooks,\n\u001b[1;32m    <a href='file:///~/anaconda3/envs/play/lib/python3.8/site-packages/apertools/sario.py?line=320'>321</a>\u001b[0m     )\n\u001b[1;32m    <a href='file:///~/anaconda3/envs/play/lib/python3.8/site-packages/apertools/sario.py?line=321'>322</a>\u001b[0m \u001b[39melse\u001b[39;00m:\n\u001b[1;32m    <a href='file:///~/anaconda3/envs/play/lib/python3.8/site-packages/apertools/sario.py?line=322'>323</a>\u001b[0m     \u001b[39m# Real float32\u001b[39;00m\n\u001b[1;32m    <a href='file:///~/anaconda3/envs/play/lib/python3.8/site-packages/apertools/sario.py?line=323'>324</a>\u001b[0m     \u001b[39mreturn\u001b[39;00m _take_looks(\n\u001b[0;32m--> <a href='file:///~/anaconda3/envs/play/lib/python3.8/site-packages/apertools/sario.py?line=324'>325</a>\u001b[0m         load_binary_img(\n\u001b[1;32m    <a href='file:///~/anaconda3/envs/play/lib/python3.8/site-packages/apertools/sario.py?line=325'>326</a>\u001b[0m             filename,\n\u001b[1;32m    <a href='file:///~/anaconda3/envs/play/lib/python3.8/site-packages/apertools/sario.py?line=326'>327</a>\u001b[0m             arr\u001b[39m=\u001b[39;49marr,\n\u001b[1;32m    <a href='file:///~/anaconda3/envs/play/lib/python3.8/site-packages/apertools/sario.py?line=327'>328</a>\u001b[0m             rows\u001b[39m=\u001b[39;49mrows,\n\u001b[1;32m    <a href='file:///~/anaconda3/envs/play/lib/python3.8/site-packages/apertools/sario.py?line=328'>329</a>\u001b[0m             cols\u001b[39m=\u001b[39;49mcols,\n\u001b[1;32m    <a href='file:///~/anaconda3/envs/play/lib/python3.8/site-packages/apertools/sario.py?line=329'>330</a>\u001b[0m             ann_info\u001b[39m=\u001b[39;49mann_info,\n\u001b[1;32m    <a href='file:///~/anaconda3/envs/play/lib/python3.8/site-packages/apertools/sario.py?line=330'>331</a>\u001b[0m             rsc_data\u001b[39m=\u001b[39;49mrsc_data,\n\u001b[1;32m    <a href='file:///~/anaconda3/envs/play/lib/python3.8/site-packages/apertools/sario.py?line=331'>332</a>\u001b[0m             dtype\u001b[39m=\u001b[39;49mFLOAT_32_LE,\n\u001b[1;32m    <a href='file:///~/anaconda3/envs/play/lib/python3.8/site-packages/apertools/sario.py?line=332'>333</a>\u001b[0m         ),\n\u001b[1;32m    <a href='file:///~/anaconda3/envs/play/lib/python3.8/site-packages/apertools/sario.py?line=333'>334</a>\u001b[0m         \u001b[39m*\u001b[39mlooks,\n\u001b[1;32m    <a href='file:///~/anaconda3/envs/play/lib/python3.8/site-packages/apertools/sario.py?line=334'>335</a>\u001b[0m     )\n",
      "File \u001b[0;32m~/anaconda3/envs/play/lib/python3.8/site-packages/apertools/sario.py:464\u001b[0m, in \u001b[0;36mload_binary_img\u001b[0;34m(filename, arr, rows, cols, ann_info, rsc_data, dtype)\u001b[0m\n\u001b[1;32m    <a href='file:///~/anaconda3/envs/play/lib/python3.8/site-packages/apertools/sario.py?line=443'>444</a>\u001b[0m \u001b[39mdef\u001b[39;00m \u001b[39mload_binary_img\u001b[39m(\n\u001b[1;32m    <a href='file:///~/anaconda3/envs/play/lib/python3.8/site-packages/apertools/sario.py?line=444'>445</a>\u001b[0m     filename, arr\u001b[39m=\u001b[39m\u001b[39mNone\u001b[39;00m, rows\u001b[39m=\u001b[39m\u001b[39mNone\u001b[39;00m, cols\u001b[39m=\u001b[39m\u001b[39mNone\u001b[39;00m, ann_info\u001b[39m=\u001b[39m\u001b[39mNone\u001b[39;00m, rsc_data\u001b[39m=\u001b[39m\u001b[39mNone\u001b[39;00m, dtype\u001b[39m=\u001b[39m\u001b[39mNone\u001b[39;00m\n\u001b[1;32m    <a href='file:///~/anaconda3/envs/play/lib/python3.8/site-packages/apertools/sario.py?line=445'>446</a>\u001b[0m ):\n\u001b[1;32m    <a href='file:///~/anaconda3/envs/play/lib/python3.8/site-packages/apertools/sario.py?line=446'>447</a>\u001b[0m     \u001b[39m\"\"\"Loads a binary image into a numpy array\u001b[39;00m\n\u001b[1;32m    <a href='file:///~/anaconda3/envs/play/lib/python3.8/site-packages/apertools/sario.py?line=447'>448</a>\u001b[0m \n\u001b[1;32m    <a href='file:///~/anaconda3/envs/play/lib/python3.8/site-packages/apertools/sario.py?line=448'>449</a>\u001b[0m \u001b[39m    Size given preference to `rows` and `cols`, or will parse from rsc_data/ann_info\u001b[39;00m\n\u001b[0;32m   (...)\u001b[0m\n\u001b[1;32m    <a href='file:///~/anaconda3/envs/play/lib/python3.8/site-packages/apertools/sario.py?line=461'>462</a>\u001b[0m \n\u001b[1;32m    <a href='file:///~/anaconda3/envs/play/lib/python3.8/site-packages/apertools/sario.py?line=462'>463</a>\u001b[0m \u001b[39m    \"\"\"\u001b[39;00m\n\u001b[0;32m--> <a href='file:///~/anaconda3/envs/play/lib/python3.8/site-packages/apertools/sario.py?line=463'>464</a>\u001b[0m     data, rows, cols \u001b[39m=\u001b[39m _load_binary1d(\n\u001b[1;32m    <a href='file:///~/anaconda3/envs/play/lib/python3.8/site-packages/apertools/sario.py?line=464'>465</a>\u001b[0m         filename,\n\u001b[1;32m    <a href='file:///~/anaconda3/envs/play/lib/python3.8/site-packages/apertools/sario.py?line=465'>466</a>\u001b[0m         dtype\u001b[39m=\u001b[39;49mdtype,\n\u001b[1;32m    <a href='file:///~/anaconda3/envs/play/lib/python3.8/site-packages/apertools/sario.py?line=466'>467</a>\u001b[0m         arr\u001b[39m=\u001b[39;49marr,\n\u001b[1;32m    <a href='file:///~/anaconda3/envs/play/lib/python3.8/site-packages/apertools/sario.py?line=467'>468</a>\u001b[0m         rows\u001b[39m=\u001b[39;49mrows,\n\u001b[1;32m    <a href='file:///~/anaconda3/envs/play/lib/python3.8/site-packages/apertools/sario.py?line=468'>469</a>\u001b[0m         cols\u001b[39m=\u001b[39;49mcols,\n\u001b[1;32m    <a href='file:///~/anaconda3/envs/play/lib/python3.8/site-packages/apertools/sario.py?line=469'>470</a>\u001b[0m         ann_info\u001b[39m=\u001b[39;49mann_info,\n\u001b[1;32m    <a href='file:///~/anaconda3/envs/play/lib/python3.8/site-packages/apertools/sario.py?line=470'>471</a>\u001b[0m         rsc_data\u001b[39m=\u001b[39;49mrsc_data,\n\u001b[1;32m    <a href='file:///~/anaconda3/envs/play/lib/python3.8/site-packages/apertools/sario.py?line=471'>472</a>\u001b[0m     )\n\u001b[1;32m    <a href='file:///~/anaconda3/envs/play/lib/python3.8/site-packages/apertools/sario.py?line=472'>473</a>\u001b[0m     \u001b[39mreturn\u001b[39;00m data\u001b[39m.\u001b[39mreshape([\u001b[39m-\u001b[39m\u001b[39m1\u001b[39m, cols])\n",
      "File \u001b[0;32m~/anaconda3/envs/play/lib/python3.8/site-packages/apertools/sario.py:437\u001b[0m, in \u001b[0;36m_load_binary1d\u001b[0;34m(filename, arr, dtype, rows, cols, ann_info, rsc_data)\u001b[0m\n\u001b[1;32m    <a href='file:///~/anaconda3/envs/play/lib/python3.8/site-packages/apertools/sario.py?line=433'>434</a>\u001b[0m \u001b[39melse\u001b[39;00m:\n\u001b[1;32m    <a href='file:///~/anaconda3/envs/play/lib/python3.8/site-packages/apertools/sario.py?line=434'>435</a>\u001b[0m     data \u001b[39m=\u001b[39m np\u001b[39m.\u001b[39mfromfile(filename, dtype)\n\u001b[0;32m--> <a href='file:///~/anaconda3/envs/play/lib/python3.8/site-packages/apertools/sario.py?line=436'>437</a>\u001b[0m rows, cols \u001b[39m=\u001b[39m _get_file_rows_cols(\n\u001b[1;32m    <a href='file:///~/anaconda3/envs/play/lib/python3.8/site-packages/apertools/sario.py?line=437'>438</a>\u001b[0m     rows\u001b[39m=\u001b[39;49mrows, cols\u001b[39m=\u001b[39;49mcols, ann_info\u001b[39m=\u001b[39;49mann_info, rsc_data\u001b[39m=\u001b[39;49mrsc_data\n\u001b[1;32m    <a href='file:///~/anaconda3/envs/play/lib/python3.8/site-packages/apertools/sario.py?line=438'>439</a>\u001b[0m )\n\u001b[1;32m    <a href='file:///~/anaconda3/envs/play/lib/python3.8/site-packages/apertools/sario.py?line=439'>440</a>\u001b[0m _assert_valid_size(data, cols)\n\u001b[1;32m    <a href='file:///~/anaconda3/envs/play/lib/python3.8/site-packages/apertools/sario.py?line=440'>441</a>\u001b[0m \u001b[39mreturn\u001b[39;00m data, rows, cols\n",
      "File \u001b[0;32m~/anaconda3/envs/play/lib/python3.8/site-packages/apertools/sario.py:409\u001b[0m, in \u001b[0;36m_get_file_rows_cols\u001b[0;34m(rows, cols, ann_info, rsc_data)\u001b[0m\n\u001b[1;32m    <a href='file:///~/anaconda3/envs/play/lib/python3.8/site-packages/apertools/sario.py?line=406'>407</a>\u001b[0m     \u001b[39mreturn\u001b[39;00m rsc_data[\u001b[39m\"\u001b[39m\u001b[39mfile_length\u001b[39m\u001b[39m\"\u001b[39m], rsc_data[\u001b[39m\"\u001b[39m\u001b[39mwidth\u001b[39m\u001b[39m\"\u001b[39m]\n\u001b[1;32m    <a href='file:///~/anaconda3/envs/play/lib/python3.8/site-packages/apertools/sario.py?line=407'>408</a>\u001b[0m \u001b[39melif\u001b[39;00m ann_info:\n\u001b[0;32m--> <a href='file:///~/anaconda3/envs/play/lib/python3.8/site-packages/apertools/sario.py?line=408'>409</a>\u001b[0m     \u001b[39mreturn\u001b[39;00m ann_info[\u001b[39m\"\u001b[39;49m\u001b[39mrows\u001b[39;49m\u001b[39m\"\u001b[39;49m], ann_info[\u001b[39m\"\u001b[39m\u001b[39mcols\u001b[39m\u001b[39m\"\u001b[39m]\n",
      "\u001b[0;31mTypeError\u001b[0m: string indices must be integers"
     ]
    }
   ],
   "source": [
    "apertools.sario.load('./data/imgs/bin_imgs/EcuVol_02004_13038-014_15024-005_0736d_s01_L090HH_01.amp1.grd', ann_info = './data/imgs/bin_imgs/EcuVol_02004_13038-014_15024-005_0736d_s01_L090HH_01.ann')"
   ]
  }
 ],
 "metadata": {
  "interpreter": {
   "hash": "02e29ac12c59cffbca4b44c5cf5fdb4bfe8c63eb8e2bb15e227b180052de7eef"
  },
  "kernelspec": {
   "display_name": "Python 3.8.12 ('play')",
   "language": "python",
   "name": "python3"
  },
  "language_info": {
   "codemirror_mode": {
    "name": "ipython",
    "version": 3
   },
   "file_extension": ".py",
   "mimetype": "text/x-python",
   "name": "python",
   "nbconvert_exporter": "python",
   "pygments_lexer": "ipython3",
   "version": "3.8.12"
  },
  "orig_nbformat": 4
 },
 "nbformat": 4,
 "nbformat_minor": 2
}
